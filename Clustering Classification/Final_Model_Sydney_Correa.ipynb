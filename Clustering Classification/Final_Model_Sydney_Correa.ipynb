{
 "cells": [
  {
   "cell_type": "markdown",
   "metadata": {},
   "source": [
    "#### Partners for this Homework are:\n",
    "Pinaki Bhagat   \n",
    "Sydney Correa\n",
    "\n",
    "Kaggle Team Name: 20178ml08\n",
    "\n",
    "Ideas tried in multiple subsmissions are outlined below:\n",
    "\n",
    "1. Combine x,y,z into a single point\n",
    "2. Look at subject vs phase vs output mapping and add additional features in the dataset\n",
    "3. Drop the following:    \n",
    "    a. Original \"subject\",\"phase\",\"state\",\"indicator\"   \n",
    "    b. Drop all 0 value featues   \n",
    "    c. Drop all highly correlated features (>.9)   \n",
    "4. Perform PCA\n",
    "5. Handle distribution of class weight in several ways:   \n",
    "    a. Use class weight parameter for providing weighted values for uneven output classes   \n",
    "    b. Use upsampling technique (SMOTE)   \n",
    "6. Use individual algorithms such as Random Forest and XGBoost to find out accuracy and AUC  \n",
    "    a. Hyper tuning of parameters  \n",
    "7. Use primary components from PCA to develop model\n",
    "8. Try Stacking with 4 initial algorithms and use final as XGBoost\n",
    "\n",
    "Though a host of ways have been explored and multiple submissions made, AUC never went up beyond 62%. Considering heavy work loads (year end approaching) we didn't get as much time as we would like to spend on this. Given the luxury of time, we would have tried several other methods like these below to better our predictions:  \n",
    "a. Upsampling of clusters   \n",
    "b. Few other ensemble methods    "
   ]
  },
  {
   "cell_type": "markdown",
   "metadata": {},
   "source": [
    "##### Import all python libraries"
   ]
  },
  {
   "cell_type": "code",
   "execution_count": 144,
   "metadata": {},
   "outputs": [],
   "source": [
    "# special IPython command to prepare the notebook for matplotlib\n",
    "%matplotlib inline \n",
    "\n",
    "import numpy as np\n",
    "import pandas as pd\n",
    "import scipy.stats as stats\n",
    "import matplotlib.pyplot as plt\n",
    "\n",
    "from datetime import datetime\n",
    "import requests\n",
    "from io import BytesIO\n",
    "import seaborn\n",
    "\n",
    "from sklearn.ensemble import RandomForestClassifier\n",
    "from sklearn.model_selection import cross_val_score\n",
    "from sklearn.metrics import accuracy_score\n",
    "from sklearn.model_selection import GridSearchCV\n",
    "from sklearn.metrics import f1_score\n",
    "from sklearn.model_selection import train_test_split\n",
    "from sklearn import metrics\n",
    "from sklearn.manifold import TSNE\n",
    "\n",
    "# special matplotlib command for global plot configuration\n",
    "from matplotlib import rcParams\n",
    "import matplotlib.cm as cm\n",
    "import matplotlib as mpl\n",
    "import matplotlib.pyplot as plt\n",
    "from mpl_toolkits.mplot3d import Axes3D\n",
    "from matplotlib.colors import ListedColormap\n",
    "\n",
    "import sklearn\n",
    "from sklearn import neighbors, decomposition, metrics, preprocessing\n",
    "from sklearn import model_selection\n",
    "from sklearn.model_selection import train_test_split\n",
    "from sklearn.model_selection import cross_val_score\n",
    "from sklearn import metrics\n",
    "\n",
    "from sklearn import decomposition, preprocessing\n",
    "from scipy.spatial import distance\n",
    "\n",
    "import math\n",
    "import warnings\n",
    "\n",
    "warnings.simplefilter(\"ignore\")"
   ]
  },
  {
   "cell_type": "markdown",
   "metadata": {},
   "source": [
    "##### Define function to combine x,y,z inputs and code categorical variables"
   ]
  },
  {
   "cell_type": "code",
   "execution_count": 2,
   "metadata": {},
   "outputs": [],
   "source": [
    "def sensor_combine(sensor_in):\n",
    "\n",
    "    #from scipy.spatial import distance\n",
    "    sensor_x = np.array\n",
    "    sensor_y = np.array\n",
    "    sensor_z = np.array\n",
    "\n",
    "    sensor_x = sensor_in.iloc[:,0:221].values\n",
    "    sensor_y = sensor_in.iloc[:,222:443].values\n",
    "    sensor_z = sensor_in.iloc[:,444:665].values\n",
    "    \n",
    "    sensor_xyz = np.sqrt(np.square(sensor_x) + np.square(sensor_y) + np.square(sensor_y))\n",
    "    \n",
    "    df_sensor_xyz = pd.DataFrame(data=(sensor_xyz))\n",
    "    \n",
    "    #adding categorical encoding\n",
    "    sensor_catg = sensor_in[['SubA_Phase1','SubI_Phase1','SubM_Phase1','SubA_Phase2','SubF_Phase2','SubI_Phase3','SubL_Phase3','SubL_Phase4','SubI_Phase4']]\n",
    "    \n",
    "    frames = [df_sensor_xyz, sensor_catg]\n",
    "    df_sensor_combine = pd.concat(frames, axis=1)\n",
    "      \n",
    "    return df_sensor_combine"
   ]
  },
  {
   "cell_type": "markdown",
   "metadata": {},
   "source": [
    "##### Download train dataset"
   ]
  },
  {
   "cell_type": "code",
   "execution_count": 163,
   "metadata": {},
   "outputs": [
    {
     "name": "stdout",
     "output_type": "stream",
     "text": [
      "(4584, 670)\n"
     ]
    }
   ],
   "source": [
    "url = 'C:\\\\Users\\\\corre\\\\Desktop\\\\CSCI E-82\\\\PS 4\\\\all\\\\train_data.csv'\n",
    "#url = 'C:\\\\Users\\\\pinakibhagat\\\\Downloads\\\\Personal\\\\Harvard\\\\CSCIE-82\\\\Homework 4\\\\all\\\\train_data.csv'\n",
    "sensor_train = pd.read_csv(url, sep=',')\n",
    "\n",
    "print(sensor_train.shape)"
   ]
  },
  {
   "cell_type": "markdown",
   "metadata": {},
   "source": [
    "##### Download test dataset"
   ]
  },
  {
   "cell_type": "code",
   "execution_count": 164,
   "metadata": {},
   "outputs": [
    {
     "data": {
      "text/html": [
       "<div>\n",
       "<style scoped>\n",
       "    .dataframe tbody tr th:only-of-type {\n",
       "        vertical-align: middle;\n",
       "    }\n",
       "\n",
       "    .dataframe tbody tr th {\n",
       "        vertical-align: top;\n",
       "    }\n",
       "\n",
       "    .dataframe thead th {\n",
       "        text-align: right;\n",
       "    }\n",
       "</style>\n",
       "<table border=\"1\" class=\"dataframe\">\n",
       "  <thead>\n",
       "    <tr style=\"text-align: right;\">\n",
       "      <th></th>\n",
       "      <th>x1</th>\n",
       "      <th>x2</th>\n",
       "      <th>x3</th>\n",
       "      <th>x4</th>\n",
       "      <th>x5</th>\n",
       "      <th>x6</th>\n",
       "      <th>x7</th>\n",
       "      <th>x8</th>\n",
       "      <th>x9</th>\n",
       "      <th>x10</th>\n",
       "      <th>...</th>\n",
       "      <th>z216</th>\n",
       "      <th>z217</th>\n",
       "      <th>z218</th>\n",
       "      <th>z219</th>\n",
       "      <th>z220</th>\n",
       "      <th>z221</th>\n",
       "      <th>z222</th>\n",
       "      <th>subject</th>\n",
       "      <th>phase</th>\n",
       "      <th>state</th>\n",
       "    </tr>\n",
       "  </thead>\n",
       "  <tbody>\n",
       "    <tr>\n",
       "      <th>0</th>\n",
       "      <td>0</td>\n",
       "      <td>0</td>\n",
       "      <td>0</td>\n",
       "      <td>1</td>\n",
       "      <td>4.665949</td>\n",
       "      <td>0.083412</td>\n",
       "      <td>-17.397081</td>\n",
       "      <td>0.067865</td>\n",
       "      <td>0.005895</td>\n",
       "      <td>0.000012</td>\n",
       "      <td>...</td>\n",
       "      <td>-0.017574</td>\n",
       "      <td>-0.004402</td>\n",
       "      <td>0.016508</td>\n",
       "      <td>-540.645279</td>\n",
       "      <td>-1511.001159</td>\n",
       "      <td>-1408.385976</td>\n",
       "      <td>-437.807290</td>\n",
       "      <td>E</td>\n",
       "      <td>4</td>\n",
       "      <td>D</td>\n",
       "    </tr>\n",
       "    <tr>\n",
       "      <th>1</th>\n",
       "      <td>0</td>\n",
       "      <td>0</td>\n",
       "      <td>0</td>\n",
       "      <td>0</td>\n",
       "      <td>-398.299487</td>\n",
       "      <td>0.784032</td>\n",
       "      <td>-10.785768</td>\n",
       "      <td>403.784446</td>\n",
       "      <td>0.070405</td>\n",
       "      <td>0.000180</td>\n",
       "      <td>...</td>\n",
       "      <td>0.029533</td>\n",
       "      <td>0.113692</td>\n",
       "      <td>0.088024</td>\n",
       "      <td>-3.140961</td>\n",
       "      <td>-0.658456</td>\n",
       "      <td>-0.140010</td>\n",
       "      <td>-0.011017</td>\n",
       "      <td>H</td>\n",
       "      <td>4</td>\n",
       "      <td>D</td>\n",
       "    </tr>\n",
       "    <tr>\n",
       "      <th>2</th>\n",
       "      <td>0</td>\n",
       "      <td>0</td>\n",
       "      <td>0</td>\n",
       "      <td>1</td>\n",
       "      <td>-380.902140</td>\n",
       "      <td>0.671324</td>\n",
       "      <td>-9.265829</td>\n",
       "      <td>361.841929</td>\n",
       "      <td>0.006937</td>\n",
       "      <td>0.000025</td>\n",
       "      <td>...</td>\n",
       "      <td>-0.006361</td>\n",
       "      <td>0.005852</td>\n",
       "      <td>-0.003745</td>\n",
       "      <td>-14.340790</td>\n",
       "      <td>4.182214</td>\n",
       "      <td>-0.549953</td>\n",
       "      <td>0.019553</td>\n",
       "      <td>C</td>\n",
       "      <td>4</td>\n",
       "      <td>B</td>\n",
       "    </tr>\n",
       "    <tr>\n",
       "      <th>3</th>\n",
       "      <td>0</td>\n",
       "      <td>0</td>\n",
       "      <td>0</td>\n",
       "      <td>1</td>\n",
       "      <td>-342.784123</td>\n",
       "      <td>0.469414</td>\n",
       "      <td>-8.044287</td>\n",
       "      <td>293.043601</td>\n",
       "      <td>0.007217</td>\n",
       "      <td>-0.000021</td>\n",
       "      <td>...</td>\n",
       "      <td>0.001950</td>\n",
       "      <td>-0.003426</td>\n",
       "      <td>-0.011191</td>\n",
       "      <td>251.659680</td>\n",
       "      <td>-441.129598</td>\n",
       "      <td>256.986592</td>\n",
       "      <td>-49.745359</td>\n",
       "      <td>H</td>\n",
       "      <td>1</td>\n",
       "      <td>C</td>\n",
       "    </tr>\n",
       "    <tr>\n",
       "      <th>4</th>\n",
       "      <td>0</td>\n",
       "      <td>0</td>\n",
       "      <td>0</td>\n",
       "      <td>1</td>\n",
       "      <td>6.248502</td>\n",
       "      <td>0.252336</td>\n",
       "      <td>-5.398056</td>\n",
       "      <td>0.110097</td>\n",
       "      <td>0.005573</td>\n",
       "      <td>0.000010</td>\n",
       "      <td>...</td>\n",
       "      <td>-0.001916</td>\n",
       "      <td>-0.015666</td>\n",
       "      <td>-0.015960</td>\n",
       "      <td>-137.847658</td>\n",
       "      <td>-377.758402</td>\n",
       "      <td>-345.673251</td>\n",
       "      <td>-105.633150</td>\n",
       "      <td>E</td>\n",
       "      <td>4</td>\n",
       "      <td>B</td>\n",
       "    </tr>\n",
       "  </tbody>\n",
       "</table>\n",
       "<p>5 rows × 669 columns</p>\n",
       "</div>"
      ],
      "text/plain": [
       "   x1  x2  x3  x4          x5        x6         x7          x8        x9  \\\n",
       "0   0   0   0   1    4.665949  0.083412 -17.397081    0.067865  0.005895   \n",
       "1   0   0   0   0 -398.299487  0.784032 -10.785768  403.784446  0.070405   \n",
       "2   0   0   0   1 -380.902140  0.671324  -9.265829  361.841929  0.006937   \n",
       "3   0   0   0   1 -342.784123  0.469414  -8.044287  293.043601  0.007217   \n",
       "4   0   0   0   1    6.248502  0.252336  -5.398056    0.110097  0.005573   \n",
       "\n",
       "        x10  ...        z216      z217      z218        z219         z220  \\\n",
       "0  0.000012  ...   -0.017574 -0.004402  0.016508 -540.645279 -1511.001159   \n",
       "1  0.000180  ...    0.029533  0.113692  0.088024   -3.140961    -0.658456   \n",
       "2  0.000025  ...   -0.006361  0.005852 -0.003745  -14.340790     4.182214   \n",
       "3 -0.000021  ...    0.001950 -0.003426 -0.011191  251.659680  -441.129598   \n",
       "4  0.000010  ...   -0.001916 -0.015666 -0.015960 -137.847658  -377.758402   \n",
       "\n",
       "          z221        z222  subject  phase  state  \n",
       "0 -1408.385976 -437.807290        E      4      D  \n",
       "1    -0.140010   -0.011017        H      4      D  \n",
       "2    -0.549953    0.019553        C      4      B  \n",
       "3   256.986592  -49.745359        H      1      C  \n",
       "4  -345.673251 -105.633150        E      4      B  \n",
       "\n",
       "[5 rows x 669 columns]"
      ]
     },
     "execution_count": 164,
     "metadata": {},
     "output_type": "execute_result"
    }
   ],
   "source": [
    "url1 = 'C:\\\\Users\\\\corre\\\\Desktop\\\\CSCI E-82\\\\PS 4\\\\all\\\\test_data.csv'\n",
    "#url1 = 'C:\\\\Users\\\\pinakibhagat\\\\Downloads\\\\Personal\\\\Harvard\\\\CSCIE-82\\\\Homework 4\\\\all\\\\test_data.csv'\n",
    "sensor_test = pd.read_csv(url1, sep=',')\n",
    "\n",
    "sensor_test.head()"
   ]
  },
  {
   "cell_type": "code",
   "execution_count": 156,
   "metadata": {},
   "outputs": [
    {
     "data": {
      "text/plain": [
       "<matplotlib.collections.PathCollection at 0x1681240ed30>"
      ]
     },
     "execution_count": 156,
     "metadata": {},
     "output_type": "execute_result"
    },
    {
     "data": {
      "image/png": "[encoded data removed]",
      "text/plain": [
       "<Figure size 432x288 with 1 Axes>"
      ]
     },
     "metadata": {},
     "output_type": "display_data"
    }
   ],
   "source": [
    "\n",
    "plt.scatter(sensor_train.x150, sensor_train.subject, alpha=0.8, edgecolor='k')"
   ]
  },
  {
   "cell_type": "markdown",
   "metadata": {},
   "source": [
    "##### Add indicator to combine and split later"
   ]
  },
  {
   "cell_type": "code",
   "execution_count": 165,
   "metadata": {},
   "outputs": [],
   "source": [
    "sensor_train['indicator']='train'\n",
    "sensor_test['indicator']='test'\n",
    "\n",
    "Y = sensor_train.output\n",
    "sensor_train.drop('output',inplace=True, axis=1)"
   ]
  },
  {
   "cell_type": "markdown",
   "metadata": {},
   "source": [
    "##### Combine test and train datasets"
   ]
  },
  {
   "cell_type": "code",
   "execution_count": 166,
   "metadata": {},
   "outputs": [
    {
     "data": {
      "text/plain": [
       "(6316, 670)"
      ]
     },
     "execution_count": 166,
     "metadata": {},
     "output_type": "execute_result"
    }
   ],
   "source": [
    "df_sensor_all = pd.concat([sensor_train,sensor_test])\n",
    "df_sensor_all.reset_index(inplace=True, drop=True) #drop index\n",
    "df_sensor_all.shape"
   ]
  },
  {
   "cell_type": "markdown",
   "metadata": {},
   "source": [
    "##### Create additional features based on outcome of feature engineering"
   ]
  },
  {
   "cell_type": "code",
   "execution_count": 167,
   "metadata": {},
   "outputs": [],
   "source": [
    "df_sensor_all['SubjectK'] = 0 \n",
    "df_sensor_all.loc[df_sensor_all[df_sensor_all.subject=='K'].index,'SubjectK']=1 "
   ]
  },
  {
   "cell_type": "code",
   "execution_count": 168,
   "metadata": {},
   "outputs": [],
   "source": [
    "#Step by step\n",
    "i1 = df_sensor_all[((df_sensor_all.phase==1) & (df_sensor_all.subject=='A'))].index\n",
    "arr = np.zeros(df_sensor_all.shape[0],dtype=int)\n",
    "arr[i1]=1\n",
    "df_sensor_all['SubA_Phase1']=arr\n",
    "\n",
    "#concise\n",
    "df_sensor_all['SubI_Phase1'] = 0\n",
    "df_sensor_all.loc[df_sensor_all[((df_sensor_all.phase==1) & (df_sensor_all.subject=='I'))].index,'SubI_Phase1'] = 1\n",
    "\n",
    "df_sensor_all['SubM_Phase1'] = 0\n",
    "df_sensor_all.loc[df_sensor_all[((df_sensor_all.phase==1) & (df_sensor_all.subject=='M'))].index,'SubM_Phase1'] = 1\n",
    "\n",
    "df_sensor_all['SubA_Phase2'] = 0\n",
    "df_sensor_all.loc[df_sensor_all[((df_sensor_all.phase==2) & (df_sensor_all.subject=='A'))].index,'SubA_Phase2'] = 1\n",
    "\n",
    "df_sensor_all['SubF_Phase2'] = 0\n",
    "df_sensor_all.loc[df_sensor_all[((df_sensor_all.phase==2) & (df_sensor_all.subject=='F'))].index,'SubF_Phase2'] = 1\n",
    "\n",
    "df_sensor_all['SubI_Phase3'] = 0\n",
    "df_sensor_all.loc[df_sensor_all[((df_sensor_all.phase==3) & (df_sensor_all.subject=='I'))].index,'SubI_Phase3'] = 1\n",
    "\n",
    "df_sensor_all['SubL_Phase3'] = 0\n",
    "df_sensor_all.loc[df_sensor_all[((df_sensor_all.phase==3) & (df_sensor_all.subject=='L'))].index,'SubL_Phase3'] = 1\n",
    "\n",
    "df_sensor_all['SubL_Phase4'] = 0\n",
    "df_sensor_all.loc[df_sensor_all[((df_sensor_all.phase==4) & (df_sensor_all.subject=='L'))].index,'SubL_Phase4'] = 1\n",
    "\n",
    "df_sensor_all['SubI_Phase4'] = 0\n",
    "df_sensor_all.loc[df_sensor_all[((df_sensor_all.phase==4) & (df_sensor_all.subject=='I'))].index,'SubI_Phase4'] = 1"
   ]
  },
  {
   "cell_type": "markdown",
   "metadata": {},
   "source": [
    "##### Split back into train and test datasets"
   ]
  },
  {
   "cell_type": "code",
   "execution_count": 169,
   "metadata": {},
   "outputs": [],
   "source": [
    "sensor_train_1 = df_sensor_all[df_sensor_all.indicator=='train']\n",
    "sensor_test_1 = df_sensor_all[df_sensor_all.indicator=='test']\n",
    "sensor_train_1.reset_index(inplace=True,drop=True)\n",
    "sensor_test_1.reset_index(inplace=True,drop=True)"
   ]
  },
  {
   "cell_type": "markdown",
   "metadata": {},
   "source": [
    "##### Drop the categorical old features"
   ]
  },
  {
   "cell_type": "code",
   "execution_count": 170,
   "metadata": {},
   "outputs": [],
   "source": [
    "sensor_train_1 = sensor_train_1.drop(['state','subject','phase','indicator'], axis=1)\n",
    "sensor_test_1 = sensor_test_1.drop(['state','subject','phase','indicator'], axis=1)"
   ]
  },
  {
   "cell_type": "markdown",
   "metadata": {},
   "source": [
    "##### Drop all features that are 0 and highly co-related"
   ]
  },
  {
   "cell_type": "code",
   "execution_count": 171,
   "metadata": {},
   "outputs": [
    {
     "data": {
      "text/html": [
       "<div>\n",
       "<style scoped>\n",
       "    .dataframe tbody tr th:only-of-type {\n",
       "        vertical-align: middle;\n",
       "    }\n",
       "\n",
       "    .dataframe tbody tr th {\n",
       "        vertical-align: top;\n",
       "    }\n",
       "\n",
       "    .dataframe thead th {\n",
       "        text-align: right;\n",
       "    }\n",
       "</style>\n",
       "<table border=\"1\" class=\"dataframe\">\n",
       "  <thead>\n",
       "    <tr style=\"text-align: right;\">\n",
       "      <th></th>\n",
       "      <th>0</th>\n",
       "      <th>1</th>\n",
       "      <th>2</th>\n",
       "      <th>3</th>\n",
       "      <th>4</th>\n",
       "      <th>5</th>\n",
       "      <th>6</th>\n",
       "      <th>7</th>\n",
       "      <th>8</th>\n",
       "      <th>9</th>\n",
       "      <th>...</th>\n",
       "      <th>220</th>\n",
       "      <th>SubA_Phase1</th>\n",
       "      <th>SubI_Phase1</th>\n",
       "      <th>SubM_Phase1</th>\n",
       "      <th>SubA_Phase2</th>\n",
       "      <th>SubF_Phase2</th>\n",
       "      <th>SubI_Phase3</th>\n",
       "      <th>SubL_Phase3</th>\n",
       "      <th>SubL_Phase4</th>\n",
       "      <th>SubI_Phase4</th>\n",
       "    </tr>\n",
       "  </thead>\n",
       "  <tbody>\n",
       "    <tr>\n",
       "      <th>0</th>\n",
       "      <td>0.0</td>\n",
       "      <td>0.0</td>\n",
       "      <td>0.0</td>\n",
       "      <td>1.000000</td>\n",
       "      <td>328.814989</td>\n",
       "      <td>5.436237</td>\n",
       "      <td>2.389354</td>\n",
       "      <td>261.207304</td>\n",
       "      <td>0.020474</td>\n",
       "      <td>0.000261</td>\n",
       "      <td>...</td>\n",
       "      <td>8.305806</td>\n",
       "      <td>0</td>\n",
       "      <td>0</td>\n",
       "      <td>0</td>\n",
       "      <td>0</td>\n",
       "      <td>0</td>\n",
       "      <td>0</td>\n",
       "      <td>0</td>\n",
       "      <td>0</td>\n",
       "      <td>0</td>\n",
       "    </tr>\n",
       "    <tr>\n",
       "      <th>1</th>\n",
       "      <td>0.0</td>\n",
       "      <td>0.0</td>\n",
       "      <td>0.0</td>\n",
       "      <td>1.000000</td>\n",
       "      <td>378.248867</td>\n",
       "      <td>2.546849</td>\n",
       "      <td>9.516636</td>\n",
       "      <td>355.357961</td>\n",
       "      <td>0.046146</td>\n",
       "      <td>0.000293</td>\n",
       "      <td>...</td>\n",
       "      <td>13.096989</td>\n",
       "      <td>0</td>\n",
       "      <td>0</td>\n",
       "      <td>0</td>\n",
       "      <td>0</td>\n",
       "      <td>0</td>\n",
       "      <td>0</td>\n",
       "      <td>0</td>\n",
       "      <td>0</td>\n",
       "      <td>0</td>\n",
       "    </tr>\n",
       "    <tr>\n",
       "      <th>2</th>\n",
       "      <td>0.0</td>\n",
       "      <td>0.0</td>\n",
       "      <td>0.0</td>\n",
       "      <td>0.000000</td>\n",
       "      <td>162.260349</td>\n",
       "      <td>4.374276</td>\n",
       "      <td>5.315971</td>\n",
       "      <td>61.553675</td>\n",
       "      <td>0.043671</td>\n",
       "      <td>0.000155</td>\n",
       "      <td>...</td>\n",
       "      <td>0.470832</td>\n",
       "      <td>0</td>\n",
       "      <td>0</td>\n",
       "      <td>0</td>\n",
       "      <td>0</td>\n",
       "      <td>0</td>\n",
       "      <td>0</td>\n",
       "      <td>0</td>\n",
       "      <td>0</td>\n",
       "      <td>0</td>\n",
       "    </tr>\n",
       "    <tr>\n",
       "      <th>3</th>\n",
       "      <td>0.0</td>\n",
       "      <td>0.0</td>\n",
       "      <td>0.0</td>\n",
       "      <td>1.732051</td>\n",
       "      <td>403.618768</td>\n",
       "      <td>4.776285</td>\n",
       "      <td>4.015523</td>\n",
       "      <td>383.280445</td>\n",
       "      <td>0.014961</td>\n",
       "      <td>0.000321</td>\n",
       "      <td>...</td>\n",
       "      <td>243.967800</td>\n",
       "      <td>0</td>\n",
       "      <td>0</td>\n",
       "      <td>0</td>\n",
       "      <td>0</td>\n",
       "      <td>0</td>\n",
       "      <td>0</td>\n",
       "      <td>0</td>\n",
       "      <td>0</td>\n",
       "      <td>0</td>\n",
       "    </tr>\n",
       "    <tr>\n",
       "      <th>4</th>\n",
       "      <td>0.0</td>\n",
       "      <td>0.0</td>\n",
       "      <td>0.0</td>\n",
       "      <td>1.414214</td>\n",
       "      <td>368.637520</td>\n",
       "      <td>6.583142</td>\n",
       "      <td>4.064181</td>\n",
       "      <td>330.977696</td>\n",
       "      <td>0.016822</td>\n",
       "      <td>0.000698</td>\n",
       "      <td>...</td>\n",
       "      <td>54.015844</td>\n",
       "      <td>0</td>\n",
       "      <td>0</td>\n",
       "      <td>0</td>\n",
       "      <td>0</td>\n",
       "      <td>0</td>\n",
       "      <td>0</td>\n",
       "      <td>0</td>\n",
       "      <td>0</td>\n",
       "      <td>0</td>\n",
       "    </tr>\n",
       "  </tbody>\n",
       "</table>\n",
       "<p>5 rows × 230 columns</p>\n",
       "</div>"
      ],
      "text/plain": [
       "     0    1    2         3           4         5         6           7  \\\n",
       "0  0.0  0.0  0.0  1.000000  328.814989  5.436237  2.389354  261.207304   \n",
       "1  0.0  0.0  0.0  1.000000  378.248867  2.546849  9.516636  355.357961   \n",
       "2  0.0  0.0  0.0  0.000000  162.260349  4.374276  5.315971   61.553675   \n",
       "3  0.0  0.0  0.0  1.732051  403.618768  4.776285  4.015523  383.280445   \n",
       "4  0.0  0.0  0.0  1.414214  368.637520  6.583142  4.064181  330.977696   \n",
       "\n",
       "          8         9     ...              220  SubA_Phase1  SubI_Phase1  \\\n",
       "0  0.020474  0.000261     ...         8.305806            0            0   \n",
       "1  0.046146  0.000293     ...        13.096989            0            0   \n",
       "2  0.043671  0.000155     ...         0.470832            0            0   \n",
       "3  0.014961  0.000321     ...       243.967800            0            0   \n",
       "4  0.016822  0.000698     ...        54.015844            0            0   \n",
       "\n",
       "   SubM_Phase1  SubA_Phase2  SubF_Phase2  SubI_Phase3  SubL_Phase3  \\\n",
       "0            0            0            0            0            0   \n",
       "1            0            0            0            0            0   \n",
       "2            0            0            0            0            0   \n",
       "3            0            0            0            0            0   \n",
       "4            0            0            0            0            0   \n",
       "\n",
       "   SubL_Phase4  SubI_Phase4  \n",
       "0            0            0  \n",
       "1            0            0  \n",
       "2            0            0  \n",
       "3            0            0  \n",
       "4            0            0  \n",
       "\n",
       "[5 rows x 230 columns]"
      ]
     },
     "execution_count": 171,
     "metadata": {},
     "output_type": "execute_result"
    }
   ],
   "source": [
    "df_sensor_train = sensor_combine(sensor_train_1)\n",
    "df_sensor_train.head()"
   ]
  },
  {
   "cell_type": "code",
   "execution_count": null,
   "metadata": {
    "collapsed": true
   },
   "outputs": [],
   "source": [
    "\n"
   ]
  },
  {
   "cell_type": "code",
   "execution_count": 172,
   "metadata": {},
   "outputs": [
    {
     "name": "stdout",
     "output_type": "stream",
     "text": [
      "(1732, 230)\n",
      "(6316, 230)\n",
      "(6316, 214)\n",
      "(4584, 105)\n",
      "(1732, 105)\n"
     ]
    },
    {
     "data": {
      "text/html": [
       "<div>\n",
       "<style scoped>\n",
       "    .dataframe tbody tr th:only-of-type {\n",
       "        vertical-align: middle;\n",
       "    }\n",
       "\n",
       "    .dataframe tbody tr th {\n",
       "        vertical-align: top;\n",
       "    }\n",
       "\n",
       "    .dataframe thead th {\n",
       "        text-align: right;\n",
       "    }\n",
       "</style>\n",
       "<table border=\"1\" class=\"dataframe\">\n",
       "  <thead>\n",
       "    <tr style=\"text-align: right;\">\n",
       "      <th></th>\n",
       "      <th>1</th>\n",
       "      <th>2</th>\n",
       "      <th>3</th>\n",
       "      <th>4</th>\n",
       "      <th>5</th>\n",
       "      <th>6</th>\n",
       "      <th>7</th>\n",
       "      <th>8</th>\n",
       "      <th>9</th>\n",
       "      <th>10</th>\n",
       "      <th>...</th>\n",
       "      <th>220</th>\n",
       "      <th>SubA_Phase1</th>\n",
       "      <th>SubI_Phase1</th>\n",
       "      <th>SubM_Phase1</th>\n",
       "      <th>SubA_Phase2</th>\n",
       "      <th>SubF_Phase2</th>\n",
       "      <th>SubI_Phase3</th>\n",
       "      <th>SubL_Phase3</th>\n",
       "      <th>SubL_Phase4</th>\n",
       "      <th>SubI_Phase4</th>\n",
       "    </tr>\n",
       "  </thead>\n",
       "  <tbody>\n",
       "    <tr>\n",
       "      <th>0</th>\n",
       "      <td>0.0</td>\n",
       "      <td>0.0</td>\n",
       "      <td>1.000000</td>\n",
       "      <td>328.814989</td>\n",
       "      <td>5.436237</td>\n",
       "      <td>2.389354</td>\n",
       "      <td>261.207304</td>\n",
       "      <td>0.020474</td>\n",
       "      <td>0.000261</td>\n",
       "      <td>0.000029</td>\n",
       "      <td>...</td>\n",
       "      <td>8.305806</td>\n",
       "      <td>0</td>\n",
       "      <td>0</td>\n",
       "      <td>0</td>\n",
       "      <td>0</td>\n",
       "      <td>0</td>\n",
       "      <td>0</td>\n",
       "      <td>0</td>\n",
       "      <td>0</td>\n",
       "      <td>0</td>\n",
       "    </tr>\n",
       "    <tr>\n",
       "      <th>1</th>\n",
       "      <td>0.0</td>\n",
       "      <td>0.0</td>\n",
       "      <td>1.000000</td>\n",
       "      <td>378.248867</td>\n",
       "      <td>2.546849</td>\n",
       "      <td>9.516636</td>\n",
       "      <td>355.357961</td>\n",
       "      <td>0.046146</td>\n",
       "      <td>0.000293</td>\n",
       "      <td>0.000025</td>\n",
       "      <td>...</td>\n",
       "      <td>13.096989</td>\n",
       "      <td>0</td>\n",
       "      <td>0</td>\n",
       "      <td>0</td>\n",
       "      <td>0</td>\n",
       "      <td>0</td>\n",
       "      <td>0</td>\n",
       "      <td>0</td>\n",
       "      <td>0</td>\n",
       "      <td>0</td>\n",
       "    </tr>\n",
       "    <tr>\n",
       "      <th>2</th>\n",
       "      <td>0.0</td>\n",
       "      <td>0.0</td>\n",
       "      <td>0.000000</td>\n",
       "      <td>162.260349</td>\n",
       "      <td>4.374276</td>\n",
       "      <td>5.315971</td>\n",
       "      <td>61.553675</td>\n",
       "      <td>0.043671</td>\n",
       "      <td>0.000155</td>\n",
       "      <td>0.000093</td>\n",
       "      <td>...</td>\n",
       "      <td>0.470832</td>\n",
       "      <td>0</td>\n",
       "      <td>0</td>\n",
       "      <td>0</td>\n",
       "      <td>0</td>\n",
       "      <td>0</td>\n",
       "      <td>0</td>\n",
       "      <td>0</td>\n",
       "      <td>0</td>\n",
       "      <td>0</td>\n",
       "    </tr>\n",
       "    <tr>\n",
       "      <th>3</th>\n",
       "      <td>0.0</td>\n",
       "      <td>0.0</td>\n",
       "      <td>1.732051</td>\n",
       "      <td>403.618768</td>\n",
       "      <td>4.776285</td>\n",
       "      <td>4.015523</td>\n",
       "      <td>383.280445</td>\n",
       "      <td>0.014961</td>\n",
       "      <td>0.000321</td>\n",
       "      <td>0.000030</td>\n",
       "      <td>...</td>\n",
       "      <td>243.967800</td>\n",
       "      <td>0</td>\n",
       "      <td>0</td>\n",
       "      <td>0</td>\n",
       "      <td>0</td>\n",
       "      <td>0</td>\n",
       "      <td>0</td>\n",
       "      <td>0</td>\n",
       "      <td>0</td>\n",
       "      <td>0</td>\n",
       "    </tr>\n",
       "    <tr>\n",
       "      <th>4</th>\n",
       "      <td>0.0</td>\n",
       "      <td>0.0</td>\n",
       "      <td>1.414214</td>\n",
       "      <td>368.637520</td>\n",
       "      <td>6.583142</td>\n",
       "      <td>4.064181</td>\n",
       "      <td>330.977696</td>\n",
       "      <td>0.016822</td>\n",
       "      <td>0.000698</td>\n",
       "      <td>0.000024</td>\n",
       "      <td>...</td>\n",
       "      <td>54.015844</td>\n",
       "      <td>0</td>\n",
       "      <td>0</td>\n",
       "      <td>0</td>\n",
       "      <td>0</td>\n",
       "      <td>0</td>\n",
       "      <td>0</td>\n",
       "      <td>0</td>\n",
       "      <td>0</td>\n",
       "      <td>0</td>\n",
       "    </tr>\n",
       "  </tbody>\n",
       "</table>\n",
       "<p>5 rows × 105 columns</p>\n",
       "</div>"
      ],
      "text/plain": [
       "     1    2         3           4         5         6           7         8  \\\n",
       "0  0.0  0.0  1.000000  328.814989  5.436237  2.389354  261.207304  0.020474   \n",
       "1  0.0  0.0  1.000000  378.248867  2.546849  9.516636  355.357961  0.046146   \n",
       "2  0.0  0.0  0.000000  162.260349  4.374276  5.315971   61.553675  0.043671   \n",
       "3  0.0  0.0  1.732051  403.618768  4.776285  4.015523  383.280445  0.014961   \n",
       "4  0.0  0.0  1.414214  368.637520  6.583142  4.064181  330.977696  0.016822   \n",
       "\n",
       "          9        10     ...              220  SubA_Phase1  SubI_Phase1  \\\n",
       "0  0.000261  0.000029     ...         8.305806            0            0   \n",
       "1  0.000293  0.000025     ...        13.096989            0            0   \n",
       "2  0.000155  0.000093     ...         0.470832            0            0   \n",
       "3  0.000321  0.000030     ...       243.967800            0            0   \n",
       "4  0.000698  0.000024     ...        54.015844            0            0   \n",
       "\n",
       "   SubM_Phase1  SubA_Phase2  SubF_Phase2  SubI_Phase3  SubL_Phase3  \\\n",
       "0            0            0            0            0            0   \n",
       "1            0            0            0            0            0   \n",
       "2            0            0            0            0            0   \n",
       "3            0            0            0            0            0   \n",
       "4            0            0            0            0            0   \n",
       "\n",
       "   SubL_Phase4  SubI_Phase4  \n",
       "0            0            0  \n",
       "1            0            0  \n",
       "2            0            0  \n",
       "3            0            0  \n",
       "4            0            0  \n",
       "\n",
       "[5 rows x 105 columns]"
      ]
     },
     "execution_count": 172,
     "metadata": {},
     "output_type": "execute_result"
    }
   ],
   "source": [
    "df_sensor_test = sensor_combine(sensor_test_1)\n",
    "print(df_sensor_test.shape)\n",
    "\n",
    "#Combine train and test to make a single dataframe\n",
    "frames = [df_sensor_train, df_sensor_test]\n",
    "df_sensor_all = pd.concat(frames, axis=0)\n",
    "print(df_sensor_all.shape)\n",
    "#Remove all columns that are zero\n",
    "df_sensor_all = df_sensor_all.loc[:, (df_sensor_all != 0).any(axis=0)]\n",
    "print(df_sensor_all.shape)\n",
    "\n",
    "#Remove all highly correlated features\n",
    "corr_matrix = df_sensor_all.corr().abs()\n",
    "# Select upper triangle of correlation matrix\n",
    "upper = corr_matrix.where(np.triu(np.ones(corr_matrix.shape), k=1).astype(np.bool))\n",
    "\n",
    "# Find index of feature columns with correlation greater than 0.90\n",
    "to_drop = [column for column in upper.columns if any(upper[column] > 0.90)]\n",
    "\n",
    "to_drop1=to_drop[1:110]\n",
    "\n",
    "# Drop features \n",
    "df_sensor_all = df_sensor_all.drop(df_sensor_all.columns[to_drop1], axis=1)\n",
    "\n",
    "df_sensor_train = df_sensor_all.iloc[:4584,:]\n",
    "print(df_sensor_train.shape)\n",
    "\n",
    "df_sensor_test = df_sensor_all.iloc[4584:,:]\n",
    "print(df_sensor_test.shape)\n",
    "\n",
    "X = df_sensor_train.values"
   ]
  },
  {
   "cell_type": "markdown",
   "metadata": {},
   "source": [
    "\n",
    "##### Perform PCA"
   ]
  },
  {
   "cell_type": "code",
   "execution_count": 13,
   "metadata": {},
   "outputs": [
    {
     "name": "stdout",
     "output_type": "stream",
     "text": [
      "[85.49867502 96.04306513 98.16691227 98.87239446 99.44205461 99.7388009\n",
      " 99.85919166 99.91912986 99.95739594 99.9729197 ]\n"
     ]
    },
    {
     "data": {
      "image/png": "[encoded data removed]",
      "text/plain": [
       "<Figure size 864x432 with 1 Axes>"
      ]
     },
     "metadata": {},
     "output_type": "display_data"
    },
    {
     "name": "stdout",
     "output_type": "stream",
     "text": [
      "The 1st Principal Component explains 85.5 % of the variance\n",
      "\n",
      "The 1st and 2nd Principal Components explain 96.0 % of the variance\n",
      "\n",
      "The 1st, 2nd and 3rd Principal Components explain 98.2 % of the variance\n",
      "\n",
      "The 1st, 2nd, 3rd and 4th Principal Components explain 98.9 % of the variance\n",
      "\n",
      "The first five Principal Components explain 99.4 % of the variance\n",
      "\n"
     ]
    }
   ],
   "source": [
    "pca = sklearn.decomposition.PCA(n_components=10).fit(df_sensor_train)\n",
    "\n",
    "coef_PCA = pca.transform(df_sensor_train)\n",
    "# we make a scree plot to see how many Principal Components to consider\n",
    "plt.figure(figsize=(12, 6))\n",
    "eig = pca.explained_variance_\n",
    "# and calculate the variance explained by the PC analysis\n",
    "var_exp = pca.explained_variance_ratio_.cumsum()*100.\n",
    "print(var_exp)\n",
    "\n",
    "plt.plot(np.arange(1,len(eig)+1), eig, color='r')\n",
    "plt.title('Scree plot for the PCA')\n",
    "plt.xlabel('Number of principal components')\n",
    "plt.ylabel('Eigenvalues')\n",
    "plt.show()\n",
    "\n",
    "print ('The 1st Principal Component explains {:03.1f} % of the variance\\n'.format(var_exp[0]))\n",
    "print ('The 1st and 2nd Principal Components explain {:03.1f} % of the variance\\n'.format(var_exp[1]))\n",
    "print ('The 1st, 2nd and 3rd Principal Components explain {:03.1f} % of the variance\\n'.format(var_exp[2]))\n",
    "print ('The 1st, 2nd, 3rd and 4th Principal Components explain {:03.1f} % of the variance\\n'.format(var_exp[3]))\n",
    "print ('The first five Principal Components explain {:03.1f} % of the variance\\n'.format(var_exp[4]))"
   ]
  },
  {
   "cell_type": "markdown",
   "metadata": {},
   "source": [
    "##### Break the dataframe into train, validation and test set"
   ]
  },
  {
   "cell_type": "code",
   "execution_count": 173,
   "metadata": {},
   "outputs": [],
   "source": [
    "X_train, X_test, y_train, y_test = train_test_split(X, Y, stratify = Y, test_size=0.25, random_state=101)"
   ]
  },
  {
   "cell_type": "code",
   "execution_count": 174,
   "metadata": {},
   "outputs": [
    {
     "data": {
      "text/html": [
       "<div>\n",
       "<style scoped>\n",
       "    .dataframe tbody tr th:only-of-type {\n",
       "        vertical-align: middle;\n",
       "    }\n",
       "\n",
       "    .dataframe tbody tr th {\n",
       "        vertical-align: top;\n",
       "    }\n",
       "\n",
       "    .dataframe thead th {\n",
       "        text-align: right;\n",
       "    }\n",
       "</style>\n",
       "<table border=\"1\" class=\"dataframe\">\n",
       "  <thead>\n",
       "    <tr style=\"text-align: right;\">\n",
       "      <th></th>\n",
       "      <th>1</th>\n",
       "      <th>2</th>\n",
       "      <th>3</th>\n",
       "      <th>4</th>\n",
       "      <th>5</th>\n",
       "      <th>6</th>\n",
       "      <th>7</th>\n",
       "      <th>8</th>\n",
       "      <th>9</th>\n",
       "      <th>10</th>\n",
       "      <th>...</th>\n",
       "      <th>220</th>\n",
       "      <th>SubA_Phase1</th>\n",
       "      <th>SubI_Phase1</th>\n",
       "      <th>SubM_Phase1</th>\n",
       "      <th>SubA_Phase2</th>\n",
       "      <th>SubF_Phase2</th>\n",
       "      <th>SubI_Phase3</th>\n",
       "      <th>SubL_Phase3</th>\n",
       "      <th>SubL_Phase4</th>\n",
       "      <th>SubI_Phase4</th>\n",
       "    </tr>\n",
       "  </thead>\n",
       "  <tbody>\n",
       "    <tr>\n",
       "      <th>0</th>\n",
       "      <td>0.0</td>\n",
       "      <td>0.0</td>\n",
       "      <td>1.000000</td>\n",
       "      <td>328.814989</td>\n",
       "      <td>5.436237</td>\n",
       "      <td>2.389354</td>\n",
       "      <td>261.207304</td>\n",
       "      <td>0.020474</td>\n",
       "      <td>0.000261</td>\n",
       "      <td>0.000029</td>\n",
       "      <td>...</td>\n",
       "      <td>8.305806</td>\n",
       "      <td>0</td>\n",
       "      <td>0</td>\n",
       "      <td>0</td>\n",
       "      <td>0</td>\n",
       "      <td>0</td>\n",
       "      <td>0</td>\n",
       "      <td>0</td>\n",
       "      <td>0</td>\n",
       "      <td>0</td>\n",
       "    </tr>\n",
       "    <tr>\n",
       "      <th>1</th>\n",
       "      <td>0.0</td>\n",
       "      <td>0.0</td>\n",
       "      <td>1.000000</td>\n",
       "      <td>378.248867</td>\n",
       "      <td>2.546849</td>\n",
       "      <td>9.516636</td>\n",
       "      <td>355.357961</td>\n",
       "      <td>0.046146</td>\n",
       "      <td>0.000293</td>\n",
       "      <td>0.000025</td>\n",
       "      <td>...</td>\n",
       "      <td>13.096989</td>\n",
       "      <td>0</td>\n",
       "      <td>0</td>\n",
       "      <td>0</td>\n",
       "      <td>0</td>\n",
       "      <td>0</td>\n",
       "      <td>0</td>\n",
       "      <td>0</td>\n",
       "      <td>0</td>\n",
       "      <td>0</td>\n",
       "    </tr>\n",
       "    <tr>\n",
       "      <th>2</th>\n",
       "      <td>0.0</td>\n",
       "      <td>0.0</td>\n",
       "      <td>0.000000</td>\n",
       "      <td>162.260349</td>\n",
       "      <td>4.374276</td>\n",
       "      <td>5.315971</td>\n",
       "      <td>61.553675</td>\n",
       "      <td>0.043671</td>\n",
       "      <td>0.000155</td>\n",
       "      <td>0.000093</td>\n",
       "      <td>...</td>\n",
       "      <td>0.470832</td>\n",
       "      <td>0</td>\n",
       "      <td>0</td>\n",
       "      <td>0</td>\n",
       "      <td>0</td>\n",
       "      <td>0</td>\n",
       "      <td>0</td>\n",
       "      <td>0</td>\n",
       "      <td>0</td>\n",
       "      <td>0</td>\n",
       "    </tr>\n",
       "    <tr>\n",
       "      <th>3</th>\n",
       "      <td>0.0</td>\n",
       "      <td>0.0</td>\n",
       "      <td>1.732051</td>\n",
       "      <td>403.618768</td>\n",
       "      <td>4.776285</td>\n",
       "      <td>4.015523</td>\n",
       "      <td>383.280445</td>\n",
       "      <td>0.014961</td>\n",
       "      <td>0.000321</td>\n",
       "      <td>0.000030</td>\n",
       "      <td>...</td>\n",
       "      <td>243.967800</td>\n",
       "      <td>0</td>\n",
       "      <td>0</td>\n",
       "      <td>0</td>\n",
       "      <td>0</td>\n",
       "      <td>0</td>\n",
       "      <td>0</td>\n",
       "      <td>0</td>\n",
       "      <td>0</td>\n",
       "      <td>0</td>\n",
       "    </tr>\n",
       "    <tr>\n",
       "      <th>4</th>\n",
       "      <td>0.0</td>\n",
       "      <td>0.0</td>\n",
       "      <td>1.414214</td>\n",
       "      <td>368.637520</td>\n",
       "      <td>6.583142</td>\n",
       "      <td>4.064181</td>\n",
       "      <td>330.977696</td>\n",
       "      <td>0.016822</td>\n",
       "      <td>0.000698</td>\n",
       "      <td>0.000024</td>\n",
       "      <td>...</td>\n",
       "      <td>54.015844</td>\n",
       "      <td>0</td>\n",
       "      <td>0</td>\n",
       "      <td>0</td>\n",
       "      <td>0</td>\n",
       "      <td>0</td>\n",
       "      <td>0</td>\n",
       "      <td>0</td>\n",
       "      <td>0</td>\n",
       "      <td>0</td>\n",
       "    </tr>\n",
       "  </tbody>\n",
       "</table>\n",
       "<p>5 rows × 105 columns</p>\n",
       "</div>"
      ],
      "text/plain": [
       "     1    2         3           4         5         6           7         8  \\\n",
       "0  0.0  0.0  1.000000  328.814989  5.436237  2.389354  261.207304  0.020474   \n",
       "1  0.0  0.0  1.000000  378.248867  2.546849  9.516636  355.357961  0.046146   \n",
       "2  0.0  0.0  0.000000  162.260349  4.374276  5.315971   61.553675  0.043671   \n",
       "3  0.0  0.0  1.732051  403.618768  4.776285  4.015523  383.280445  0.014961   \n",
       "4  0.0  0.0  1.414214  368.637520  6.583142  4.064181  330.977696  0.016822   \n",
       "\n",
       "          9        10     ...              220  SubA_Phase1  SubI_Phase1  \\\n",
       "0  0.000261  0.000029     ...         8.305806            0            0   \n",
       "1  0.000293  0.000025     ...        13.096989            0            0   \n",
       "2  0.000155  0.000093     ...         0.470832            0            0   \n",
       "3  0.000321  0.000030     ...       243.967800            0            0   \n",
       "4  0.000698  0.000024     ...        54.015844            0            0   \n",
       "\n",
       "   SubM_Phase1  SubA_Phase2  SubF_Phase2  SubI_Phase3  SubL_Phase3  \\\n",
       "0            0            0            0            0            0   \n",
       "1            0            0            0            0            0   \n",
       "2            0            0            0            0            0   \n",
       "3            0            0            0            0            0   \n",
       "4            0            0            0            0            0   \n",
       "\n",
       "   SubL_Phase4  SubI_Phase4  \n",
       "0            0            0  \n",
       "1            0            0  \n",
       "2            0            0  \n",
       "3            0            0  \n",
       "4            0            0  \n",
       "\n",
       "[5 rows x 105 columns]"
      ]
     },
     "execution_count": 174,
     "metadata": {},
     "output_type": "execute_result"
    }
   ],
   "source": [
    "df_sensor_train.head()"
   ]
  },
  {
   "cell_type": "markdown",
   "metadata": {},
   "source": [
    "##### Define function for confusion matrix"
   ]
  },
  {
   "cell_type": "code",
   "execution_count": 75,
   "metadata": {},
   "outputs": [],
   "source": [
    "def show_confusion_matrix(cm, target_names):\n",
    "    plt.figure(figsize=(5, 5))\n",
    "    plt.imshow(cm, interpolation='nearest', cmap=plt.cm.binary)\n",
    "    plt.title('Confusion matrix')\n",
    "    plt.set_cmap('Blues')\n",
    "    plt.colorbar()\n",
    "    tick_marks = np.arange(len(target_names))\n",
    "    plt.xticks(tick_marks, target_names, rotation=60)\n",
    "    plt.yticks(tick_marks, target_names)\n",
    "    plt.ylabel('True label')\n",
    "    plt.xlabel('Predicted label')\n",
    "    plt.show()"
   ]
  },
  {
   "cell_type": "markdown",
   "metadata": {},
   "source": [
    "##### Perform SMOTE for handling class imbalance"
   ]
  },
  {
   "cell_type": "code",
   "execution_count": 175,
   "metadata": {},
   "outputs": [],
   "source": [
    "import imblearn\n",
    "from imblearn.over_sampling import SMOTE\n",
    "from imblearn.over_sampling import SMOTENC\n"
   ]
  },
  {
   "cell_type": "code",
   "execution_count": 176,
   "metadata": {},
   "outputs": [
    {
     "name": "stdout",
     "output_type": "stream",
     "text": [
      "[ 533 2905]\n"
     ]
    }
   ],
   "source": [
    "#UP Sampling of minority class\n",
    "class_counts = np.bincount(y_train.astype(int))\n",
    "print(class_counts)"
   ]
  },
  {
   "cell_type": "code",
   "execution_count": 78,
   "metadata": {},
   "outputs": [
    {
     "data": {
      "text/plain": [
       "array([15.50319953, 84.49680047])"
      ]
     },
     "execution_count": 78,
     "metadata": {},
     "output_type": "execute_result"
    }
   ],
   "source": [
    "np.bincount(y_train.astype(int))*100/len(y_train)"
   ]
  },
  {
   "cell_type": "code",
   "execution_count": 178,
   "metadata": {},
   "outputs": [
    {
     "name": "stdout",
     "output_type": "stream",
     "text": [
      "(5810, 105)\n",
      "(5810,)\n"
     ]
    }
   ],
   "source": [
    "sm = SMOTENC(categorical_features=[97,98,99,100,101,102,103,104] , random_state=101)\n",
    "X_train_upsampled, y_train_upsampled = sm.fit_sample(X_train, y_train)\n",
    "np.bincount(y_train_upsampled.astype(int))\n",
    "np.bincount(y_train_upsampled.astype(int))*100/len(y_train_upsampled)\n",
    "print(X_train_upsampled.shape)\n",
    "print(y_train_upsampled.shape)"
   ]
  },
  {
   "cell_type": "code",
   "execution_count": 179,
   "metadata": {},
   "outputs": [],
   "source": [
    "X_train = X_train_upsampled\n",
    "y_train = y_train_upsampled"
   ]
  },
  {
   "cell_type": "code",
   "execution_count": 180,
   "metadata": {},
   "outputs": [
    {
     "data": {
      "text/plain": [
       "(1146, 105)"
      ]
     },
     "execution_count": 180,
     "metadata": {},
     "output_type": "execute_result"
    }
   ],
   "source": [
    "X_test.shape"
   ]
  },
  {
   "cell_type": "markdown",
   "metadata": {},
   "source": [
    "##### Stacking models for better performance"
   ]
  },
  {
   "cell_type": "code",
   "execution_count": 82,
   "metadata": {},
   "outputs": [],
   "source": [
    "# Some useful parameters which will come in handy later on\n",
    "from sklearn.model_selection import KFold\n",
    "ntrain = X_train.shape[0]\n",
    "ntest = X_test.shape[0]\n",
    "SEED = 0 # for reproducibility\n",
    "NFOLDS = 10 # set folds for out-of-fold prediction\n",
    "kf = KFold(n_splits= NFOLDS,shuffle=True, random_state=SEED)\n",
    "\n",
    "# Sklearn classifier\n",
    "class SklearnHelper:\n",
    "    def __init__(self, clf, seed=0, params=None):\n",
    "        params['random_state'] = seed\n",
    "        self.clf = clf(**params)\n",
    "\n",
    "    def train(self, X_train, y_train):\n",
    "        self.clf.fit(X_train, y_train)\n",
    "\n",
    "    def predict(self, x):\n",
    "        return self.clf.predict(X)\n",
    "    \n",
    "    def predict_proba(self, x):\n",
    "        return self.clf.predict_proba(x)\n",
    "    \n",
    "    def fit(self,x,y):\n",
    "        return self.clf.fit(x,y)\n",
    "    \n",
    "    def feature_importances(self,x,y):\n",
    "        print(self.clf.fit(x,y).feature_importances_)\n",
    "    "
   ]
  },
  {
   "cell_type": "markdown",
   "metadata": {},
   "source": [
    "##### Out of fold predictions"
   ]
  },
  {
   "cell_type": "code",
   "execution_count": 83,
   "metadata": {},
   "outputs": [],
   "source": [
    "def get_oof(clf, X_train, y_train, X_test):\n",
    "    oof_train = np.zeros((ntrain,))\n",
    "    oof_test = np.zeros((ntest,))\n",
    "    oof_test_skf = np.empty((NFOLDS, ntest))\n",
    "\n",
    "    for i, (train_index, test_index) in enumerate(kf.split(X_train)):\n",
    "        x_tr = X_train[train_index]\n",
    "        y_tr = y_train[train_index]\n",
    "        x_te = X_train[test_index]\n",
    "\n",
    "        clf.train(x_tr, y_tr)\n",
    "\n",
    "        oof_train[test_index] = clf.predict_proba(x_te)[:,1]\n",
    "        oof_test_skf[i, :] = clf.predict_proba(X_test)[:,1]\n",
    "\n",
    "    oof_test[:] = oof_test_skf.mean(axis=0)\n",
    "    return oof_train.reshape(-1, 1), oof_test.reshape(-1, 1)"
   ]
  },
  {
   "cell_type": "code",
   "execution_count": 84,
   "metadata": {},
   "outputs": [],
   "source": [
    "def get_oof_tst(clf, X_test):\n",
    "    #oof_test_skf1 = np.empty(ntest)\n",
    "\n",
    "    oof_test_skf = clf.predict_proba(X_test)[:,1]\n",
    "\n",
    "    return  oof_test_skf.reshape(-1, 1)"
   ]
  },
  {
   "cell_type": "markdown",
   "metadata": {},
   "source": [
    "##### Generate base first models"
   ]
  },
  {
   "cell_type": "code",
   "execution_count": 85,
   "metadata": {},
   "outputs": [],
   "source": [
    "# Put in our parameters for said classifiers\n",
    "# Random Forest parameters\n",
    "rf_params = {\n",
    "    'n_jobs': -1,\n",
    "    'n_estimators': 800,\n",
    "    'max_depth': 40,\n",
    "    'min_samples_leaf': 2,\n",
    "    'max_features' : 'sqrt',\n",
    "    'verbose': 0\n",
    "}\n",
    "\n",
    "# Extra Trees Parameters\n",
    "et_params = {\n",
    "    'n_jobs': -1,\n",
    "    'n_estimators':800,\n",
    "    'max_depth': 40,\n",
    "    'min_samples_leaf': 2,\n",
    "    'verbose': 0\n",
    "}\n",
    "\n",
    "# AdaBoost parameters\n",
    "ada_params = {\n",
    "    'n_estimators': 800,\n",
    "    'learning_rate' : 0.75\n",
    "}\n",
    "\n",
    "# Gradient Boosting parameters\n",
    "gb_params = {\n",
    "    'n_estimators': 800,\n",
    "    'max_depth': 40,\n",
    "    'min_samples_leaf': 2,\n",
    "    'verbose': 0\n",
    "}"
   ]
  },
  {
   "cell_type": "code",
   "execution_count": 86,
   "metadata": {},
   "outputs": [],
   "source": [
    "# Create 5 objects that represent our 4 models\n",
    "from sklearn.ensemble import (RandomForestClassifier, AdaBoostClassifier, \n",
    "                              GradientBoostingClassifier, ExtraTreesClassifier)\n",
    "rf = SklearnHelper(clf=RandomForestClassifier, seed=SEED, params=rf_params)\n",
    "et = SklearnHelper(clf=ExtraTreesClassifier, seed=SEED, params=et_params)\n",
    "ada = SklearnHelper(clf=AdaBoostClassifier, seed=SEED, params=ada_params)\n",
    "gb = SklearnHelper(clf=GradientBoostingClassifier, seed=SEED, params=gb_params)\n",
    "#svc = SklearnHelper(clf=SVC, seed=SEED, params=svc_params)"
   ]
  },
  {
   "cell_type": "code",
   "execution_count": 181,
   "metadata": {},
   "outputs": [
    {
     "name": "stdout",
     "output_type": "stream",
     "text": [
      "Training is complete\n"
     ]
    }
   ],
   "source": [
    "# Create our OOF train and test predictions. These base results will be used as new features\n",
    "et_oof_train, et_oof_test = get_oof(et, X_train, y_train, X_test) # Extra Trees\n",
    "rf_oof_train, rf_oof_test = get_oof(rf,X_train, y_train, X_test) # Random Forest\n",
    "ada_oof_train, ada_oof_test = get_oof(ada, X_train, y_train, X_test) # AdaBoost \n",
    "gb_oof_train, gb_oof_test = get_oof(gb,X_train, y_train, X_test) # Gradient Boost\n",
    "\n",
    "print(\"Training is complete\")"
   ]
  },
  {
   "cell_type": "code",
   "execution_count": 182,
   "metadata": {},
   "outputs": [
    {
     "name": "stdout",
     "output_type": "stream",
     "text": [
      "done\n"
     ]
    }
   ],
   "source": [
    "X_test=df_sensor_test\n",
    "\n",
    "# Create our OOF train and test predictions. These base results will be used as new features\n",
    "et_oof_test1 = get_oof_tst(et, X_test) # Extra Trees\n",
    "rf_oof_test1 = get_oof_tst(rf, X_test) # Extra Trees\n",
    "ada_oof_test1 = get_oof_tst(ada, X_test) # Extra Trees\n",
    "gb_oof_test1 = get_oof_tst(gb, X_test) # Extra Trees\n",
    "\n",
    "print(\"done\")"
   ]
  },
  {
   "cell_type": "markdown",
   "metadata": {},
   "source": [
    "##### Second level learning model via XGBoost"
   ]
  },
  {
   "cell_type": "code",
   "execution_count": 183,
   "metadata": {},
   "outputs": [
    {
     "data": {
      "text/html": [
       "<div>\n",
       "<style scoped>\n",
       "    .dataframe tbody tr th:only-of-type {\n",
       "        vertical-align: middle;\n",
       "    }\n",
       "\n",
       "    .dataframe tbody tr th {\n",
       "        vertical-align: top;\n",
       "    }\n",
       "\n",
       "    .dataframe thead th {\n",
       "        text-align: right;\n",
       "    }\n",
       "</style>\n",
       "<table border=\"1\" class=\"dataframe\">\n",
       "  <thead>\n",
       "    <tr style=\"text-align: right;\">\n",
       "      <th></th>\n",
       "      <th>RandomForest</th>\n",
       "      <th>ExtraTrees</th>\n",
       "      <th>AdaBoost</th>\n",
       "      <th>GradientBoost</th>\n",
       "    </tr>\n",
       "  </thead>\n",
       "  <tbody>\n",
       "    <tr>\n",
       "      <th>0</th>\n",
       "      <td>0.892583</td>\n",
       "      <td>0.900401</td>\n",
       "      <td>0.501692</td>\n",
       "      <td>0.999759</td>\n",
       "    </tr>\n",
       "    <tr>\n",
       "      <th>1</th>\n",
       "      <td>0.853813</td>\n",
       "      <td>0.937738</td>\n",
       "      <td>0.512393</td>\n",
       "      <td>0.999783</td>\n",
       "    </tr>\n",
       "    <tr>\n",
       "      <th>2</th>\n",
       "      <td>0.748003</td>\n",
       "      <td>0.766259</td>\n",
       "      <td>0.501474</td>\n",
       "      <td>0.962198</td>\n",
       "    </tr>\n",
       "    <tr>\n",
       "      <th>3</th>\n",
       "      <td>0.780903</td>\n",
       "      <td>0.751134</td>\n",
       "      <td>0.508783</td>\n",
       "      <td>0.786022</td>\n",
       "    </tr>\n",
       "    <tr>\n",
       "      <th>4</th>\n",
       "      <td>0.469836</td>\n",
       "      <td>0.545587</td>\n",
       "      <td>0.499978</td>\n",
       "      <td>0.899382</td>\n",
       "    </tr>\n",
       "  </tbody>\n",
       "</table>\n",
       "</div>"
      ],
      "text/plain": [
       "   RandomForest  ExtraTrees  AdaBoost  GradientBoost\n",
       "0      0.892583    0.900401  0.501692       0.999759\n",
       "1      0.853813    0.937738  0.512393       0.999783\n",
       "2      0.748003    0.766259  0.501474       0.962198\n",
       "3      0.780903    0.751134  0.508783       0.786022\n",
       "4      0.469836    0.545587  0.499978       0.899382"
      ]
     },
     "execution_count": 183,
     "metadata": {},
     "output_type": "execute_result"
    }
   ],
   "source": [
    "base_predictions_train = pd.DataFrame( {'RandomForest': rf_oof_train.ravel(),\n",
    "     'ExtraTrees': et_oof_train.ravel(),\n",
    "     'AdaBoost': ada_oof_train.ravel(),\n",
    "     'GradientBoost': gb_oof_train.ravel()\n",
    "     #'SVM': svc_oof_train.ravel()                                   \n",
    "    })\n",
    "\n",
    "base_predictions_train.sort_values\n",
    "base_predictions_train.head()"
   ]
  },
  {
   "cell_type": "markdown",
   "metadata": {},
   "source": [
    "##### Check model correlation"
   ]
  },
  {
   "cell_type": "code",
   "execution_count": 184,
   "metadata": {},
   "outputs": [
    {
     "data": {
      "text/html": [
       "<div>\n",
       "<style scoped>\n",
       "    .dataframe tbody tr th:only-of-type {\n",
       "        vertical-align: middle;\n",
       "    }\n",
       "\n",
       "    .dataframe tbody tr th {\n",
       "        vertical-align: top;\n",
       "    }\n",
       "\n",
       "    .dataframe thead th {\n",
       "        text-align: right;\n",
       "    }\n",
       "</style>\n",
       "<table border=\"1\" class=\"dataframe\">\n",
       "  <thead>\n",
       "    <tr style=\"text-align: right;\">\n",
       "      <th></th>\n",
       "      <th>RandomForest</th>\n",
       "      <th>ExtraTrees</th>\n",
       "      <th>AdaBoost</th>\n",
       "      <th>GradientBoost</th>\n",
       "    </tr>\n",
       "  </thead>\n",
       "  <tbody>\n",
       "    <tr>\n",
       "      <th>RandomForest</th>\n",
       "      <td>1.000000</td>\n",
       "      <td>0.993345</td>\n",
       "      <td>0.707293</td>\n",
       "      <td>0.969772</td>\n",
       "    </tr>\n",
       "    <tr>\n",
       "      <th>ExtraTrees</th>\n",
       "      <td>0.993345</td>\n",
       "      <td>1.000000</td>\n",
       "      <td>0.742625</td>\n",
       "      <td>0.972599</td>\n",
       "    </tr>\n",
       "    <tr>\n",
       "      <th>AdaBoost</th>\n",
       "      <td>0.707293</td>\n",
       "      <td>0.742625</td>\n",
       "      <td>1.000000</td>\n",
       "      <td>0.683580</td>\n",
       "    </tr>\n",
       "    <tr>\n",
       "      <th>GradientBoost</th>\n",
       "      <td>0.969772</td>\n",
       "      <td>0.972599</td>\n",
       "      <td>0.683580</td>\n",
       "      <td>1.000000</td>\n",
       "    </tr>\n",
       "  </tbody>\n",
       "</table>\n",
       "</div>"
      ],
      "text/plain": [
       "               RandomForest  ExtraTrees  AdaBoost  GradientBoost\n",
       "RandomForest       1.000000    0.993345  0.707293       0.969772\n",
       "ExtraTrees         0.993345    1.000000  0.742625       0.972599\n",
       "AdaBoost           0.707293    0.742625  1.000000       0.683580\n",
       "GradientBoost      0.969772    0.972599  0.683580       1.000000"
      ]
     },
     "execution_count": 184,
     "metadata": {},
     "output_type": "execute_result"
    }
   ],
   "source": [
    "base_predictions_train.corr()"
   ]
  },
  {
   "cell_type": "markdown",
   "metadata": {},
   "source": [
    "##### Second level learning via XGBoost"
   ]
  },
  {
   "cell_type": "code",
   "execution_count": 185,
   "metadata": {},
   "outputs": [],
   "source": [
    "X_train_1 = np.concatenate(( et_oof_train, rf_oof_train, ada_oof_train, gb_oof_train ), axis=1)\n",
    "X_test_1 = np.concatenate(( et_oof_test, rf_oof_test, ada_oof_test, gb_oof_test), axis=1)"
   ]
  },
  {
   "cell_type": "code",
   "execution_count": 186,
   "metadata": {},
   "outputs": [],
   "source": [
    "X_test_new = np.concatenate(( et_oof_test1, rf_oof_test1, ada_oof_test1, gb_oof_test1), axis=1)"
   ]
  },
  {
   "cell_type": "code",
   "execution_count": 187,
   "metadata": {},
   "outputs": [],
   "source": [
    "predictions_new = gbm.predict_proba(X_test_new)"
   ]
  },
  {
   "cell_type": "code",
   "execution_count": 188,
   "metadata": {},
   "outputs": [],
   "source": [
    "import xgboost as xgb\n",
    "gbm = xgb.XGBClassifier(\n",
    " learning_rate = 0.02,\n",
    " n_estimators= 800,\n",
    " max_depth= 40,  \n",
    " min_child_weight= 2,\n",
    " gamma=0.9,   #Regularization parameter                     \n",
    " subsample=0.8,\n",
    " colsample_bytree=0.8,\n",
    " objective= 'binary:logistic',\n",
    " nthread= -1,\n",
    " scale_pos_weight=1).fit(X_train_1, y_train)\n",
    "\n",
    "predictions = gbm.predict_proba(X_test_1)"
   ]
  },
  {
   "cell_type": "code",
   "execution_count": 189,
   "metadata": {},
   "outputs": [
    {
     "data": {
      "text/plain": [
       "0.8315881326352531"
      ]
     },
     "execution_count": 189,
     "metadata": {},
     "output_type": "execute_result"
    }
   ],
   "source": [
    "from sklearn.metrics import accuracy_score\n",
    "accuracy_score(y_test,predictions[:,1]>0.5)"
   ]
  },
  {
   "cell_type": "markdown",
   "metadata": {},
   "source": [
    "##### Check confusion matrix"
   ]
  },
  {
   "cell_type": "code",
   "execution_count": 190,
   "metadata": {},
   "outputs": [
    {
     "name": "stdout",
     "output_type": "stream",
     "text": [
      "Accuracy score:  83.16% \n",
      "\n",
      "Classification report: \n",
      "              precision    recall  f1-score   support\n",
      "\n",
      "    Output 0       0.38      0.13      0.19       178\n",
      "    Output 1       0.86      0.96      0.91       968\n",
      "\n",
      "   micro avg       0.83      0.83      0.83      1146\n",
      "   macro avg       0.62      0.54      0.55      1146\n",
      "weighted avg       0.78      0.83      0.80      1146\n",
      "\n",
      "Confusion_matrix: \n",
      " [[ 23 155]\n",
      " [ 38 930]]\n"
     ]
    },
    {
     "data": {
      "image/png": "[encoded data removed]",
      "text/plain": [
       "<Figure size 360x360 with 2 Axes>"
      ]
     },
     "metadata": {},
     "output_type": "display_data"
    }
   ],
   "source": [
    "targets =['Output 0','Output 1']\n",
    "\n",
    "score = metrics.accuracy_score(y_test,predictions[:,1]>0.5)\n",
    "print (\"Accuracy score:  {:.2%} \\n\".format(score))\n",
    "\n",
    "print (\"Classification report: \")\n",
    "print(metrics.classification_report(y_test,predictions[:,1]>0.5, target_names=targets))\n",
    "\n",
    "# Print out confusion matrix\n",
    "confusion_matrix = metrics.confusion_matrix(y_test,predictions[:,1]>0.5)\n",
    "print ('Confusion_matrix: \\n', confusion_matrix)\n",
    "show_confusion_matrix(confusion_matrix, targets)"
   ]
  },
  {
   "cell_type": "markdown",
   "metadata": {},
   "source": [
    "##### Generate ROC curve"
   ]
  },
  {
   "cell_type": "code",
   "execution_count": 191,
   "metadata": {},
   "outputs": [],
   "source": [
    "from sklearn.metrics import roc_curve, auc, precision_recall_curve, average_precision_score, roc_auc_score\n",
    "from sklearn.metrics import confusion_matrix, precision_recall_fscore_support, accuracy_score"
   ]
  },
  {
   "cell_type": "code",
   "execution_count": 192,
   "metadata": {},
   "outputs": [
    {
     "data": {
      "image/png": "[encoded data removed]",
      "text/plain": [
       "<Figure size 576x360 with 1 Axes>"
      ]
     },
     "metadata": {},
     "output_type": "display_data"
    }
   ],
   "source": [
    "plt.figure(figsize=(8,5))\n",
    "random_state = np.random.RandomState(37)\n",
    "mean_tpr = 0.0\n",
    "mean_fpr = np.linspace(0, 1, 100)\n",
    "all_tpr = []\n",
    "\n",
    "\n",
    "probas_ = gbm.fit(X_train_1,y_train).predict_proba(X_test_1)\n",
    "# Compute ROC curve and area the curve\n",
    "fpr, tpr, thresholds = roc_curve(y_test, probas_[:, 1])\n",
    "mean_tpr += np.interp(mean_fpr, fpr, tpr)\n",
    "mean_tpr[0] = 0.0\n",
    "roc_auc = auc(fpr, tpr)\n",
    "plt.plot(fpr, tpr, lw=1, label='ROC max depth: %d, estimators: %d \\n(AUC = %0.3f)' % (gbm.max_depth, gbm.n_estimators, roc_auc))\n",
    "\n",
    "\n",
    "plt.plot([0, 1], [0, 1], '--', color=(0.6, 0.6, 0.6), label='Luck')\n",
    "\n",
    "plt.xlim([-0.05, 1.05])\n",
    "plt.ylim([-0.05, 1.05])\n",
    "plt.xlabel('False Positive Rate')\n",
    "plt.ylabel('True Positive Rate')\n",
    "plt.title('ROC curve choice of kernel comparison')\n",
    "plt.legend(loc=\"lower right\")\n",
    "plt.show()"
   ]
  },
  {
   "cell_type": "markdown",
   "metadata": {},
   "source": [
    "##### Try individual XGBoost"
   ]
  },
  {
   "cell_type": "code",
   "execution_count": 99,
   "metadata": {},
   "outputs": [],
   "source": [
    "import xgboost as xgb\n",
    "gbm_1 = xgb.XGBClassifier(seed=101, n_estimators=1100 , max_depth=3, colsample_bylevel=0.8,\n",
    "                          colsample_bytree=0.7,learning_rate=0.01, reg_lambda=0.1 , \n",
    "                           scale_pos_weight = 0.18357862) #missing = -999\n"
   ]
  },
  {
   "cell_type": "code",
   "execution_count": 100,
   "metadata": {},
   "outputs": [
    {
     "data": {
      "text/plain": [
       "(4584, 676)"
      ]
     },
     "execution_count": 100,
     "metadata": {},
     "output_type": "execute_result"
    }
   ],
   "source": [
    "sensor_train_1.shape"
   ]
  },
  {
   "cell_type": "code",
   "execution_count": 101,
   "metadata": {},
   "outputs": [
    {
     "data": {
      "text/plain": [
       "(1732, 676)"
      ]
     },
     "execution_count": 101,
     "metadata": {},
     "output_type": "execute_result"
    }
   ],
   "source": [
    "sensor_test_1.shape"
   ]
  },
  {
   "cell_type": "code",
   "execution_count": 102,
   "metadata": {},
   "outputs": [
    {
     "data": {
      "text/plain": [
       "XGBClassifier(base_score=0.5, booster='gbtree', colsample_bylevel=0.8,\n",
       "       colsample_bytree=0.7, gamma=0, learning_rate=0.01, max_delta_step=0,\n",
       "       max_depth=3, min_child_weight=1, missing=None, n_estimators=1100,\n",
       "       n_jobs=1, nthread=None, objective='binary:logistic', random_state=0,\n",
       "       reg_alpha=0, reg_lambda=0.1, scale_pos_weight=0.18357862, seed=101,\n",
       "       silent=True, subsample=1)"
      ]
     },
     "execution_count": 102,
     "metadata": {},
     "output_type": "execute_result"
    }
   ],
   "source": [
    "gbm_1.fit(sensor_train_1,Y, eval_metric='auc')"
   ]
  },
  {
   "cell_type": "code",
   "execution_count": 104,
   "metadata": {},
   "outputs": [],
   "source": [
    "predictions_1 = gbm_1.predict_proba(sensor_test_1)"
   ]
  },
  {
   "cell_type": "markdown",
   "metadata": {},
   "source": [
    "##### Try individual RF"
   ]
  },
  {
   "cell_type": "code",
   "execution_count": 105,
   "metadata": {},
   "outputs": [
    {
     "data": {
      "text/plain": [
       "RandomForestClassifier(bootstrap=True, class_weight={0: 5, 1: 1},\n",
       "            criterion='gini', max_depth=40, max_features='auto',\n",
       "            max_leaf_nodes=None, min_impurity_decrease=0.0,\n",
       "            min_impurity_split=None, min_samples_leaf=1,\n",
       "            min_samples_split=2, min_weight_fraction_leaf=0.0,\n",
       "            n_estimators=800, n_jobs=None, oob_score=False,\n",
       "            random_state=101, verbose=0, warm_start=False)"
      ]
     },
     "execution_count": 105,
     "metadata": {},
     "output_type": "execute_result"
    }
   ],
   "source": [
    "clf_1 = RandomForestClassifier(n_estimators=800, max_depth=40, random_state=101,class_weight={0:5,1:1})\n",
    "clf_1.fit(X_train,y_train)"
   ]
  },
  {
   "cell_type": "markdown",
   "metadata": {},
   "source": [
    "##### Create confusion matrix for RF"
   ]
  },
  {
   "cell_type": "code",
   "execution_count": 106,
   "metadata": {
    "scrolled": true
   },
   "outputs": [
    {
     "ename": "ValueError",
     "evalue": "Found input variables with inconsistent numbers of samples: [1146, 1732]",
     "output_type": "error",
     "traceback": [
      "\u001b[1;31m---------------------------------------------------------------------------\u001b[0m",
      "\u001b[1;31mValueError\u001b[0m                                Traceback (most recent call last)",
      "\u001b[1;32m<ipython-input-106-f6672cfd483b>\u001b[0m in \u001b[0;36m<module>\u001b[1;34m()\u001b[0m\n\u001b[0;32m      1\u001b[0m \u001b[0mtargets\u001b[0m \u001b[1;33m=\u001b[0m\u001b[1;33m[\u001b[0m\u001b[1;34m'Output 0'\u001b[0m\u001b[1;33m,\u001b[0m\u001b[1;34m'Output 1'\u001b[0m\u001b[1;33m]\u001b[0m\u001b[1;33m\u001b[0m\u001b[0m\n\u001b[0;32m      2\u001b[0m \u001b[1;33m\u001b[0m\u001b[0m\n\u001b[1;32m----> 3\u001b[1;33m \u001b[0mscore\u001b[0m \u001b[1;33m=\u001b[0m \u001b[0mmetrics\u001b[0m\u001b[1;33m.\u001b[0m\u001b[0maccuracy_score\u001b[0m\u001b[1;33m(\u001b[0m\u001b[0my_test\u001b[0m\u001b[1;33m,\u001b[0m\u001b[0mclf_1\u001b[0m\u001b[1;33m.\u001b[0m\u001b[0mpredict\u001b[0m\u001b[1;33m(\u001b[0m\u001b[0mX_test\u001b[0m\u001b[1;33m)\u001b[0m\u001b[1;33m)\u001b[0m\u001b[1;33m\u001b[0m\u001b[0m\n\u001b[0m\u001b[0;32m      4\u001b[0m \u001b[0mprint\u001b[0m \u001b[1;33m(\u001b[0m\u001b[1;34m\"Accuracy score:  {:.2%} \\n\"\u001b[0m\u001b[1;33m.\u001b[0m\u001b[0mformat\u001b[0m\u001b[1;33m(\u001b[0m\u001b[0mscore\u001b[0m\u001b[1;33m)\u001b[0m\u001b[1;33m)\u001b[0m\u001b[1;33m\u001b[0m\u001b[0m\n\u001b[0;32m      5\u001b[0m \u001b[1;33m\u001b[0m\u001b[0m\n",
      "\u001b[1;32m~\\Anaconda3\\lib\\site-packages\\sklearn\\metrics\\classification.py\u001b[0m in \u001b[0;36maccuracy_score\u001b[1;34m(y_true, y_pred, normalize, sample_weight)\u001b[0m\n\u001b[0;32m    174\u001b[0m \u001b[1;33m\u001b[0m\u001b[0m\n\u001b[0;32m    175\u001b[0m     \u001b[1;31m# Compute accuracy for each possible representation\u001b[0m\u001b[1;33m\u001b[0m\u001b[1;33m\u001b[0m\u001b[0m\n\u001b[1;32m--> 176\u001b[1;33m     \u001b[0my_type\u001b[0m\u001b[1;33m,\u001b[0m \u001b[0my_true\u001b[0m\u001b[1;33m,\u001b[0m \u001b[0my_pred\u001b[0m \u001b[1;33m=\u001b[0m \u001b[0m_check_targets\u001b[0m\u001b[1;33m(\u001b[0m\u001b[0my_true\u001b[0m\u001b[1;33m,\u001b[0m \u001b[0my_pred\u001b[0m\u001b[1;33m)\u001b[0m\u001b[1;33m\u001b[0m\u001b[0m\n\u001b[0m\u001b[0;32m    177\u001b[0m     \u001b[0mcheck_consistent_length\u001b[0m\u001b[1;33m(\u001b[0m\u001b[0my_true\u001b[0m\u001b[1;33m,\u001b[0m \u001b[0my_pred\u001b[0m\u001b[1;33m,\u001b[0m \u001b[0msample_weight\u001b[0m\u001b[1;33m)\u001b[0m\u001b[1;33m\u001b[0m\u001b[0m\n\u001b[0;32m    178\u001b[0m     \u001b[1;32mif\u001b[0m \u001b[0my_type\u001b[0m\u001b[1;33m.\u001b[0m\u001b[0mstartswith\u001b[0m\u001b[1;33m(\u001b[0m\u001b[1;34m'multilabel'\u001b[0m\u001b[1;33m)\u001b[0m\u001b[1;33m:\u001b[0m\u001b[1;33m\u001b[0m\u001b[0m\n",
      "\u001b[1;32m~\\Anaconda3\\lib\\site-packages\\sklearn\\metrics\\classification.py\u001b[0m in \u001b[0;36m_check_targets\u001b[1;34m(y_true, y_pred)\u001b[0m\n\u001b[0;32m     69\u001b[0m     \u001b[0my_pred\u001b[0m \u001b[1;33m:\u001b[0m \u001b[0marray\u001b[0m \u001b[1;32mor\u001b[0m \u001b[0mindicator\u001b[0m \u001b[0mmatrix\u001b[0m\u001b[1;33m\u001b[0m\u001b[0m\n\u001b[0;32m     70\u001b[0m     \"\"\"\n\u001b[1;32m---> 71\u001b[1;33m     \u001b[0mcheck_consistent_length\u001b[0m\u001b[1;33m(\u001b[0m\u001b[0my_true\u001b[0m\u001b[1;33m,\u001b[0m \u001b[0my_pred\u001b[0m\u001b[1;33m)\u001b[0m\u001b[1;33m\u001b[0m\u001b[0m\n\u001b[0m\u001b[0;32m     72\u001b[0m     \u001b[0mtype_true\u001b[0m \u001b[1;33m=\u001b[0m \u001b[0mtype_of_target\u001b[0m\u001b[1;33m(\u001b[0m\u001b[0my_true\u001b[0m\u001b[1;33m)\u001b[0m\u001b[1;33m\u001b[0m\u001b[0m\n\u001b[0;32m     73\u001b[0m     \u001b[0mtype_pred\u001b[0m \u001b[1;33m=\u001b[0m \u001b[0mtype_of_target\u001b[0m\u001b[1;33m(\u001b[0m\u001b[0my_pred\u001b[0m\u001b[1;33m)\u001b[0m\u001b[1;33m\u001b[0m\u001b[0m\n",
      "\u001b[1;32m~\\Anaconda3\\lib\\site-packages\\sklearn\\utils\\validation.py\u001b[0m in \u001b[0;36mcheck_consistent_length\u001b[1;34m(*arrays)\u001b[0m\n\u001b[0;32m    228\u001b[0m     \u001b[1;32mif\u001b[0m \u001b[0mlen\u001b[0m\u001b[1;33m(\u001b[0m\u001b[0muniques\u001b[0m\u001b[1;33m)\u001b[0m \u001b[1;33m>\u001b[0m \u001b[1;36m1\u001b[0m\u001b[1;33m:\u001b[0m\u001b[1;33m\u001b[0m\u001b[0m\n\u001b[0;32m    229\u001b[0m         raise ValueError(\"Found input variables with inconsistent numbers of\"\n\u001b[1;32m--> 230\u001b[1;33m                          \" samples: %r\" % [int(l) for l in lengths])\n\u001b[0m\u001b[0;32m    231\u001b[0m \u001b[1;33m\u001b[0m\u001b[0m\n\u001b[0;32m    232\u001b[0m \u001b[1;33m\u001b[0m\u001b[0m\n",
      "\u001b[1;31mValueError\u001b[0m: Found input variables with inconsistent numbers of samples: [1146, 1732]"
     ]
    }
   ],
   "source": [
    "targets =['Output 0','Output 1']\n",
    "\n",
    "score = metrics.accuracy_score(y_test,clf_1.predict(X_test))\n",
    "print (\"Accuracy score:  {:.2%} \\n\".format(score))\n",
    "\n",
    "print (\"Classification report: \")\n",
    "print(metrics.classification_report(y_test,clf_1.predict(X_test), target_names=targets))\n",
    "\n",
    "# Print out confusion matrix\n",
    "confusion_matrix = metrics.confusion_matrix(y_test,clf_1.predict(X_test))\n",
    "print ('Confusion_matrix: \\n', confusion_matrix)\n",
    "show_confusion_matrix(confusion_matrix, targets)"
   ]
  },
  {
   "cell_type": "code",
   "execution_count": 193,
   "metadata": {},
   "outputs": [],
   "source": [
    "#X_pred = sensor_test_1.values\n",
    "\n",
    "#Y_pred= gbm_1.predict(X_pred)\n",
    "\n",
    "df_Y_pred = pd.DataFrame(data=predictions_new, columns=['out1', 'out2'])"
   ]
  },
  {
   "cell_type": "code",
   "execution_count": 108,
   "metadata": {},
   "outputs": [
    {
     "data": {
      "text/plain": [
       "array([[0.4904045 , 0.5095955 ],\n",
       "       [0.5777011 , 0.4222989 ],\n",
       "       [0.6102489 , 0.38975105],\n",
       "       [0.6057012 , 0.39429882],\n",
       "       [0.2561555 , 0.7438445 ],\n",
       "       [0.02539766, 0.97460234],\n",
       "       [0.6840428 , 0.3159572 ],\n",
       "       [0.60857296, 0.391427  ],\n",
       "       [0.30695695, 0.69304305],\n",
       "       [0.02710515, 0.97289485],\n",
       "       [0.4763841 , 0.5236159 ],\n",
       "       [0.5500987 , 0.44990128],\n",
       "       [0.14918739, 0.8508126 ],\n",
       "       [0.4430374 , 0.5569626 ],\n",
       "       [0.06553698, 0.934463  ],\n",
       "       [0.6105517 , 0.38944826],\n",
       "       [0.05023366, 0.94976634],\n",
       "       [0.36256105, 0.63743895],\n",
       "       [0.00775361, 0.9922464 ]], dtype=float32)"
      ]
     },
     "execution_count": 108,
     "metadata": {},
     "output_type": "execute_result"
    }
   ],
   "source": [
    "predictions_1[1:20]"
   ]
  },
  {
   "cell_type": "code",
   "execution_count": 194,
   "metadata": {},
   "outputs": [
    {
     "data": {
      "text/plain": [
       "0.7303664921465969"
      ]
     },
     "execution_count": 194,
     "metadata": {},
     "output_type": "execute_result"
    }
   ],
   "source": [
    "accuracy_score(Y, gbm_1.predict(sensor_train_1))"
   ]
  },
  {
   "cell_type": "code",
   "execution_count": 196,
   "metadata": {},
   "outputs": [],
   "source": [
    "#url2 = 'C:\\\\Users\\\\pinakibhagat\\\\Downloads\\\\Personal\\\\Harvard\\\\CSCIE-82\\\\Homework 4\\\\all\\\\ml08_submit_data_7thsub.csv'\n",
    "url2 = 'C:\\\\Users\\\\corre\\\\Desktop\\\\CSCI E-82\\\\PS 4\\\\all\\\\ml08_submit_data_13thsub.csv'\n",
    "\n",
    "df_Y_pred.to_csv(url2, sep=',')"
   ]
  },
  {
   "cell_type": "code",
   "execution_count": null,
   "metadata": {},
   "outputs": [],
   "source": []
  }
 ],
 "metadata": {
  "kernelspec": {
   "display_name": "Python 3",
   "language": "python",
   "name": "python3"
  },
  "language_info": {
   "codemirror_mode": {
    "name": "ipython",
    "version": 3
   },
   "file_extension": ".py",
   "mimetype": "text/x-python",
   "name": "python",
   "nbconvert_exporter": "python",
   "pygments_lexer": "ipython3",
   "version": "3.6.5"
  }
 },
 "nbformat": 4,
 "nbformat_minor": 2
}
