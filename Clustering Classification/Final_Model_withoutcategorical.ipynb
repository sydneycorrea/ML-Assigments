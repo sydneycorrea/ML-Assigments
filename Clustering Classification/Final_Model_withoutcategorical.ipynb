{
 "cells": [
  {
   "cell_type": "markdown",
   "metadata": {},
   "source": [
    "##### Import all python libraries"
   ]
  },
  {
   "cell_type": "code",
   "execution_count": 41,
   "metadata": {
    "collapsed": true
   },
   "outputs": [],
   "source": [
    "# special IPython command to prepare the notebook for matplotlib\n",
    "%matplotlib inline \n",
    "\n",
    "import numpy as np\n",
    "import pandas as pd\n",
    "import scipy.stats as stats\n",
    "import matplotlib.pyplot as plt\n",
    "\n",
    "from datetime import datetime\n",
    "import requests\n",
    "from io import BytesIO\n",
    "import seaborn\n",
    "\n",
    "from sklearn.ensemble import RandomForestClassifier\n",
    "from sklearn.model_selection import cross_val_score\n",
    "from sklearn.metrics import accuracy_score\n",
    "from sklearn.model_selection import GridSearchCV\n",
    "from sklearn.metrics import f1_score\n",
    "from sklearn.model_selection import train_test_split\n",
    "from sklearn import metrics\n",
    "\n",
    "\n",
    "# special matplotlib command for global plot configuration\n",
    "from matplotlib import rcParams\n",
    "import matplotlib.cm as cm\n",
    "import matplotlib as mpl\n",
    "import matplotlib.pyplot as plt\n",
    "from mpl_toolkits.mplot3d import Axes3D\n",
    "from matplotlib.colors import ListedColormap\n",
    "\n",
    "import sklearn\n",
    "from sklearn import neighbors, decomposition, metrics, preprocessing\n",
    "from sklearn import model_selection\n",
    "from sklearn.model_selection import train_test_split\n",
    "from sklearn.model_selection import cross_val_score\n",
    "from sklearn import metrics\n",
    "\n",
    "from sklearn import decomposition, preprocessing\n",
    "from scipy.spatial import distance\n",
    "\n",
    "import math\n",
    "import warnings\n",
    "\n",
    "warnings.simplefilter(\"ignore\")"
   ]
  },
  {
   "cell_type": "markdown",
   "metadata": {},
   "source": [
    "##### Define function to combine x,y,z inputs and code categorical variables"
   ]
  },
  {
   "cell_type": "code",
   "execution_count": 52,
   "metadata": {
    "collapsed": true
   },
   "outputs": [],
   "source": [
    "def sensor_combine(sensor_in):\n",
    "\n",
    "    #from scipy.spatial import distance\n",
    "    sensor_x = np.array\n",
    "    sensor_y = np.array\n",
    "    sensor_z = np.array\n",
    "\n",
    "    sensor_x = sensor_in.iloc[:,0:221].values\n",
    "    sensor_y = sensor_in.iloc[:,222:443].values\n",
    "    sensor_z = sensor_in.iloc[:,444:665].values\n",
    "    \n",
    "    sensor_xyz = np.sqrt(np.square(sensor_x) + np.square(sensor_y) + np.square(sensor_y))\n",
    "    \n",
    "    df_sensor_xyz = pd.DataFrame(data=(sensor_xyz))\n",
    "    \n",
    "    #adding categorical encoding\n",
    "    sensor_catg = sensor_in[['SubA_Phase1','SubI_Phase1','SubM_Phase1','SubA_Phase2',\n",
    "                            'SubF_Phase2','SubI_Phase3','SubL_Phase3','SubL_Phase4','SubI_Phase4']]\n",
    "    \n",
    "    frames = [df_sensor_xyz, sensor_catg]\n",
    "    df_sensor_combine = pd.concat(frames, axis=1)\n",
    "      \n",
    "    return df_sensor_combine"
   ]
  },
  {
   "cell_type": "markdown",
   "metadata": {},
   "source": [
    "##### Download train dataset"
   ]
  },
  {
   "cell_type": "code",
   "execution_count": 43,
   "metadata": {},
   "outputs": [
    {
     "name": "stdout",
     "output_type": "stream",
     "text": [
      "(4584, 670)\n"
     ]
    }
   ],
   "source": [
    "#url = 'C:\\\\Users\\\\corre\\\\Desktop\\\\CSCI E-82\\\\PS 4\\\\all\\\\train_data.csv'\n",
    "url = 'C:\\\\Users\\\\pinakibhagat\\\\Downloads\\\\Personal\\\\Harvard\\\\CSCIE-82\\\\Homework 4\\\\all\\\\train_data.csv'\n",
    "sensor_train = pd.read_csv(url, sep=',')\n",
    "\n",
    "print(sensor_train.shape)"
   ]
  },
  {
   "cell_type": "markdown",
   "metadata": {},
   "source": [
    "##### Download test dataset"
   ]
  },
  {
   "cell_type": "code",
   "execution_count": 44,
   "metadata": {},
   "outputs": [
    {
     "name": "stdout",
     "output_type": "stream",
     "text": [
      "(1732, 669)\n"
     ]
    }
   ],
   "source": [
    "#url1 = 'C:\\\\Users\\\\corre\\\\Desktop\\\\CSCI E-82\\\\PS 4\\\\all\\\\test_data.csv'\n",
    "url1 = 'C:\\\\Users\\\\pinakibhagat\\\\Downloads\\\\Personal\\\\Harvard\\\\CSCIE-82\\\\Homework 4\\\\all\\\\test_data.csv'\n",
    "sensor_test = pd.read_csv(url1, sep=',')\n",
    "\n",
    "print(sensor_test.shape)"
   ]
  },
  {
   "cell_type": "markdown",
   "metadata": {},
   "source": [
    "##### Add indicator to combine and split later"
   ]
  },
  {
   "cell_type": "code",
   "execution_count": 45,
   "metadata": {
    "collapsed": true
   },
   "outputs": [],
   "source": [
    "sensor_train['indicator']='train'\n",
    "sensor_test['indicator']='test'\n",
    "\n",
    "Y = sensor_train.output\n",
    "sensor_train.drop('output',inplace=True, axis=1)"
   ]
  },
  {
   "cell_type": "markdown",
   "metadata": {},
   "source": [
    "##### Combine test and train datasets"
   ]
  },
  {
   "cell_type": "code",
   "execution_count": 46,
   "metadata": {},
   "outputs": [
    {
     "data": {
      "text/plain": [
       "(6316, 670)"
      ]
     },
     "execution_count": 46,
     "metadata": {},
     "output_type": "execute_result"
    }
   ],
   "source": [
    "df_sensor_all = pd.concat([sensor_train,sensor_test])\n",
    "df_sensor_all.reset_index(inplace=True, drop=True) #drop index\n",
    "df_sensor_all.shape"
   ]
  },
  {
   "cell_type": "markdown",
   "metadata": {},
   "source": [
    "##### Create additional features based on outcome of feature engineering"
   ]
  },
  {
   "cell_type": "code",
   "execution_count": 47,
   "metadata": {
    "collapsed": true
   },
   "outputs": [],
   "source": [
    "df_sensor_all['SubjectK'] = 0 \n",
    "df_sensor_all.loc[df_sensor_all[df_sensor_all.subject=='K'].index,'SubjectK']=1 "
   ]
  },
  {
   "cell_type": "code",
   "execution_count": 48,
   "metadata": {
    "collapsed": true
   },
   "outputs": [],
   "source": [
    "#Step by step\n",
    "i1 = df_sensor_all[((df_sensor_all.phase==1) & (df_sensor_all.subject=='A'))].index\n",
    "arr = np.zeros(df_sensor_all.shape[0],dtype=int)\n",
    "arr[i1]=1\n",
    "df_sensor_all['SubA_Phase1']=arr\n",
    "\n",
    "#concise\n",
    "df_sensor_all['SubI_Phase1'] = 0\n",
    "df_sensor_all.loc[df_sensor_all[((df_sensor_all.phase==1) & (df_sensor_all.subject=='I'))].index,'SubI_Phase1'] = 1\n",
    "\n",
    "df_sensor_all['SubM_Phase1'] = 0\n",
    "df_sensor_all.loc[df_sensor_all[((df_sensor_all.phase==1) & (df_sensor_all.subject=='M'))].index,'SubM_Phase1'] = 1\n",
    "\n",
    "df_sensor_all['SubA_Phase2'] = 0\n",
    "df_sensor_all.loc[df_sensor_all[((df_sensor_all.phase==2) & (df_sensor_all.subject=='A'))].index,'SubA_Phase2'] = 1\n",
    "\n",
    "df_sensor_all['SubF_Phase2'] = 0\n",
    "df_sensor_all.loc[df_sensor_all[((df_sensor_all.phase==2) & (df_sensor_all.subject=='F'))].index,'SubF_Phase2'] = 1\n",
    "\n",
    "df_sensor_all['SubI_Phase3'] = 0\n",
    "df_sensor_all.loc[df_sensor_all[((df_sensor_all.phase==3) & (df_sensor_all.subject=='I'))].index,'SubI_Phase3'] = 1\n",
    "\n",
    "df_sensor_all['SubL_Phase3'] = 0\n",
    "df_sensor_all.loc[df_sensor_all[((df_sensor_all.phase==3) & (df_sensor_all.subject=='L'))].index,'SubL_Phase3'] = 1\n",
    "\n",
    "df_sensor_all['SubL_Phase4'] = 0\n",
    "df_sensor_all.loc[df_sensor_all[((df_sensor_all.phase==4) & (df_sensor_all.subject=='L'))].index,'SubL_Phase4'] = 1\n",
    "\n",
    "df_sensor_all['SubI_Phase4'] = 0\n",
    "df_sensor_all.loc[df_sensor_all[((df_sensor_all.phase==4) & (df_sensor_all.subject=='I'))].index,'SubI_Phase4'] = 1"
   ]
  },
  {
   "cell_type": "markdown",
   "metadata": {},
   "source": [
    "##### Split back into train and test datasets"
   ]
  },
  {
   "cell_type": "code",
   "execution_count": 49,
   "metadata": {
    "collapsed": true
   },
   "outputs": [],
   "source": [
    "sensor_train_1 = df_sensor_all[df_sensor_all.indicator=='train']\n",
    "sensor_test_1 = df_sensor_all[df_sensor_all.indicator=='test']\n",
    "sensor_train_1.reset_index(inplace=True,drop=True)\n",
    "sensor_test_1.reset_index(inplace=True,drop=True)"
   ]
  },
  {
   "cell_type": "markdown",
   "metadata": {},
   "source": [
    "##### Drop the categorical old features"
   ]
  },
  {
   "cell_type": "code",
   "execution_count": 50,
   "metadata": {
    "collapsed": true
   },
   "outputs": [],
   "source": [
    "sensor_train_1 = sensor_train_1.drop(['state','subject','phase','indicator'], axis=1)\n",
    "sensor_test_1 = sensor_test_1.drop(['state','subject','phase','indicator'], axis=1)"
   ]
  },
  {
   "cell_type": "markdown",
   "metadata": {},
   "source": [
    "##### Drop all features that are 0 and highly co-related"
   ]
  },
  {
   "cell_type": "code",
   "execution_count": 53,
   "metadata": {},
   "outputs": [
    {
     "name": "stdout",
     "output_type": "stream",
     "text": [
      "(4584, 230)\n"
     ]
    }
   ],
   "source": [
    "df_sensor_train = sensor_combine(sensor_train_1)\n",
    "print(df_sensor_train.shape)"
   ]
  },
  {
   "cell_type": "code",
   "execution_count": 54,
   "metadata": {},
   "outputs": [
    {
     "name": "stdout",
     "output_type": "stream",
     "text": [
      "(1732, 230)\n",
      "(6316, 230)\n",
      "(6316, 214)\n",
      "(4584, 105)\n",
      "(1732, 105)\n"
     ]
    }
   ],
   "source": [
    "df_sensor_test = sensor_combine(sensor_test_1)\n",
    "print(df_sensor_test.shape)\n",
    "\n",
    "#Combine train and test to make a single dataframe\n",
    "frames = [df_sensor_train, df_sensor_test]\n",
    "df_sensor_all = pd.concat(frames)\n",
    "print(df_sensor_all.shape)\n",
    "#Remove all columns that are zero\n",
    "df_sensor_all = df_sensor_all.loc[:, (df_sensor_all != 0).any(axis=0)]\n",
    "print(df_sensor_all.shape)\n",
    "\n",
    "#Remove all highly correlated features\n",
    "corr_matrix = df_sensor_all.corr().abs()\n",
    "# Select upper triangle of correlation matrix\n",
    "upper = corr_matrix.where(np.triu(np.ones(corr_matrix.shape), k=1).astype(np.bool))\n",
    "\n",
    "# Find index of feature columns with correlation greater than 0.90\n",
    "to_drop = [column for column in upper.columns if any(upper[column] > 0.90)]\n",
    "\n",
    "to_drop1=to_drop[1:110]\n",
    "\n",
    "# Drop features \n",
    "df_sensor_all = df_sensor_all.drop(df_sensor_all.columns[to_drop1], axis=1)\n",
    "\n",
    "df_sensor_train = df_sensor_all.iloc[:4584,:]\n",
    "print(df_sensor_train.shape)\n",
    "\n",
    "df_sensor_test = df_sensor_all.iloc[4584:,:]\n",
    "print(df_sensor_test.shape)\n",
    "\n",
    "X = df_sensor_train.values"
   ]
  },
  {
   "cell_type": "markdown",
   "metadata": {},
   "source": [
    "##### Perform PCA"
   ]
  },
  {
   "cell_type": "code",
   "execution_count": 55,
   "metadata": {},
   "outputs": [
    {
     "name": "stdout",
     "output_type": "stream",
     "text": [
      "[ 85.49867502  96.04306513  98.16691227  98.87239446  99.44205461\n",
      "  99.7388009   99.85919166  99.91912986  99.95739594  99.9729197 ]\n"
     ]
    },
    {
     "data": {
      "image/png": "[encoded data removed]",
      "text/plain": [
       "<matplotlib.figure.Figure at 0x1903b3a358>"
      ]
     },
     "metadata": {},
     "output_type": "display_data"
    },
    {
     "name": "stdout",
     "output_type": "stream",
     "text": [
      "The 1st Principal Component explains 85.5 % of the variance\n",
      "\n",
      "The 1st and 2nd Principal Components explain 96.0 % of the variance\n",
      "\n",
      "The 1st, 2nd and 3rd Principal Components explain 98.2 % of the variance\n",
      "\n",
      "The 1st, 2nd, 3rd and 4th Principal Components explain 98.9 % of the variance\n",
      "\n",
      "The first five Principal Components explain 99.4 % of the variance\n",
      "\n"
     ]
    }
   ],
   "source": [
    "pca = sklearn.decomposition.PCA(n_components=10).fit(df_sensor_train)\n",
    "\n",
    "coef_PCA = pca.transform(df_sensor_train)\n",
    "# we make a scree plot to see how many Principal Components to consider\n",
    "plt.figure(figsize=(12, 6))\n",
    "eig = pca.explained_variance_\n",
    "# and calculate the variance explained by the PC analysis\n",
    "var_exp = pca.explained_variance_ratio_.cumsum()*100.\n",
    "print(var_exp)\n",
    "\n",
    "plt.plot(np.arange(1,len(eig)+1), eig, color='r')\n",
    "plt.title('Scree plot for the PCA')\n",
    "plt.xlabel('Number of principal components')\n",
    "plt.ylabel('Eigenvalues')\n",
    "plt.show()\n",
    "\n",
    "print ('The 1st Principal Component explains {:03.1f} % of the variance\\n'.format(var_exp[0]))\n",
    "print ('The 1st and 2nd Principal Components explain {:03.1f} % of the variance\\n'.format(var_exp[1]))\n",
    "print ('The 1st, 2nd and 3rd Principal Components explain {:03.1f} % of the variance\\n'.format(var_exp[2]))\n",
    "print ('The 1st, 2nd, 3rd and 4th Principal Components explain {:03.1f} % of the variance\\n'.format(var_exp[3]))\n",
    "print ('The first five Principal Components explain {:03.1f} % of the variance\\n'.format(var_exp[4]))"
   ]
  },
  {
   "cell_type": "markdown",
   "metadata": {},
   "source": [
    "##### Break the dataframe into train, validation and test set"
   ]
  },
  {
   "cell_type": "code",
   "execution_count": 56,
   "metadata": {
    "collapsed": true
   },
   "outputs": [],
   "source": [
    "X_train, X_test, y_train, y_test = train_test_split(X, Y, stratify = Y, test_size=0.33, random_state=101)"
   ]
  },
  {
   "cell_type": "markdown",
   "metadata": {},
   "source": [
    "##### Define function for confusion matrix"
   ]
  },
  {
   "cell_type": "code",
   "execution_count": 69,
   "metadata": {},
   "outputs": [
    {
     "name": "stdout",
     "output_type": "stream",
     "text": [
      "(4584, 105)\n",
      "(3071, 105)\n",
      "(1513, 105)\n",
      "(5190, 105)\n",
      "(5190,)\n"
     ]
    }
   ],
   "source": [
    "print(df_sensor_train.shape)\n",
    "print(X_train.shape)\n",
    "print(X_test.shape)\n",
    "print(X_train_upsampled.shape)\n",
    "print(y_train_upsampled.shape)"
   ]
  },
  {
   "cell_type": "code",
   "execution_count": 57,
   "metadata": {
    "collapsed": true
   },
   "outputs": [],
   "source": [
    "def show_confusion_matrix(cm, target_names):\n",
    "    plt.figure(figsize=(5, 5))\n",
    "    plt.imshow(cm, interpolation='nearest', cmap=plt.cm.binary)\n",
    "    plt.title('Confusion matrix')\n",
    "    plt.set_cmap('Blues')\n",
    "    plt.colorbar()\n",
    "    tick_marks = np.arange(len(target_names))\n",
    "    plt.xticks(tick_marks, target_names, rotation=60)\n",
    "    plt.yticks(tick_marks, target_names)\n",
    "    plt.ylabel('True label')\n",
    "    plt.xlabel('Predicted label')\n",
    "    plt.show()"
   ]
  },
  {
   "cell_type": "markdown",
   "metadata": {},
   "source": [
    "##### Perform SMOTE for handling class imbalance"
   ]
  },
  {
   "cell_type": "code",
   "execution_count": 58,
   "metadata": {
    "collapsed": true
   },
   "outputs": [],
   "source": [
    "import imblearn\n",
    "from imblearn.over_sampling import SMOTE "
   ]
  },
  {
   "cell_type": "code",
   "execution_count": 59,
   "metadata": {},
   "outputs": [
    {
     "name": "stdout",
     "output_type": "stream",
     "text": [
      "[ 476 2595]\n"
     ]
    }
   ],
   "source": [
    "#UP Sampling of minority class\n",
    "class_counts = np.bincount(y_train.astype(int))\n",
    "print(class_counts)"
   ]
  },
  {
   "cell_type": "code",
   "execution_count": 60,
   "metadata": {},
   "outputs": [
    {
     "data": {
      "text/plain": [
       "array([ 15.49983719,  84.50016281])"
      ]
     },
     "execution_count": 60,
     "metadata": {},
     "output_type": "execute_result"
    }
   ],
   "source": [
    "np.bincount(y_train.astype(int))*100/len(y_train)"
   ]
  },
  {
   "cell_type": "code",
   "execution_count": 61,
   "metadata": {},
   "outputs": [
    {
     "name": "stdout",
     "output_type": "stream",
     "text": [
      "(5190, 105)\n",
      "(5190,)\n"
     ]
    }
   ],
   "source": [
    "sm = SMOTE(random_state=101)\n",
    "X_train_upsampled, y_train_upsampled = sm.fit_sample(X_train, y_train)\n",
    "np.bincount(y_train_upsampled.astype(int))\n",
    "np.bincount(y_train_upsampled.astype(int))*100/len(y_train_upsampled)\n",
    "print(X_train_upsampled.shape)\n",
    "print(y_train_upsampled.shape)"
   ]
  },
  {
   "cell_type": "code",
   "execution_count": 70,
   "metadata": {
    "collapsed": true
   },
   "outputs": [],
   "source": [
    "X_train = X_train_upsampled\n",
    "y_train = y_train_upsampled"
   ]
  },
  {
   "cell_type": "markdown",
   "metadata": {},
   "source": [
    "##### Stacking models for better performance"
   ]
  },
  {
   "cell_type": "code",
   "execution_count": 72,
   "metadata": {},
   "outputs": [],
   "source": [
    "# Some useful parameters which will come in handy later on\n",
    "from sklearn.model_selection import KFold\n",
    "ntrain = X_train.shape[0]\n",
    "ntest = X_test.shape[0]\n",
    "SEED = 0 # for reproducibility\n",
    "NFOLDS = 5 # set folds for out-of-fold prediction\n",
    "kf = KFold(n_splits= NFOLDS,shuffle=True, random_state=SEED)\n",
    "\n",
    "# Sklearn classifier\n",
    "class SklearnHelper:\n",
    "    def __init__(self, clf, seed=0, params=None):\n",
    "        params['random_state'] = seed\n",
    "        self.clf = clf(**params)\n",
    "\n",
    "    def train(self, X_train, y_train):\n",
    "        self.clf.fit(X_train, y_train)\n",
    "\n",
    "    def predict(self, x):\n",
    "        return self.clf.predict(X)\n",
    "    \n",
    "    def predict_proba(self, x):\n",
    "        return self.clf.predict_proba(x)\n",
    "    \n",
    "    def fit(self,x,y):\n",
    "        return self.clf.fit(x,y)\n",
    "    \n",
    "    def feature_importances(self,x,y):\n",
    "        print(self.clf.fit(x,y).feature_importances_)\n",
    "    "
   ]
  },
  {
   "cell_type": "markdown",
   "metadata": {},
   "source": [
    "##### Out of fold predictions"
   ]
  },
  {
   "cell_type": "code",
   "execution_count": 73,
   "metadata": {
    "collapsed": true
   },
   "outputs": [],
   "source": [
    "def get_oof(clf, X_train, y_train, X_test):\n",
    "    oof_train = np.zeros((ntrain,))\n",
    "    oof_test = np.zeros((ntest,))\n",
    "    oof_test_skf = np.empty((NFOLDS, ntest))\n",
    "\n",
    "    for i, (train_index, test_index) in enumerate(kf.split(X_train)):\n",
    "        x_tr = X_train[train_index]\n",
    "        y_tr = y_train[train_index]\n",
    "        x_te = X_train[test_index]\n",
    "\n",
    "        clf.train(x_tr, y_tr)\n",
    "\n",
    "        oof_train[test_index] = clf.predict_proba(x_te)[:,1]\n",
    "        oof_test_skf[i, :] = clf.predict_proba(X_test)[:,1]\n",
    "\n",
    "    oof_test[:] = oof_test_skf.mean(axis=0)\n",
    "    return oof_train.reshape(-1, 1), oof_test.reshape(-1, 1)"
   ]
  },
  {
   "cell_type": "markdown",
   "metadata": {},
   "source": [
    "##### Generate base first models"
   ]
  },
  {
   "cell_type": "code",
   "execution_count": 74,
   "metadata": {
    "collapsed": true
   },
   "outputs": [],
   "source": [
    "# Put in our parameters for said classifiers\n",
    "# Random Forest parameters\n",
    "rf_params = {\n",
    "    'n_jobs': -1,\n",
    "    'n_estimators': 800,\n",
    "    'max_depth': 40,\n",
    "    'min_samples_leaf': 2,\n",
    "    'max_features' : 'sqrt',\n",
    "    'verbose': 0\n",
    "}\n",
    "\n",
    "# Extra Trees Parameters\n",
    "et_params = {\n",
    "    'n_jobs': -1,\n",
    "    'n_estimators':800,\n",
    "    'max_depth': 40,\n",
    "    'min_samples_leaf': 2,\n",
    "    'verbose': 0\n",
    "}\n",
    "\n",
    "# AdaBoost parameters\n",
    "ada_params = {\n",
    "    'n_estimators': 800,\n",
    "    'learning_rate' : 0.75\n",
    "}\n",
    "\n",
    "# Gradient Boosting parameters\n",
    "gb_params = {\n",
    "    'n_estimators': 800,\n",
    "    'max_depth': 40,\n",
    "    'min_samples_leaf': 2,\n",
    "    'verbose': 0\n",
    "}"
   ]
  },
  {
   "cell_type": "code",
   "execution_count": 77,
   "metadata": {},
   "outputs": [],
   "source": [
    "# Create 5 objects that represent our 4 models\n",
    "from sklearn.ensemble import (RandomForestClassifier, AdaBoostClassifier, \n",
    "                              GradientBoostingClassifier, ExtraTreesClassifier)\n",
    "rf = SklearnHelper(clf=RandomForestClassifier, seed=SEED, params=rf_params)\n",
    "et = SklearnHelper(clf=ExtraTreesClassifier, seed=SEED, params=et_params)\n",
    "ada = SklearnHelper(clf=AdaBoostClassifier, seed=SEED, params=ada_params)\n",
    "gb = SklearnHelper(clf=GradientBoostingClassifier, seed=SEED, params=gb_params)\n",
    "#svc = SklearnHelper(clf=SVC, seed=SEED, params=svc_params)"
   ]
  },
  {
   "cell_type": "code",
   "execution_count": 78,
   "metadata": {},
   "outputs": [
    {
     "name": "stdout",
     "output_type": "stream",
     "text": [
      "Training is complete\n"
     ]
    }
   ],
   "source": [
    "# Create our OOF train and test predictions. These base results will be used as new features\n",
    "et_oof_train, et_oof_test = get_oof(et, X_train, y_train, X_test) # Extra Trees\n",
    "rf_oof_train, rf_oof_test = get_oof(rf,X_train, y_train, X_test) # Random Forest\n",
    "ada_oof_train, ada_oof_test = get_oof(ada, X_train, y_train, X_test) # AdaBoost \n",
    "gb_oof_train, gb_oof_test = get_oof(gb,X_train, y_train, X_test) # Gradient Boost\n",
    "\n",
    "print(\"Training is complete\")"
   ]
  },
  {
   "cell_type": "markdown",
   "metadata": {},
   "source": [
    "##### Second level learning model via XGBoost"
   ]
  },
  {
   "cell_type": "code",
   "execution_count": 79,
   "metadata": {},
   "outputs": [
    {
     "data": {
      "text/html": [
       "<div>\n",
       "<style>\n",
       "    .dataframe thead tr:only-child th {\n",
       "        text-align: right;\n",
       "    }\n",
       "\n",
       "    .dataframe thead th {\n",
       "        text-align: left;\n",
       "    }\n",
       "\n",
       "    .dataframe tbody tr th {\n",
       "        vertical-align: top;\n",
       "    }\n",
       "</style>\n",
       "<table border=\"1\" class=\"dataframe\">\n",
       "  <thead>\n",
       "    <tr style=\"text-align: right;\">\n",
       "      <th></th>\n",
       "      <th>AdaBoost</th>\n",
       "      <th>ExtraTrees</th>\n",
       "      <th>GradientBoost</th>\n",
       "      <th>RandomForest</th>\n",
       "    </tr>\n",
       "  </thead>\n",
       "  <tbody>\n",
       "    <tr>\n",
       "      <th>0</th>\n",
       "      <td>0.498930</td>\n",
       "      <td>0.565516</td>\n",
       "      <td>0.999602</td>\n",
       "      <td>0.487250</td>\n",
       "    </tr>\n",
       "    <tr>\n",
       "      <th>1</th>\n",
       "      <td>0.500084</td>\n",
       "      <td>0.237121</td>\n",
       "      <td>0.999433</td>\n",
       "      <td>0.432854</td>\n",
       "    </tr>\n",
       "    <tr>\n",
       "      <th>2</th>\n",
       "      <td>0.511931</td>\n",
       "      <td>0.836896</td>\n",
       "      <td>0.998967</td>\n",
       "      <td>0.715427</td>\n",
       "    </tr>\n",
       "    <tr>\n",
       "      <th>3</th>\n",
       "      <td>0.511456</td>\n",
       "      <td>0.845354</td>\n",
       "      <td>0.934809</td>\n",
       "      <td>0.630500</td>\n",
       "    </tr>\n",
       "    <tr>\n",
       "      <th>4</th>\n",
       "      <td>0.500669</td>\n",
       "      <td>0.471522</td>\n",
       "      <td>0.998808</td>\n",
       "      <td>0.409905</td>\n",
       "    </tr>\n",
       "  </tbody>\n",
       "</table>\n",
       "</div>"
      ],
      "text/plain": [
       "   AdaBoost  ExtraTrees  GradientBoost  RandomForest\n",
       "0  0.498930    0.565516       0.999602      0.487250\n",
       "1  0.500084    0.237121       0.999433      0.432854\n",
       "2  0.511931    0.836896       0.998967      0.715427\n",
       "3  0.511456    0.845354       0.934809      0.630500\n",
       "4  0.500669    0.471522       0.998808      0.409905"
      ]
     },
     "execution_count": 79,
     "metadata": {},
     "output_type": "execute_result"
    }
   ],
   "source": [
    "base_predictions_train = pd.DataFrame( {'RandomForest': rf_oof_train.ravel(),\n",
    "     'ExtraTrees': et_oof_train.ravel(),\n",
    "     'AdaBoost': ada_oof_train.ravel(),\n",
    "     'GradientBoost': gb_oof_train.ravel()\n",
    "     #'SVM': svc_oof_train.ravel()                                   \n",
    "    })\n",
    "\n",
    "base_predictions_train.sort_values\n",
    "base_predictions_train.head()"
   ]
  },
  {
   "cell_type": "markdown",
   "metadata": {},
   "source": [
    "##### Check model correlation"
   ]
  },
  {
   "cell_type": "code",
   "execution_count": 80,
   "metadata": {},
   "outputs": [
    {
     "data": {
      "text/html": [
       "<div>\n",
       "<style>\n",
       "    .dataframe thead tr:only-child th {\n",
       "        text-align: right;\n",
       "    }\n",
       "\n",
       "    .dataframe thead th {\n",
       "        text-align: left;\n",
       "    }\n",
       "\n",
       "    .dataframe tbody tr th {\n",
       "        vertical-align: top;\n",
       "    }\n",
       "</style>\n",
       "<table border=\"1\" class=\"dataframe\">\n",
       "  <thead>\n",
       "    <tr style=\"text-align: right;\">\n",
       "      <th></th>\n",
       "      <th>AdaBoost</th>\n",
       "      <th>ExtraTrees</th>\n",
       "      <th>GradientBoost</th>\n",
       "      <th>RandomForest</th>\n",
       "    </tr>\n",
       "  </thead>\n",
       "  <tbody>\n",
       "    <tr>\n",
       "      <th>AdaBoost</th>\n",
       "      <td>1.000000</td>\n",
       "      <td>0.728739</td>\n",
       "      <td>0.568340</td>\n",
       "      <td>0.645212</td>\n",
       "    </tr>\n",
       "    <tr>\n",
       "      <th>ExtraTrees</th>\n",
       "      <td>0.728739</td>\n",
       "      <td>1.000000</td>\n",
       "      <td>0.813826</td>\n",
       "      <td>0.949778</td>\n",
       "    </tr>\n",
       "    <tr>\n",
       "      <th>GradientBoost</th>\n",
       "      <td>0.568340</td>\n",
       "      <td>0.813826</td>\n",
       "      <td>1.000000</td>\n",
       "      <td>0.847096</td>\n",
       "    </tr>\n",
       "    <tr>\n",
       "      <th>RandomForest</th>\n",
       "      <td>0.645212</td>\n",
       "      <td>0.949778</td>\n",
       "      <td>0.847096</td>\n",
       "      <td>1.000000</td>\n",
       "    </tr>\n",
       "  </tbody>\n",
       "</table>\n",
       "</div>"
      ],
      "text/plain": [
       "               AdaBoost  ExtraTrees  GradientBoost  RandomForest\n",
       "AdaBoost       1.000000    0.728739       0.568340      0.645212\n",
       "ExtraTrees     0.728739    1.000000       0.813826      0.949778\n",
       "GradientBoost  0.568340    0.813826       1.000000      0.847096\n",
       "RandomForest   0.645212    0.949778       0.847096      1.000000"
      ]
     },
     "execution_count": 80,
     "metadata": {},
     "output_type": "execute_result"
    }
   ],
   "source": [
    "base_predictions_train.corr()"
   ]
  },
  {
   "cell_type": "markdown",
   "metadata": {},
   "source": [
    "##### Second level learning via XGBoost"
   ]
  },
  {
   "cell_type": "code",
   "execution_count": 81,
   "metadata": {
    "collapsed": true
   },
   "outputs": [],
   "source": [
    "X_train_1 = np.concatenate(( et_oof_train, rf_oof_train, ada_oof_train, gb_oof_train ), axis=1)\n",
    "X_test_1 = np.concatenate(( et_oof_test, rf_oof_test, ada_oof_test, gb_oof_test), axis=1)"
   ]
  },
  {
   "cell_type": "code",
   "execution_count": 83,
   "metadata": {},
   "outputs": [],
   "source": [
    "import xgboost as xgb\n",
    "gbm = xgb.XGBClassifier(\n",
    " learning_rate = 0.02,\n",
    " n_estimators= 800,\n",
    " max_depth= 40,  \n",
    " min_child_weight= 2,\n",
    " gamma=0.9,   #Regularization parameter                     \n",
    " subsample=0.8,\n",
    " colsample_bytree=0.8,\n",
    " objective= 'binary:logistic',\n",
    " nthread= -1,\n",
    " scale_pos_weight=1).fit(X_train_1, y_train)\n",
    "\n",
    "predictions = gbm.predict_proba(X_test_1)"
   ]
  },
  {
   "cell_type": "markdown",
   "metadata": {},
   "source": [
    "##### Check confusion matrix"
   ]
  },
  {
   "cell_type": "code",
   "execution_count": 85,
   "metadata": {},
   "outputs": [
    {
     "name": "stdout",
     "output_type": "stream",
     "text": [
      "Accuracy score:  84.14% \n",
      "\n",
      "Classification report: \n",
      "              precision    recall  f1-score   support\n",
      "\n",
      "    Output 0       0.47      0.15      0.23       235\n",
      "    Output 1       0.86      0.97      0.91      1278\n",
      "\n",
      "   micro avg       0.84      0.84      0.84      1513\n",
      "   macro avg       0.66      0.56      0.57      1513\n",
      "weighted avg       0.80      0.84      0.81      1513\n",
      "\n",
      "Confusion_matrix: \n",
      " [[  35  200]\n",
      " [  40 1238]]\n"
     ]
    },
    {
     "data": {
      "image/png": "[encoded data removed]",
      "text/plain": [
       "<matplotlib.figure.Figure at 0x1909bc6978>"
      ]
     },
     "metadata": {},
     "output_type": "display_data"
    }
   ],
   "source": [
    "targets =['Output 0','Output 1']\n",
    "\n",
    "score = metrics.accuracy_score(y_test,gbm.predict(X_test_1))\n",
    "print (\"Accuracy score:  {:.2%} \\n\".format(score))\n",
    "\n",
    "print (\"Classification report: \")\n",
    "print(metrics.classification_report(y_test,gbm.predict(X_test_1), target_names=targets))\n",
    "\n",
    "# Print out confusion matrix\n",
    "confusion_matrix = metrics.confusion_matrix(y_test,gbm.predict(X_test_1))\n",
    "print ('Confusion_matrix: \\n', confusion_matrix)\n",
    "show_confusion_matrix(confusion_matrix, targets)"
   ]
  },
  {
   "cell_type": "markdown",
   "metadata": {},
   "source": [
    "##### Generate ROC curve"
   ]
  },
  {
   "cell_type": "code",
   "execution_count": 87,
   "metadata": {
    "collapsed": true
   },
   "outputs": [],
   "source": [
    "from sklearn.metrics import roc_curve, auc, precision_recall_curve, average_precision_score, roc_auc_score\n",
    "from sklearn.metrics import confusion_matrix, precision_recall_fscore_support, accuracy_score"
   ]
  },
  {
   "cell_type": "code",
   "execution_count": 88,
   "metadata": {},
   "outputs": [
    {
     "data": {
      "image/png": "[encoded data removed]",
      "text/plain": [
       "<matplotlib.figure.Figure at 0x1903e590b8>"
      ]
     },
     "metadata": {},
     "output_type": "display_data"
    }
   ],
   "source": [
    "plt.figure(figsize=(8,5))\n",
    "random_state = np.random.RandomState(37)\n",
    "mean_tpr = 0.0\n",
    "mean_fpr = np.linspace(0, 1, 100)\n",
    "all_tpr = []\n",
    "\n",
    "\n",
    "probas_ = gbm.fit(X_train_1,y_train).predict_proba(X_test_1)\n",
    "# Compute ROC curve and area the curve\n",
    "fpr, tpr, thresholds = roc_curve(y_test, probas_[:, 1])\n",
    "mean_tpr += np.interp(mean_fpr, fpr, tpr)\n",
    "mean_tpr[0] = 0.0\n",
    "roc_auc = auc(fpr, tpr)\n",
    "plt.plot(fpr, tpr, lw=1, label='ROC max depth: %d, estimators: %d \\n(AUC = %0.3f)' % (gbm.max_depth, gbm.n_estimators, roc_auc))\n",
    "\n",
    "\n",
    "plt.plot([0, 1], [0, 1], '--', color=(0.6, 0.6, 0.6), label='Luck')\n",
    "\n",
    "plt.xlim([-0.05, 1.05])\n",
    "plt.ylim([-0.05, 1.05])\n",
    "plt.xlabel('False Positive Rate')\n",
    "plt.ylabel('True Positive Rate')\n",
    "plt.title('ROC curve choice of kernel comparison')\n",
    "plt.legend(loc=\"lower right\")\n",
    "plt.show()"
   ]
  }
 ],
 "metadata": {
  "kernelspec": {
   "display_name": "Python 3",
   "language": "python",
   "name": "python3"
  },
  "language_info": {
   "codemirror_mode": {
    "name": "ipython",
    "version": 3
   },
   "file_extension": ".py",
   "mimetype": "text/x-python",
   "name": "python",
   "nbconvert_exporter": "python",
   "pygments_lexer": "ipython3",
   "version": "3.6.2"
  }
 },
 "nbformat": 4,
 "nbformat_minor": 2
}
