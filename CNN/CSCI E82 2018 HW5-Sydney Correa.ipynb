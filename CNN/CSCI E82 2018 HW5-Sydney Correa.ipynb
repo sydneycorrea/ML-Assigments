{
 "cells": [
  {
   "cell_type": "markdown",
   "metadata": {},
   "source": [
    "### CSCI E-82  Homework 5 on CNNs\n",
    ]
  },
  {
   "cell_type": "markdown",
   "metadata": {},
   "source": [
    "## Your Name: "
   ]
  },
  {
   "cell_type": "markdown",
   "metadata": {},
   "source": [
    "# Sydney Correa"
   ]
  },
  {
   "cell_type": "markdown",
   "metadata": {},
   "source": [
    "## Dataset\n",
    "\n",
    "WikiArt is an amazing resource containing centuries of artwork.  Since such datasets are wonderful for deep learning, Kaggle has hosted a challenge to characterize the 'fingerprints' of various artists.  The Kaggle dataset contains metadata and also a set of images that have been resized so that the shorter dimension is 256 pixels.  To make this homework reasonably fast even for those without GPUs, we have further reduced the images to 64 x 64.  CNNs and neural networks in general prefer to have consistent sizes.  To achieve this, we cut the center 256 pixels from the longer dimension and then shrunk the images by a factor of 4. This isn't a perfect solution since it did cut off a few heads as you will see.\n",
    "\n",
    "The selected images are for portraits and landscapes.  No, we're not talking about the orientation but rather the content of the images. Thanks to help from Rashmi and Dave, we have a small enough data set that should give reasonable results in a timely manner even on just a CPU.\n",
    "\n",
    "The data were originally divided into a training and a test set.  We have further divided the training set into a train and validation set.  In this homework you will be using the training set and validation set to train and assess your deep learning models.  At the final step, you will see how well your final training worked on the test set.  In each of these directories, there is a truth.txt file that has the image name and whether it is a portrait or landscape scene."
   ]
  },
  {
   "cell_type": "code",
   "execution_count": 2,
   "metadata": {},
   "outputs": [
    {
     "name": "stdout",
     "output_type": "stream",
     "text": [
      "3.6.5 |Anaconda, Inc.| (default, Mar 29 2018, 13:32:41) [MSC v.1900 64 bit (AMD64)]\n"
     ]
    },
    {
     "name": "stderr",
     "output_type": "stream",
     "text": [
      "C:\\Users\\corre\\Anaconda3\\lib\\site-packages\\h5py\\__init__.py:36: FutureWarning: Conversion of the second argument of issubdtype from `float` to `np.floating` is deprecated. In future, it will be treated as `np.float64 == np.dtype(float).type`.\n",
      "  from ._conv import register_converters as _register_converters\n"
     ]
    },
    {
     "name": "stdout",
     "output_type": "stream",
     "text": [
      "Tensorflow is installed and is version:  1.12.0\n",
      "Keras is installed and is version:  2.1.6-tf\n"
     ]
    },
    {
     "name": "stderr",
     "output_type": "stream",
     "text": [
      "Using TensorFlow backend.\n"
     ]
    }
   ],
   "source": [
    "import sys\n",
    "print(sys.version)\n",
    "\n",
    "import tensorflow as tf\n",
    "from tensorflow.keras import layers\n",
    "\n",
    "import matplotlib.pyplot as plt\n",
    "import numpy as np\n",
    "import pandas as pd\n",
    "import os\n",
    "from time import time\n",
    "import shutil\n",
    "import sys\n",
    "from IPython.display import display, Image\n",
    "\n",
    "#!pip install keras\n",
    "from keras import layers\n",
    "from keras import models\n",
    "from keras import optimizers\n",
    "from tensorflow.keras.callbacks import TensorBoard\n",
    "from tensorflow.python.eager import context\n",
    "\n",
    "from keras.preprocessing import image\n",
    "from keras.utils import layer_utils\n",
    "from keras.utils.data_utils import get_file\n",
    "from keras.applications.imagenet_utils import preprocess_input\n",
    "from keras.callbacks import TensorBoard\n",
    "\n",
    "from keras import backend as K\n",
    "if K.backend()=='tensorflow':\n",
    "    K.set_image_data_format('channels_last')\n",
    "\n",
    "# Config the matlotlib backend as plotting inline in IPython\n",
    "%matplotlib inline\n",
    "\n",
    "print(\"Tensorflow is installed and is version: \",  tf.__version__)\n",
    "print(\"Keras is installed and is version: \", tf.keras.__version__)"
   ]
  },
  {
   "cell_type": "code",
   "execution_count": 3,
   "metadata": {},
   "outputs": [],
   "source": [
    "class TrainValTensorBoard(TensorBoard):\n",
    "    def __init__(self, log_dir='./logs', **kwargs):\n",
    "        # Make the original `TensorBoard` log to a subdirectory 'training'\n",
    "        training_log_dir = os.path.join(log_dir, 'training')\n",
    "        super(TrainValTensorBoard, self).__init__(training_log_dir, **kwargs)\n",
    "\n",
    "        # Log the validation metrics to a separate subdirectory\n",
    "        self.val_log_dir = os.path.join(log_dir, 'validation')\n",
    "\n",
    "    def set_model(self, model):\n",
    "        # Setup writer for validation metrics\n",
    "        self.val_writer = tf.summary.FileWriter(self.val_log_dir)\n",
    "        super(TrainValTensorBoard, self).set_model(model)\n",
    "\n",
    "    def on_epoch_end(self, epoch, logs=None):\n",
    "        # Pop the validation logs and handle them separately with\n",
    "        # `self.val_writer`. Also rename the keys so that they can\n",
    "        # be plotted on the same figure with the training metrics\n",
    "        logs = logs or {}\n",
    "        val_logs = {k.replace('val_', ''): v for k, v in logs.items() if k.startswith('val_')}\n",
    "        for name, value in val_logs.items():\n",
    "            summary = tf.Summary()\n",
    "            summary_value = summary.value.add()\n",
    "            summary_value.simple_value = value.item()\n",
    "            summary_value.tag = name\n",
    "            self.val_writer.add_summary(summary, epoch)\n",
    "        self.val_writer.flush()\n",
    "\n",
    "        # Pass the remaining logs to `TensorBoard.on_epoch_end`\n",
    "        logs = {k: v for k, v in logs.items() if not k.startswith('val_')}\n",
    "        super(TrainValTensorBoard, self).on_epoch_end(epoch, logs)\n",
    "\n",
    "    def on_train_end(self, logs=None):\n",
    "        super(TrainValTensorBoard, self).on_train_end(logs)\n",
    "        self.val_writer.close()"
   ]
  },
  {
   "cell_type": "markdown",
   "metadata": {},
   "source": [
    "## Problem 1 (5 points)\n",
    "\n",
    "Read in and display the first 5 portraits and the first 5 landscapes.  Note, if you are using the OpenCV tools, then the color may be distorted.  The cvtColor() method using cv2.COLOR_BGR2RGB may be useful.  However, it is likely easier to use the generator and plot_strip example from section."
   ]
  },
  {
   "cell_type": "code",
   "execution_count": 4,
   "metadata": {},
   "outputs": [
    {
     "name": "stdout",
     "output_type": "stream",
     "text": [
      ".\\port_lscape_small\n"
     ]
    }
   ],
   "source": [
    "# The path to the directory where the original\n",
    "# dataset was uncompressed\n",
    "original_dataset_dir = '.\\\\all'\n",
    "\n",
    "base_dir = os.path.join('.', 'port_lscape_small')\n",
    "if os.path.exists(base_dir) and os.path.isdir(base_dir):\n",
    "    shutil.rmtree(base_dir)\n",
    "print(base_dir)"
   ]
  },
  {
   "cell_type": "code",
   "execution_count": 5,
   "metadata": {},
   "outputs": [],
   "source": [
    "\n",
    "# Directories for our training,\n",
    "directories = []\n",
    "\n",
    "# The directory where we will\n",
    "# store our smaller dataset\n",
    "base_dir = './port_lscape_small'\n",
    "directories.append(base_dir)\n",
    "\n",
    "# validation and test splits\n",
    "train_dir = os.path.join(base_dir, 'train')\n",
    "directories.append(train_dir)\n",
    "\n",
    "validation_dir = os.path.join(base_dir, 'validation')\n",
    "directories.append(validation_dir)\n",
    "\n",
    "test_dir = os.path.join(base_dir, 'test')\n",
    "directories.append(test_dir)\n",
    "\n",
    "# Directory with our training cat pictures\n",
    "train_port_dir = os.path.join(train_dir, 'port')\n",
    "directories.append(train_port_dir)\n",
    "\n",
    "# Directory with our training dog pictures\n",
    "train_lscape_dir = os.path.join(train_dir, 'lscape')\n",
    "directories.append(train_lscape_dir)\n",
    "\n",
    "# Directory with our validation cat pictures\n",
    "validation_port_dir = os.path.join(validation_dir, 'port')\n",
    "directories.append(validation_port_dir)\n",
    "\n",
    "# Directory with our validation dog pictures\n",
    "validation_lscape_dir = os.path.join(validation_dir, 'lscape')\n",
    "directories.append(validation_lscape_dir)\n",
    "\n",
    "# Directory with our validation cat pictures\n",
    "test_port_dir = os.path.join(test_dir, 'port')\n",
    "directories.append(test_port_dir)\n",
    "\n",
    "# Directory with our validation dog pictures\n",
    "test_lscape_dir = os.path.join(test_dir, 'lscape')\n",
    "directories.append(test_lscape_dir)\n",
    "\n",
    "# if they have not already been created\n",
    "for dir in directories: \n",
    "    os.mkdir(dir)"
   ]
  },
  {
   "cell_type": "markdown",
   "metadata": {},
   "source": [
    "# reading from truth files to copy into respective directories"
   ]
  },
  {
   "cell_type": "code",
   "execution_count": 6,
   "metadata": {},
   "outputs": [],
   "source": [
    "#fpath= os.path.join(base_path_train, '\\\\truth.txt')\n",
    "#print(fpath)\n",
    "\n",
    "##train data\n",
    "base_path_train = 'C:\\\\Users\\\\corre\\\\Desktop\\\\CSCI E-82\\\\CNN\\\\PS 5\\\\all\\\\train\\\\truth.txt'\n",
    "art_train = pd.read_table(base_path_train, sep='\\t', header=None, names=['pic','ftype'])\n",
    "art_train=art_train.set_index(['ftype'])\n",
    "\n",
    "#print(art_train.head())\n",
    "\n",
    "##validation data\n",
    "base_path_val = 'C:\\\\Users\\\\corre\\\\Desktop\\\\CSCI E-82\\\\CNN\\\\PS 5\\\\all\\\\validation\\\\truth.txt'\n",
    "art_val = pd.read_table(base_path_val, sep='\\t', header=None, names=['pic','ftype'])\n",
    "art_val=art_val.set_index(['ftype'])\n",
    "\n",
    "#print(art_val.head())\n",
    "\n",
    "##test data\n",
    "base_path_test = 'C:\\\\Users\\\\corre\\\\Desktop\\\\CSCI E-82\\\\CNN\\\\PS 5\\\\all\\\\test\\\\truth.txt'\n",
    "art_test = pd.read_table(base_path_test, sep='\\t', header=None, names=['pic','ftype'])\n",
    "art_test=art_test.set_index(['ftype'])\n",
    "\n",
    "#print(art_test.head())\n"
   ]
  },
  {
   "cell_type": "code",
   "execution_count": 7,
   "metadata": {},
   "outputs": [],
   "source": [
    "original_dataset_dir = '.\\\\all\\\\train'\n",
    "\n",
    "fnames_port= art_train.loc[art_train.index.isin(['portrait'])].pic\n",
    "fnames_lscape = art_train.loc[art_train.index.isin(['landscape'])].pic\n",
    "\n",
    "#copy all train portraits to train\\port\n",
    "for fname in fnames_port:\n",
    "    src = os.path.join(original_dataset_dir, fname)\n",
    "    dst = os.path.join(train_port_dir, fname)\n",
    "    if os.path.getsize(src) > 0:\n",
    "        shutil.copyfile(src, dst)\n",
    "\n",
    "#copy all train landscapes to train\\lscape\n",
    "for fname in fnames_lscape:\n",
    "    src = os.path.join(original_dataset_dir, fname)\n",
    "    dst = os.path.join(train_lscape_dir, fname)\n",
    "    if os.path.getsize(src) > 0:\n",
    "        shutil.copyfile(src, dst)        \n"
   ]
  },
  {
   "cell_type": "code",
   "execution_count": 8,
   "metadata": {},
   "outputs": [],
   "source": [
    "original_dataset_dir = '.\\\\all\\\\test'\n",
    "\n",
    "fnames_port= art_test.loc[art_test.index.isin(['portrait'])].pic\n",
    "fnames_lscape = art_test.loc[art_test.index.isin(['landscape'])].pic\n",
    "\n",
    "#copy all train portraits to train\\port\n",
    "for fname in fnames_port:\n",
    "    src = os.path.join(original_dataset_dir, fname)\n",
    "    dst = os.path.join(test_port_dir, fname)\n",
    "    if os.path.getsize(src) > 0:\n",
    "        shutil.copyfile(src, dst)\n",
    "\n",
    "#copy all train landscapes to train\\lscape\n",
    "for fname in fnames_lscape:\n",
    "    src = os.path.join(original_dataset_dir, fname)\n",
    "    dst = os.path.join(test_lscape_dir, fname)\n",
    "    if os.path.getsize(src) > 0:\n",
    "        shutil.copyfile(src, dst)\n",
    "        "
   ]
  },
  {
   "cell_type": "code",
   "execution_count": 9,
   "metadata": {},
   "outputs": [],
   "source": [
    "original_dataset_dir = '.\\\\all\\\\validation'\n",
    "\n",
    "fnames_port= art_val.loc[art_val.index.isin(['portrait'])].pic\n",
    "fnames_lscape = art_val.loc[art_val.index.isin(['landscape'])].pic\n",
    "\n",
    "#copy all train portraits to train\\port\n",
    "for fname in fnames_port:\n",
    "    src = os.path.join(original_dataset_dir, fname)\n",
    "    dst = os.path.join(validation_port_dir, fname)\n",
    "    if os.path.getsize(src) > 0:\n",
    "        shutil.copyfile(src, dst)\n",
    "\n",
    "#copy all train landscapes to train\\lscape\n",
    "for fname in fnames_lscape:\n",
    "    src = os.path.join(original_dataset_dir, fname)\n",
    "    dst = os.path.join(validation_lscape_dir, fname)\n",
    "    if os.path.getsize(src) > 0:\n",
    "        shutil.copyfile(src, dst)\n",
    "        "
   ]
  },
  {
   "cell_type": "code",
   "execution_count": 10,
   "metadata": {},
   "outputs": [
    {
     "name": "stdout",
     "output_type": "stream",
     "text": [
      "\n",
      "Images in ./port_lscape_small\\train\\port:8692\n",
      "\n",
      "Images in ./port_lscape_small\\train\\lscape:7623\n",
      "\n",
      "Images in ./port_lscape_small\\validation\\port:4233\n",
      "\n",
      "Images in ./port_lscape_small\\validation\\lscape:3925\n",
      "\n",
      "Images in ./port_lscape_small\\test\\port:3921\n",
      "\n",
      "Images in ./port_lscape_small\\test\\lscape:3458\n"
     ]
    }
   ],
   "source": [
    "for dir in directories[4:]:\n",
    "    print(\"\\nImages in \" + dir + \":\" + str(len(os.listdir(dir))))"
   ]
  },
  {
   "cell_type": "markdown",
   "metadata": {},
   "source": [
    "# Creating image arrays using ImageDataGenerator"
   ]
  },
  {
   "cell_type": "code",
   "execution_count": 11,
   "metadata": {},
   "outputs": [
    {
     "name": "stdout",
     "output_type": "stream",
     "text": [
      "Found 16315 images belonging to 2 classes.\n",
      "Found 8158 images belonging to 2 classes.\n",
      "Found 7379 images belonging to 2 classes.\n"
     ]
    }
   ],
   "source": [
    "from keras.preprocessing.image import ImageDataGenerator\n",
    "\n",
    "# All images will be rescaled by 1./64\n",
    "train_datagen = ImageDataGenerator(rescale=1./64)\n",
    "test_datagen = ImageDataGenerator(rescale=1./64)\n",
    "\n",
    "# generator for the training data\n",
    "train_generator = train_datagen.flow_from_directory(\n",
    "        # This is the target directory\n",
    "        train_dir,\n",
    "        # All images will be resized to 64x64\n",
    "        target_size=(32, 32),\n",
    "        batch_size=32,\n",
    "        # Since we use binary_crossentropy loss, we need binary labels\n",
    "        class_mode='binary')\n",
    "\n",
    "# generator for the validation data\n",
    "validation_generator = test_datagen.flow_from_directory(\n",
    "        validation_dir,\n",
    "        target_size=(32, 32),\n",
    "        batch_size=32,\n",
    "        class_mode='binary')\n",
    "\n",
    "# generator for the test data\n",
    "test_generator = test_datagen.flow_from_directory(\n",
    "        test_dir,\n",
    "        target_size=(32, 32),\n",
    "        batch_size=32,  # this just makes sure it gets through memory\n",
    "        class_mode='binary')"
   ]
  },
  {
   "cell_type": "code",
   "execution_count": 12,
   "metadata": {},
   "outputs": [
    {
     "name": "stdout",
     "output_type": "stream",
     "text": [
      "data batch shape: (32, 32, 32, 3)\n",
      "labels batch shape: (32,)\n"
     ]
    }
   ],
   "source": [
    "for data_batch, labels_batch in train_generator:\n",
    "    print('data batch shape:', data_batch.shape)\n",
    "    print('labels batch shape:', labels_batch.shape)\n",
    "    break"
   ]
  },
  {
   "cell_type": "markdown",
   "metadata": {},
   "source": [
    "# Printing 10 images from a batch"
   ]
  },
  {
   "cell_type": "code",
   "execution_count": 13,
   "metadata": {},
   "outputs": [
    {
     "name": "stderr",
     "output_type": "stream",
     "text": [
      "Clipping input data to the valid range for imshow with RGB data ([0..1] for floats or [0..255] for integers).\n",
      "Clipping input data to the valid range for imshow with RGB data ([0..1] for floats or [0..255] for integers).\n",
      "Clipping input data to the valid range for imshow with RGB data ([0..1] for floats or [0..255] for integers).\n",
      "Clipping input data to the valid range for imshow with RGB data ([0..1] for floats or [0..255] for integers).\n",
      "Clipping input data to the valid range for imshow with RGB data ([0..1] for floats or [0..255] for integers).\n",
      "Clipping input data to the valid range for imshow with RGB data ([0..1] for floats or [0..255] for integers).\n",
      "Clipping input data to the valid range for imshow with RGB data ([0..1] for floats or [0..255] for integers).\n",
      "Clipping input data to the valid range for imshow with RGB data ([0..1] for floats or [0..255] for integers).\n",
      "Clipping input data to the valid range for imshow with RGB data ([0..1] for floats or [0..255] for integers).\n",
      "Clipping input data to the valid range for imshow with RGB data ([0..1] for floats or [0..255] for integers).\n"
     ]
    },
    {
     "data": {
      "image/png": "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\n",
      "text/plain": [
       "<Figure size 1440x1440 with 10 Axes>"
      ]
     },
     "metadata": {},
     "output_type": "display_data"
    }
   ],
   "source": [
    "def plot_strip(data, labels):\n",
    "    plt.rcParams['figure.figsize'] = (20.0, 20.0)\n",
    "    f, ax = plt.subplots(nrows=1, ncols=10)\n",
    "\n",
    "    for i, j in enumerate(np.random.randint(0,labels.shape[0], size=10)):\n",
    "        ax[i].axis('off')\n",
    "        ax[i].set_title(['Landscape','Portrait'][int(labels[j])], loc='center')\n",
    "        ax[i].imshow(data[j,:,:], cmap='gray')\n",
    "\n",
    "        \n",
    "plot_strip(data_batch, labels_batch)"
   ]
  },
  {
   "cell_type": "markdown",
   "metadata": {},
   "source": [
    "## Problem 2 (25 points)\n",
    "\n",
    "Construct a baseline CNN classifier using Keras for the training set and assess the validation set performance at each epoch. The goal is to correctly classify portraits from landscapes. Plot the resulting performance on the training and validation set as a function of epoch using the criteria over which you are optimizing.  You should run at least 20 epochs for this problem."
   ]
  },
  {
   "cell_type": "code",
   "execution_count": 14,
   "metadata": {},
   "outputs": [],
   "source": [
    "from keras.layers import Input, Dense, Activation, ZeroPadding2D, BatchNormalization, Flatten, Conv2D\n",
    "from keras.layers import AveragePooling2D, MaxPooling2D, Dropout\n",
    "from keras.models import Model, Sequential \n",
    "from keras.optimizers import Adam,RMSprop,SGD"
   ]
  },
  {
   "cell_type": "markdown",
   "metadata": {},
   "source": [
    "# setting up a simple baseline model"
   ]
  },
  {
   "cell_type": "code",
   "execution_count": 15,
   "metadata": {},
   "outputs": [],
   "source": [
    "K.clear_session()\n",
    "\n",
    "def simple_model():\n",
    "## 1 input layer, 1 hidden layer w/ Max pooling and 1 dense layer\n",
    "## with Convolution size = 32, filter size = (5,5) stride = (1,1) , padding same, activation = relu\n",
    "## optimizer is sgd nesterov with binary cross entropy\n",
    "\n",
    "    model = Sequential()\n",
    "    model.add(Conv2D(32, (5, 5), strides = (1, 1), padding='same',activation='relu',\n",
    "                            input_shape=data_batch.shape[1:], name = 'conv1'))\n",
    "    model.add(MaxPooling2D((2, 2), strides=2, padding='valid', name='max_pool1'))\n",
    "    model.add(Conv2D(64, (5, 5), strides = (1, 1), padding='same', activation='relu', name = 'conv2'))\n",
    "    model.add(MaxPooling2D((2, 2), strides=2, padding='valid', name='max_pool2'))\n",
    "    model.add(Flatten())\n",
    "    model.add(Dense(1024, kernel_initializer='glorot_uniform', activation='relu', name='fc1'))\n",
    "    model.add(Dense(1, kernel_initializer='glorot_uniform', activation='sigmoid', name='fc2'))\n",
    "    \n",
    "    sgd = SGD(lr = 0.05, decay=1e-6, momentum=0.9, nesterov=True)\n",
    "\n",
    "    model.compile(loss='binary_crossentropy',\n",
    "                  optimizer=sgd,\n",
    "                  metrics=['accuracy'])\n",
    "    return model\n",
    "\n"
   ]
  },
  {
   "cell_type": "code",
   "execution_count": 16,
   "metadata": {},
   "outputs": [
    {
     "name": "stdout",
     "output_type": "stream",
     "text": [
      "_________________________________________________________________\n",
      "Layer (type)                 Output Shape              Param #   \n",
      "=================================================================\n",
      "conv1 (Conv2D)               (None, 32, 32, 32)        2432      \n",
      "_________________________________________________________________\n",
      "max_pool1 (MaxPooling2D)     (None, 16, 16, 32)        0         \n",
      "_________________________________________________________________\n",
      "conv2 (Conv2D)               (None, 16, 16, 64)        51264     \n",
      "_________________________________________________________________\n",
      "max_pool2 (MaxPooling2D)     (None, 8, 8, 64)          0         \n",
      "_________________________________________________________________\n",
      "flatten_1 (Flatten)          (None, 4096)              0         \n",
      "_________________________________________________________________\n",
      "fc1 (Dense)                  (None, 1024)              4195328   \n",
      "_________________________________________________________________\n",
      "fc2 (Dense)                  (None, 1)                 1025      \n",
      "=================================================================\n",
      "Total params: 4,250,049\n",
      "Trainable params: 4,250,049\n",
      "Non-trainable params: 0\n",
      "_________________________________________________________________\n",
      "Epoch 1/30\n",
      "100/100 [==============================] - 27s 266ms/step - loss: 0.7239 - acc: 0.5284 - val_loss: 0.6920 - val_acc: 0.5269\n",
      "Epoch 2/30\n",
      "100/100 [==============================] - 27s 270ms/step - loss: 0.6905 - acc: 0.5347 - val_loss: 0.7020 - val_acc: 0.5038\n",
      "Epoch 3/30\n",
      "100/100 [==============================] - 30s 301ms/step - loss: 0.6913 - acc: 0.5400 - val_loss: 0.6907 - val_acc: 0.5356\n",
      "Epoch 4/30\n",
      "100/100 [==============================] - 32s 320ms/step - loss: 0.6931 - acc: 0.5216 - val_loss: 0.6922 - val_acc: 0.5231\n",
      "Epoch 5/30\n",
      "100/100 [==============================] - 29s 286ms/step - loss: 0.6927 - acc: 0.5178 - val_loss: 0.6951 - val_acc: 0.5012\n",
      "Epoch 6/30\n",
      "100/100 [==============================] - 28s 277ms/step - loss: 0.6909 - acc: 0.5281 - val_loss: 0.6917 - val_acc: 0.5307\n",
      "Epoch 7/30\n",
      "100/100 [==============================] - 27s 273ms/step - loss: 0.6928 - acc: 0.5191 - val_loss: 0.6968 - val_acc: 0.5106\n",
      "Epoch 8/30\n",
      "100/100 [==============================] - 28s 285ms/step - loss: 0.6922 - acc: 0.5334 - val_loss: 0.6915 - val_acc: 0.5294\n",
      "Epoch 9/30\n",
      "100/100 [==============================] - 29s 288ms/step - loss: 0.6915 - acc: 0.5363 - val_loss: 0.6932 - val_acc: 0.4906\n",
      "Epoch 10/30\n",
      "100/100 [==============================] - 28s 278ms/step - loss: 0.6916 - acc: 0.5303 - val_loss: 0.6936 - val_acc: 0.4938\n",
      "Epoch 11/30\n",
      "100/100 [==============================] - 27s 274ms/step - loss: 0.6945 - acc: 0.5102 - val_loss: 0.6999 - val_acc: 0.4662\n",
      "Epoch 12/30\n",
      "100/100 [==============================] - 27s 267ms/step - loss: 0.6941 - acc: 0.5041 - val_loss: 0.6927 - val_acc: 0.5181\n",
      "Epoch 13/30\n",
      "100/100 [==============================] - 27s 267ms/step - loss: 0.6898 - acc: 0.5450 - val_loss: 0.6959 - val_acc: 0.5188\n",
      "Epoch 14/30\n",
      "100/100 [==============================] - 27s 266ms/step - loss: 0.6909 - acc: 0.5406 - val_loss: 0.6933 - val_acc: 0.5112\n",
      "Epoch 15/30\n",
      "100/100 [==============================] - 28s 276ms/step - loss: 0.6923 - acc: 0.5250 - val_loss: 0.6933 - val_acc: 0.4775\n",
      "Epoch 16/30\n",
      "100/100 [==============================] - 30s 300ms/step - loss: 0.6930 - acc: 0.5194 - val_loss: 0.6933 - val_acc: 0.5138\n",
      "Epoch 17/30\n",
      "100/100 [==============================] - 30s 302ms/step - loss: 0.6923 - acc: 0.5244 - val_loss: 0.6945 - val_acc: 0.5188\n",
      "Epoch 18/30\n",
      "100/100 [==============================] - 30s 295ms/step - loss: 0.6922 - acc: 0.5337 - val_loss: 0.6915 - val_acc: 0.5356\n",
      "Epoch 19/30\n",
      "100/100 [==============================] - 27s 275ms/step - loss: 0.6918 - acc: 0.5372 - val_loss: 0.6960 - val_acc: 0.5112\n",
      "Epoch 20/30\n",
      "100/100 [==============================] - 30s 296ms/step - loss: 0.6917 - acc: 0.5366 - val_loss: 0.6948 - val_acc: 0.5169\n",
      "Epoch 21/30\n",
      "100/100 [==============================] - 28s 278ms/step - loss: 0.6908 - acc: 0.5386 - val_loss: 0.6925 - val_acc: 0.5181\n",
      "Epoch 22/30\n",
      "100/100 [==============================] - 27s 269ms/step - loss: 0.6918 - acc: 0.5316 - val_loss: 0.6909 - val_acc: 0.5331\n",
      "Epoch 23/30\n",
      "100/100 [==============================] - 27s 274ms/step - loss: 0.6915 - acc: 0.5366 - val_loss: 0.6945 - val_acc: 0.5131\n",
      "Epoch 24/30\n",
      "100/100 [==============================] - 27s 269ms/step - loss: 0.6930 - acc: 0.5147 - val_loss: 0.6957 - val_acc: 0.4950\n",
      "Epoch 25/30\n",
      "100/100 [==============================] - 27s 268ms/step - loss: 0.6919 - acc: 0.5322 - val_loss: 0.6914 - val_acc: 0.5331\n",
      "Epoch 26/30\n",
      "100/100 [==============================] - 27s 267ms/step - loss: 0.6932 - acc: 0.5193 - val_loss: 0.6924 - val_acc: 0.5207\n",
      "Epoch 27/30\n",
      "100/100 [==============================] - 30s 301ms/step - loss: 0.6931 - acc: 0.5212 - val_loss: 0.6931 - val_acc: 0.5088\n",
      "Epoch 28/30\n",
      "100/100 [==============================] - 29s 287ms/step - loss: 0.6932 - acc: 0.5241 - val_loss: 0.6909 - val_acc: 0.5350\n",
      "Epoch 29/30\n",
      "100/100 [==============================] - 35s 346ms/step - loss: 0.6903 - acc: 0.5409 - val_loss: 0.6935 - val_acc: 0.5019\n",
      "Epoch 30/30\n",
      "100/100 [==============================] - 28s 284ms/step - loss: 0.6932 - acc: 0.5216 - val_loss: 0.6922 - val_acc: 0.5288\n",
      "\n",
      "test accuracy: 0.5409375\n",
      "test loss: 0.6916787272691727\n"
     ]
    }
   ],
   "source": [
    "cnn1 = simple_model()\n",
    "cnn1.summary()\n",
    "\n",
    "# Fit model\n",
    "history = cnn1.fit_generator(\n",
    "    train_generator,\n",
    "    steps_per_epoch=100,\n",
    "    epochs=30,\n",
    "    validation_data=validation_generator,\n",
    "    validation_steps=50,\n",
    "    verbose=1, \n",
    "    callbacks=[TrainValTensorBoard(\"logs\\\\{}\".format(time()), write_graph=True)])\n",
    "\n",
    "test_loss, test_acc = cnn1.evaluate_generator(test_generator, steps=100)\n",
    "print('\\ntest accuracy:', test_acc)\n",
    "print('test loss:', test_loss)"
   ]
  },
  {
   "cell_type": "markdown",
   "metadata": {},
   "source": [
    "## Problem 3 (5 points)\n",
    "\n",
    "From the pattern of training and validation curves, describe what is good/bad and what you plan to do next to improve the result."
   ]
  },
  {
   "cell_type": "markdown",
   "metadata": {},
   "source": [
    "----------:Answer: -----------\n",
    "\n",
    "The trend of the training and validation curves are in the range of loss approx (7 - 7.5) and accuracy at approx 52%. This is good as the model is able to predict based on train and validation results\n",
    "Also test accuracy and loss are in the same range (54%)  which indicates model can predict with 52% accuracy.\n",
    "\n",
    "Using additional layers should be able to improve the overall accuracy of the model predictions. \n",
    "We can also try different optmizers like RMSNorm and Adam\n",
    "Also adding normaization and dropout should be able to tune to model for overfitting and diminishing gradients "
   ]
  },
  {
   "cell_type": "markdown",
   "metadata": {},
   "source": [
    "## Problem 4 (45 points)\n",
    "\n",
    "This step is where we want you to do most of your personal learning.  Your goal is to improve the network using a combination of architecture choices, parameter tuning, and experimenting with different optimizers/dropout/regularization/etc. Treat each of these as separate optimization/exploration steps for now.  We would like to see 3 separate steps that cover different areas.  The format of the 3 steps should be as follows:\n",
    "  * State the hypothesis/strategy for how you will improve/explore a particular aspect.\n",
    "  * Describe what types of tests you are running and why (i.e. what range of parameters are you choosing and why)\n",
    "  * Include the code and results\n",
    "  * State your interpretation of the results\n",
    " \n",
    "We're not looking for research in deep learning, but we want you to gain some hands-on experience working with Keras and figuring out what works. A good example may be comparing strategies to overcome overfitting, or comparing a few different CNN architectures in terms of performance and speed, or comparing data augmentation types and results.  \n",
    " \n"
   ]
  },
  {
   "cell_type": "markdown",
   "metadata": {},
   "source": [
    "------------------ Answer ----------------------------\n",
    "\n",
    "State the hypothesis/strategy for how you will improve/explore a particular aspect.\n",
    "Describe what types of tests you are running and why (i.e. what range of parameters are you choosing and why)\n",
    "- Adding multiple layers to the model to increase accuracy of the model\n",
    "- Running with differnt optimizers to check for better performance and gradient(momentum)\n",
    "- Running with normalization and drop out to tune model hyperparameters\n",
    "- Running with Augmented data to see if same accuracy can be achived with lesser input\n",
    "\n",
    "Include the code and results\n",
    "State your interpretation of the results"
   ]
  },
  {
   "cell_type": "markdown",
   "metadata": {},
   "source": [
    "# Adding more layers to base model"
   ]
  },
  {
   "cell_type": "markdown",
   "metadata": {},
   "source": [
    "Adding more layers does not increase accurary of model\n",
    "The training and validation curves are similar to the base model at approx 54% accuracy"
   ]
  },
  {
   "cell_type": "code",
   "execution_count": 21,
   "metadata": {},
   "outputs": [],
   "source": [
    "#tensorboard = TensorBoard(log_dir=\"logs/{}\".format(time()))\n",
    "K.clear_session()\n",
    "\n",
    "def fivelayer_model():\n",
    "## 1 input layer, 4 hidden layer w/ Max pooling and 2 dense fully connected layers\n",
    "## with Convolution size(s) = (32 to 256) filter size = 3 stride = 3 , padding same, activation = relu\n",
    "## optimizer is sgd nesterov with binary cross entropy\n",
    "\n",
    "    model = Sequential(name='FiveLayerModel')\n",
    "    ##input layer\n",
    "    model.add(Conv2D(32, (3, 3), padding='same', activation='relu',\n",
    "                            input_shape=data_batch.shape[1:], name = 'conv1.1'))\n",
    "    model.add(MaxPooling2D((2, 2), name='max_pool1'))\n",
    "    ## 1 hidden layer\n",
    "    model.add(Conv2D(64, (3, 3), padding='same', activation='relu', name = 'conv2.1'))\n",
    "    model.add(Conv2D(64, (3, 3), padding='same', activation='relu', name = 'conv2.2'))\n",
    "    model.add(MaxPooling2D((2, 2), name='max_pool2'))\n",
    "    ## 2 hidden layer\n",
    "    model.add(Conv2D(64, (3, 3), padding='same', activation='relu', name = 'conv3.1'))\n",
    "    model.add(Conv2D(64, (3, 3), padding='same', activation='relu', name = 'conv3.2'))\n",
    "    model.add(Conv2D(64, (3, 3), padding='same', activation='relu', name = 'conv3.3'))\n",
    "    model.add(MaxPooling2D((2, 2), name='max_pool3'))\n",
    "    ## 3 hidden layer\n",
    "    model.add(Conv2D(128, (3, 3), padding='same', activation='relu', name = 'conv4.1'))\n",
    "    model.add(Conv2D(128, (3, 3), padding='same', activation='relu', name = 'conv4.2'))\n",
    "    model.add(Conv2D(128, (3, 3), padding='same', activation='relu', name = 'conv4.3'))\n",
    "    model.add(MaxPooling2D((2, 2), name='max_pool4'))\n",
    "    ## 4 hidden layer\n",
    "    model.add(Conv2D(128, (3, 3), padding='same', activation='relu', name = 'conv5.1'))\n",
    "    model.add(Conv2D(128, (3, 3), padding='same', activation='relu', name = 'conv5.2'))\n",
    "    model.add(Conv2D(128, (3, 3), padding='same', activation='relu', name = 'conv5.3'))\n",
    "    model.add(MaxPooling2D((2, 2), name='max_pool5'))\n",
    "    ## fc layer\n",
    "    model.add(Flatten())\n",
    "    model.add(Dense(512, kernel_initializer='glorot_uniform', activation='relu', name='fc1'))\n",
    "    ## fc layer\n",
    "    model.add(Dense(512, kernel_initializer='glorot_uniform', activation='relu', name='fc2'))\n",
    "    ## op layer\n",
    "    model.add(Dense(1, kernel_initializer='glorot_uniform', activation='sigmoid', name='out1'))\n",
    "\n",
    "    sgd = SGD(lr = 0.05, decay=1e-6, momentum=0.9, nesterov=True)\n",
    "    \n",
    "    model.compile(loss='binary_crossentropy',\n",
    "                  optimizer=sgd,\n",
    "                  metrics=['accuracy'])\n",
    "    return model"
   ]
  },
  {
   "cell_type": "code",
   "execution_count": 22,
   "metadata": {},
   "outputs": [
    {
     "name": "stdout",
     "output_type": "stream",
     "text": [
      "_________________________________________________________________\n",
      "Layer (type)                 Output Shape              Param #   \n",
      "=================================================================\n",
      "conv1.1 (Conv2D)             (None, 32, 32, 32)        896       \n",
      "_________________________________________________________________\n",
      "max_pool1 (MaxPooling2D)     (None, 16, 16, 32)        0         \n",
      "_________________________________________________________________\n",
      "conv2.1 (Conv2D)             (None, 16, 16, 64)        18496     \n",
      "_________________________________________________________________\n",
      "conv2.2 (Conv2D)             (None, 16, 16, 64)        36928     \n",
      "_________________________________________________________________\n",
      "max_pool2 (MaxPooling2D)     (None, 8, 8, 64)          0         \n",
      "_________________________________________________________________\n",
      "conv3.1 (Conv2D)             (None, 8, 8, 64)          36928     \n",
      "_________________________________________________________________\n",
      "conv3.2 (Conv2D)             (None, 8, 8, 64)          36928     \n",
      "_________________________________________________________________\n",
      "conv3.3 (Conv2D)             (None, 8, 8, 64)          36928     \n",
      "_________________________________________________________________\n",
      "max_pool3 (MaxPooling2D)     (None, 4, 4, 64)          0         \n",
      "_________________________________________________________________\n",
      "conv4.1 (Conv2D)             (None, 4, 4, 128)         73856     \n",
      "_________________________________________________________________\n",
      "conv4.2 (Conv2D)             (None, 4, 4, 128)         147584    \n",
      "_________________________________________________________________\n",
      "conv4.3 (Conv2D)             (None, 4, 4, 128)         147584    \n",
      "_________________________________________________________________\n",
      "max_pool4 (MaxPooling2D)     (None, 2, 2, 128)         0         \n",
      "_________________________________________________________________\n",
      "conv5.1 (Conv2D)             (None, 2, 2, 128)         147584    \n",
      "_________________________________________________________________\n",
      "conv5.2 (Conv2D)             (None, 2, 2, 128)         147584    \n",
      "_________________________________________________________________\n",
      "conv5.3 (Conv2D)             (None, 2, 2, 128)         147584    \n",
      "_________________________________________________________________\n",
      "max_pool5 (MaxPooling2D)     (None, 1, 1, 128)         0         \n",
      "_________________________________________________________________\n",
      "flatten_1 (Flatten)          (None, 128)               0         \n",
      "_________________________________________________________________\n",
      "fc1 (Dense)                  (None, 512)               66048     \n",
      "_________________________________________________________________\n",
      "fc2 (Dense)                  (None, 512)               262656    \n",
      "_________________________________________________________________\n",
      "out1 (Dense)                 (None, 1)                 513       \n",
      "=================================================================\n",
      "Total params: 1,308,097\n",
      "Trainable params: 1,308,097\n",
      "Non-trainable params: 0\n",
      "_________________________________________________________________\n",
      "Epoch 1/30\n",
      "100/100 [==============================] - 39s 393ms/step - loss: 2.2310 - acc: 0.5513 - val_loss: 7.7218 - val_acc: 0.5156\n",
      "Epoch 2/30\n",
      "100/100 [==============================] - 37s 371ms/step - loss: 7.5477 - acc: 0.5266 - val_loss: 7.5128 - val_acc: 0.5288\n",
      "Epoch 3/30\n",
      "100/100 [==============================] - 40s 403ms/step - loss: 7.3385 - acc: 0.5397 - val_loss: 7.9911 - val_acc: 0.4988\n",
      "Epoch 4/30\n",
      "100/100 [==============================] - 42s 422ms/step - loss: 7.6424 - acc: 0.5206 - val_loss: 7.3335 - val_acc: 0.5400\n",
      "Epoch 5/30\n",
      "100/100 [==============================] - 36s 364ms/step - loss: 7.2687 - acc: 0.5441 - val_loss: 7.7420 - val_acc: 0.5144\n",
      "Epoch 6/30\n",
      "100/100 [==============================] - 37s 374ms/step - loss: 7.3119 - acc: 0.5414 - val_loss: 7.4524 - val_acc: 0.5325\n",
      "Epoch 7/30\n",
      "100/100 [==============================] - 37s 371ms/step - loss: 7.3186 - acc: 0.5409 - val_loss: 7.8217 - val_acc: 0.5094\n",
      "Epoch 8/30\n",
      "100/100 [==============================] - 40s 398ms/step - loss: 7.6773 - acc: 0.5184 - val_loss: 7.7221 - val_acc: 0.5156\n",
      "Epoch 9/30\n",
      "100/100 [==============================] - 43s 428ms/step - loss: 7.5228 - acc: 0.5281 - val_loss: 7.5128 - val_acc: 0.5288\n",
      "Epoch 10/30\n",
      "100/100 [==============================] - 42s 419ms/step - loss: 7.4481 - acc: 0.5328 - val_loss: 7.6723 - val_acc: 0.5188\n",
      "Epoch 11/30\n",
      "100/100 [==============================] - 38s 375ms/step - loss: 7.4542 - acc: 0.5324 - val_loss: 8.0211 - val_acc: 0.4969\n",
      "Epoch 12/30\n",
      "100/100 [==============================] - 41s 410ms/step - loss: 7.5726 - acc: 0.5250 - val_loss: 7.9014 - val_acc: 0.5044\n",
      "Epoch 13/30\n",
      "100/100 [==============================] - 40s 400ms/step - loss: 7.3036 - acc: 0.5419 - val_loss: 7.5826 - val_acc: 0.5244\n",
      "Epoch 14/30\n",
      "100/100 [==============================] - 38s 376ms/step - loss: 7.5477 - acc: 0.5266 - val_loss: 7.7719 - val_acc: 0.5125\n",
      "Epoch 15/30\n",
      "100/100 [==============================] - 40s 397ms/step - loss: 7.5477 - acc: 0.5266 - val_loss: 7.5527 - val_acc: 0.5262\n",
      "Epoch 16/30\n",
      "100/100 [==============================] - 38s 385ms/step - loss: 7.1385 - acc: 0.5522 - val_loss: 7.4424 - val_acc: 0.5332\n",
      "Epoch 17/30\n",
      "100/100 [==============================] - 37s 369ms/step - loss: 7.5577 - acc: 0.5259 - val_loss: 7.5029 - val_acc: 0.5294\n",
      "Epoch 18/30\n",
      "100/100 [==============================] - 36s 362ms/step - loss: 7.5278 - acc: 0.5278 - val_loss: 7.8716 - val_acc: 0.5062\n",
      "Epoch 19/30\n",
      "100/100 [==============================] - 36s 361ms/step - loss: 7.2239 - acc: 0.5469 - val_loss: 7.1940 - val_acc: 0.5487\n",
      "Epoch 20/30\n",
      "100/100 [==============================] - 36s 365ms/step - loss: 7.3734 - acc: 0.5375 - val_loss: 7.9712 - val_acc: 0.5000\n",
      "Epoch 21/30\n",
      "100/100 [==============================] - 37s 365ms/step - loss: 7.5556 - acc: 0.5261 - val_loss: 7.6420 - val_acc: 0.5207\n",
      "Epoch 22/30\n",
      "100/100 [==============================] - 37s 369ms/step - loss: 7.2588 - acc: 0.5447 - val_loss: 7.5826 - val_acc: 0.5244\n",
      "Epoch 23/30\n",
      "100/100 [==============================] - 37s 367ms/step - loss: 7.6374 - acc: 0.5209 - val_loss: 7.7918 - val_acc: 0.5112\n",
      "Epoch 24/30\n",
      "100/100 [==============================] - 38s 378ms/step - loss: 7.7221 - acc: 0.5156 - val_loss: 7.7619 - val_acc: 0.5131\n",
      "Epoch 25/30\n",
      "100/100 [==============================] - 37s 366ms/step - loss: 7.5876 - acc: 0.5241 - val_loss: 7.4032 - val_acc: 0.5356\n",
      "Epoch 26/30\n",
      "100/100 [==============================] - 36s 362ms/step - loss: 7.0891 - acc: 0.5553 - val_loss: 7.8515 - val_acc: 0.5075\n",
      "Epoch 27/30\n",
      "100/100 [==============================] - 37s 368ms/step - loss: 7.1492 - acc: 0.5516 - val_loss: 7.9413 - val_acc: 0.5019\n",
      "Epoch 28/30\n",
      "100/100 [==============================] - 36s 363ms/step - loss: 7.7570 - acc: 0.5134 - val_loss: 7.3933 - val_acc: 0.5363\n",
      "Epoch 29/30\n",
      "100/100 [==============================] - 40s 396ms/step - loss: 7.3036 - acc: 0.5419 - val_loss: 7.9014 - val_acc: 0.5044\n",
      "Epoch 30/30\n",
      "100/100 [==============================] - 38s 378ms/step - loss: 7.5029 - acc: 0.5294 - val_loss: 7.7420 - val_acc: 0.5144\n",
      "\n",
      "test accuracy: 0.5234375\n",
      "test loss: 7.597543158531189\n"
     ]
    }
   ],
   "source": [
    "cnn2 = fivelayer_model()\n",
    "cnn2.summary()\n",
    "\n",
    "# Fit model\n",
    "history = cnn2.fit_generator(\n",
    "    train_generator,\n",
    "    steps_per_epoch=100,\n",
    "    epochs=30,\n",
    "    validation_data=validation_generator,\n",
    "    validation_steps=50,\n",
    "    verbose=1, \n",
    "    callbacks=[TrainValTensorBoard(\"logs\\\\{}\".format(time()), write_graph=True)])\n",
    "\n",
    "test_loss, test_acc = cnn2.evaluate_generator(test_generator, steps=100)\n",
    "print('\\ntest accuracy:', test_acc)\n",
    "print('test loss:', test_loss)"
   ]
  },
  {
   "cell_type": "markdown",
   "metadata": {},
   "source": [
    "# Using RMS prop optimizer"
   ]
  },
  {
   "cell_type": "markdown",
   "metadata": {},
   "source": [
    "RMS prop does not imporve the performance of the model by much, even though it starts with 60% accuracy, the accuracy gradually settles down to 52%. This is similar to the baseline model and the five layer model with SGG.\n",
    "\n",
    "The Keras documenation mentions RMS prop is usually a good choice for RNN's and may be this case with this image classification problem"
   ]
  },
  {
   "cell_type": "code",
   "execution_count": 23,
   "metadata": {},
   "outputs": [],
   "source": [
    "#tensorboard = TensorBoard(log_dir=\"logs/{}\".format(time()))\n",
    "K.clear_session()\n",
    "\n",
    "def fivelayer_RMSprop_model():\n",
    "## 1 input layer, 4 hidden layer w/ Max pooling and 2 dense fully connected layers\n",
    "## with Convolution size(s) = (32 to 256) filter size = 3 stride = 3 , padding same, activation = relu\n",
    "## optimizer is RMSProp optimizer with binary cross entropy\n",
    "\n",
    "    model = Sequential(name='FiveLayerModel')\n",
    "    ##input layer\n",
    "    model.add(Conv2D(32, (3, 3), padding='same', activation='relu',\n",
    "                            input_shape=data_batch.shape[1:], name = 'conv1.1'))\n",
    "    model.add(MaxPooling2D((2, 2), name='max_pool1'))\n",
    "    ## 1 hidden layer\n",
    "    model.add(Conv2D(64, (3, 3), padding='same', activation='relu', name = 'conv2.1'))\n",
    "    model.add(Conv2D(64, (3, 3), padding='same', activation='relu', name = 'conv2.2'))\n",
    "    model.add(MaxPooling2D((2, 2), name='max_pool2'))\n",
    "    ## 2 hidden layer\n",
    "    model.add(Conv2D(64, (3, 3), padding='same', activation='relu', name = 'conv3.1'))\n",
    "    model.add(Conv2D(64, (3, 3), padding='same', activation='relu', name = 'conv3.2'))\n",
    "    model.add(Conv2D(64, (3, 3), padding='same', activation='relu', name = 'conv3.3'))\n",
    "    model.add(MaxPooling2D((2, 2), name='max_pool3'))\n",
    "    ## 3 hidden layer\n",
    "    model.add(Conv2D(128, (3, 3), padding='same', activation='relu', name = 'conv4.1'))\n",
    "    model.add(Conv2D(128, (3, 3), padding='same', activation='relu', name = 'conv4.2'))\n",
    "    model.add(Conv2D(128, (3, 3), padding='same', activation='relu', name = 'conv4.3'))\n",
    "    model.add(MaxPooling2D((2, 2), name='max_pool4'))\n",
    "    ## 4 hidden layer\n",
    "    model.add(Conv2D(128, (3, 3), padding='same', activation='relu', name = 'conv5.1'))\n",
    "    model.add(Conv2D(128, (3, 3), padding='same', activation='relu', name = 'conv5.2'))\n",
    "    model.add(Conv2D(128, (3, 3), padding='same', activation='relu', name = 'conv5.3'))\n",
    "    model.add(MaxPooling2D((2, 2), name='max_pool5'))\n",
    "    ## fc layer\n",
    "    model.add(Flatten())\n",
    "    model.add(Dense(512, kernel_initializer='glorot_uniform', activation='relu', name='fc1'))\n",
    "    ## fc layer\n",
    "    model.add(Dense(512, kernel_initializer='glorot_uniform', activation='relu', name='fc2'))\n",
    "    ## op layer\n",
    "    model.add(Dense(1, kernel_initializer='glorot_uniform', activation='sigmoid', name='out1'))\n",
    "\n",
    "    model.compile(loss='binary_crossentropy',\n",
    "                  optimizer=optimizers.RMSprop(lr=1e-4),\n",
    "                  metrics=['acc'])\n",
    "    return model"
   ]
  },
  {
   "cell_type": "code",
   "execution_count": 24,
   "metadata": {},
   "outputs": [
    {
     "name": "stdout",
     "output_type": "stream",
     "text": [
      "_________________________________________________________________\n",
      "Layer (type)                 Output Shape              Param #   \n",
      "=================================================================\n",
      "conv1.1 (Conv2D)             (None, 32, 32, 32)        896       \n",
      "_________________________________________________________________\n",
      "max_pool1 (MaxPooling2D)     (None, 16, 16, 32)        0         \n",
      "_________________________________________________________________\n",
      "conv2.1 (Conv2D)             (None, 16, 16, 64)        18496     \n",
      "_________________________________________________________________\n",
      "conv2.2 (Conv2D)             (None, 16, 16, 64)        36928     \n",
      "_________________________________________________________________\n",
      "max_pool2 (MaxPooling2D)     (None, 8, 8, 64)          0         \n",
      "_________________________________________________________________\n",
      "conv3.1 (Conv2D)             (None, 8, 8, 64)          36928     \n",
      "_________________________________________________________________\n",
      "conv3.2 (Conv2D)             (None, 8, 8, 64)          36928     \n",
      "_________________________________________________________________\n",
      "conv3.3 (Conv2D)             (None, 8, 8, 64)          36928     \n",
      "_________________________________________________________________\n",
      "max_pool3 (MaxPooling2D)     (None, 4, 4, 64)          0         \n",
      "_________________________________________________________________\n",
      "conv4.1 (Conv2D)             (None, 4, 4, 128)         73856     \n",
      "_________________________________________________________________\n",
      "conv4.2 (Conv2D)             (None, 4, 4, 128)         147584    \n",
      "_________________________________________________________________\n",
      "conv4.3 (Conv2D)             (None, 4, 4, 128)         147584    \n",
      "_________________________________________________________________\n",
      "max_pool4 (MaxPooling2D)     (None, 2, 2, 128)         0         \n",
      "_________________________________________________________________\n",
      "conv5.1 (Conv2D)             (None, 2, 2, 128)         147584    \n",
      "_________________________________________________________________\n",
      "conv5.2 (Conv2D)             (None, 2, 2, 128)         147584    \n",
      "_________________________________________________________________\n",
      "conv5.3 (Conv2D)             (None, 2, 2, 128)         147584    \n",
      "_________________________________________________________________\n",
      "max_pool5 (MaxPooling2D)     (None, 1, 1, 128)         0         \n",
      "_________________________________________________________________\n",
      "flatten_1 (Flatten)          (None, 128)               0         \n",
      "_________________________________________________________________\n",
      "fc1 (Dense)                  (None, 512)               66048     \n",
      "_________________________________________________________________\n",
      "fc2 (Dense)                  (None, 512)               262656    \n",
      "_________________________________________________________________\n",
      "out1 (Dense)                 (None, 1)                 513       \n",
      "=================================================================\n",
      "Total params: 1,308,097\n",
      "Trainable params: 1,308,097\n",
      "Non-trainable params: 0\n",
      "_________________________________________________________________\n",
      "Epoch 1/30\n",
      "100/100 [==============================] - 39s 392ms/step - loss: 0.6586 - acc: 0.6112 - val_loss: 0.6337 - val_acc: 0.5701\n",
      "Epoch 2/30\n",
      "100/100 [==============================] - 45s 449ms/step - loss: 0.6316 - acc: 0.6503 - val_loss: 1.1492 - val_acc: 0.5387\n",
      "Epoch 3/30\n",
      "100/100 [==============================] - 38s 384ms/step - loss: 3.3370 - acc: 0.5656 - val_loss: 8.0310 - val_acc: 0.4994\n",
      "Epoch 4/30\n",
      "100/100 [==============================] - 36s 361ms/step - loss: 7.5692 - acc: 0.5241 - val_loss: 7.5826 - val_acc: 0.5244\n",
      "Epoch 5/30\n",
      "100/100 [==============================] - 37s 371ms/step - loss: 7.5079 - acc: 0.5291 - val_loss: 7.7520 - val_acc: 0.5138\n",
      "Epoch 6/30\n",
      "100/100 [==============================] - 47s 473ms/step - loss: 7.4381 - acc: 0.5334 - val_loss: 7.7018 - val_acc: 0.5169\n",
      "Epoch 7/30\n",
      "100/100 [==============================] - 40s 396ms/step - loss: 7.5973 - acc: 0.5235 - val_loss: 7.4929 - val_acc: 0.5300\n",
      "Epoch 8/30\n",
      "100/100 [==============================] - 41s 409ms/step - loss: 7.3285 - acc: 0.5403 - val_loss: 7.6025 - val_acc: 0.5231\n",
      "Epoch 9/30\n",
      "100/100 [==============================] - 40s 398ms/step - loss: 7.4331 - acc: 0.5337 - val_loss: 8.0110 - val_acc: 0.4975\n",
      "Epoch 10/30\n",
      "100/100 [==============================] - 41s 407ms/step - loss: 7.4680 - acc: 0.5316 - val_loss: 7.6523 - val_acc: 0.5200\n",
      "Epoch 11/30\n",
      "100/100 [==============================] - 40s 399ms/step - loss: 7.4232 - acc: 0.5344 - val_loss: 7.5322 - val_acc: 0.5275\n",
      "Epoch 12/30\n",
      "100/100 [==============================] - 40s 401ms/step - loss: 7.5461 - acc: 0.5267 - val_loss: 7.9612 - val_acc: 0.5006\n",
      "Epoch 13/30\n",
      "100/100 [==============================] - 42s 417ms/step - loss: 7.3435 - acc: 0.5394 - val_loss: 7.7918 - val_acc: 0.5112\n",
      "Epoch 14/30\n",
      "100/100 [==============================] - 43s 429ms/step - loss: 7.5278 - acc: 0.5278 - val_loss: 7.2239 - val_acc: 0.5469\n",
      "Epoch 15/30\n",
      "100/100 [==============================] - 40s 402ms/step - loss: 7.6125 - acc: 0.5225 - val_loss: 7.6424 - val_acc: 0.5206\n",
      "Epoch 16/30\n",
      "100/100 [==============================] - 38s 383ms/step - loss: 7.2339 - acc: 0.5463 - val_loss: 7.7221 - val_acc: 0.5156\n",
      "Epoch 17/30\n",
      "100/100 [==============================] - 41s 408ms/step - loss: 7.5027 - acc: 0.5294 - val_loss: 7.5123 - val_acc: 0.5288\n",
      "Epoch 18/30\n",
      "100/100 [==============================] - 40s 404ms/step - loss: 7.5527 - acc: 0.5262 - val_loss: 8.1406 - val_acc: 0.4894\n",
      "Epoch 19/30\n",
      "100/100 [==============================] - 38s 384ms/step - loss: 7.3136 - acc: 0.5413 - val_loss: 7.6523 - val_acc: 0.5200\n",
      "Epoch 20/30\n",
      "100/100 [==============================] - 43s 431ms/step - loss: 7.4580 - acc: 0.5322 - val_loss: 7.5527 - val_acc: 0.5262\n",
      "Epoch 21/30\n",
      "100/100 [==============================] - 42s 423ms/step - loss: 7.2986 - acc: 0.5422 - val_loss: 7.5527 - val_acc: 0.5262\n",
      "Epoch 22/30\n",
      "100/100 [==============================] - 43s 431ms/step - loss: 7.6603 - acc: 0.5195 - val_loss: 7.6120 - val_acc: 0.5225\n",
      "Epoch 23/30\n",
      "100/100 [==============================] - 43s 434ms/step - loss: 7.5328 - acc: 0.5275 - val_loss: 7.6922 - val_acc: 0.5175\n",
      "Epoch 24/30\n",
      "100/100 [==============================] - 38s 382ms/step - loss: 7.4780 - acc: 0.5309 - val_loss: 7.4830 - val_acc: 0.5306\n",
      "Epoch 25/30\n",
      "100/100 [==============================] - 39s 388ms/step - loss: 7.4780 - acc: 0.5309 - val_loss: 7.9214 - val_acc: 0.5031\n",
      "Epoch 26/30\n",
      "100/100 [==============================] - 45s 452ms/step - loss: 7.2737 - acc: 0.5438 - val_loss: 7.6523 - val_acc: 0.5200\n",
      "Epoch 27/30\n",
      "100/100 [==============================] - 46s 457ms/step - loss: 7.3206 - acc: 0.5408 - val_loss: 7.4823 - val_acc: 0.5307\n",
      "Epoch 28/30\n",
      "100/100 [==============================] - 42s 417ms/step - loss: 7.4730 - acc: 0.5312 - val_loss: 8.0509 - val_acc: 0.4950\n",
      "Epoch 29/30\n",
      "100/100 [==============================] - 44s 437ms/step - loss: 7.4381 - acc: 0.5334 - val_loss: 7.7520 - val_acc: 0.5138\n",
      "Epoch 30/30\n",
      "100/100 [==============================] - 41s 414ms/step - loss: 7.4481 - acc: 0.5328 - val_loss: 7.6822 - val_acc: 0.5181\n",
      "\n",
      "test accuracy: 0.5318481330591793\n",
      "test loss: 7.463457589019306\n"
     ]
    }
   ],
   "source": [
    "cnn21 = fivelayer_RMSprop_model()\n",
    "cnn21.summary()\n",
    "\n",
    "# Fit model\n",
    "history = cnn21.fit_generator(\n",
    "    train_generator,\n",
    "    steps_per_epoch=100,\n",
    "    epochs=30,\n",
    "    validation_data=validation_generator,\n",
    "    validation_steps=50,\n",
    "    verbose=1, \n",
    "    callbacks=[TrainValTensorBoard(\"logs\\\\{}\".format(time()), write_graph=True)])\n",
    "\n",
    "test_loss, test_acc = cnn21.evaluate_generator(test_generator, steps=100)\n",
    "print('\\ntest accuracy:', test_acc)\n",
    "print('test loss:', test_loss)"
   ]
  },
  {
   "cell_type": "markdown",
   "metadata": {},
   "source": [
    "# Adding normalization and drop out; also switching to Adam optimizer"
   ]
  },
  {
   "cell_type": "markdown",
   "metadata": {},
   "source": [
    "adding batch normalization and dropout; switching to an Adam optimizer; \n",
    "Checking model performance shoots up to 92% accuaray (which is a significant improvement from the baseline and RMS prop models)\n",
    "Also adding dropout and normalization leads to removal of dead neurons and overfitting which may be added with the additional layers in the modeal\n",
    "\n",
    "The test accuary of the model is also at 89% which indicates this is a significantly better model than the previously tried models. \n",
    "\n",
    "Looking at test accuracy a little lower than validation accuracy indicates some overfitting. Addding regularization may be another option to add to this model to incorporate penalties to the loss function and reduct over fitting."
   ]
  },
  {
   "cell_type": "code",
   "execution_count": 29,
   "metadata": {},
   "outputs": [],
   "source": [
    "# A network architecture with BN and dropout\n",
    "K.clear_session()\n",
    "\n",
    "def dropout_model():\n",
    "## 1 input layer, 4 hidden layer w/ Max pooling and 2 dense fully connected layers\n",
    "## with Convolution size(s) = (32 to 256) filter size = 3 stride = 3 , padding same, activation = relu\n",
    "## dense layer with 256 filters, relu activation and 0.4 drop out\n",
    "## optimizer is Adam with binary cross entropy\n",
    "\n",
    "    model = Sequential()\n",
    "    #input layer\n",
    "    model.add(Conv2D(filters=32, kernel_size=(3,3), padding='same',\n",
    "                     input_shape=data_batch.shape[1:], name = 'conv1.1'))\n",
    "    model.add(BatchNormalization())\n",
    "    model.add(Activation('relu'))\n",
    "    model.add(MaxPooling2D(pool_size=(2,2), name='max_pool1'))\n",
    "    \n",
    "    #layer 1\n",
    "    model.add(Conv2D(filters=64, kernel_size=(3,3),padding='same', name = 'conv2.1'))\n",
    "    model.add(Conv2D(filters=64, kernel_size=(3,3),padding='same', name = 'conv2.2'))\n",
    "    model.add(BatchNormalization())\n",
    "    model.add(Activation('relu'))\n",
    "    model.add(MaxPooling2D(pool_size=(2,2), name='max_pool2'))\n",
    "    model.add(Dropout(rate=0.2))\n",
    "   \n",
    "    #layer 2\n",
    "    model.add(Conv2D(filters=128, kernel_size=(3,3),padding='same', name = 'conv3.1'))\n",
    "    model.add(Conv2D(filters=128, kernel_size=(3,3),padding='same', name = 'conv3.2'))\n",
    "    model.add(BatchNormalization())\n",
    "    model.add(Activation('relu'))\n",
    "    model.add(MaxPooling2D(pool_size=(2,2), name='max_pool3'))\n",
    "    model.add(Dropout(rate=0.2))\n",
    "   \n",
    "    #layer 3\n",
    "    model.add(Conv2D(filters=256, kernel_size=(3,3),padding='same', name = 'conv4.1'))\n",
    "    model.add(Conv2D(filters=256, kernel_size=(3,3),padding='same', name = 'conv4.2'))\n",
    "    model.add(BatchNormalization())\n",
    "    model.add(Activation('relu'))\n",
    "    model.add(MaxPooling2D(pool_size=(2,2), name='max_pool4'))\n",
    "    model.add(Dropout(rate=0.2))\n",
    "   \n",
    "    #layer 4\n",
    "    model.add(Conv2D(filters=256, kernel_size=(3,3),padding='same', name = 'conv5.1'))\n",
    "    model.add(Conv2D(filters=256, kernel_size=(3,3),padding='same', name = 'conv5.2'))\n",
    "    model.add(BatchNormalization())\n",
    "    model.add(Activation('relu'))\n",
    "    model.add(MaxPooling2D(pool_size=(2,2), name='max_pool5'))\n",
    "    model.add(Dropout(rate=0.2))\n",
    "   \n",
    "    ##fully connected layer1\n",
    "    model.add(Flatten())\n",
    "    model.add(Dense(512, kernel_initializer='glorot_uniform', name = 'Dense1'))\n",
    "    model.add(BatchNormalization())\n",
    "    model.add(Activation('relu'))\n",
    "    model.add(Dropout(rate=0.4))\n",
    "    \n",
    "    ##fully connected layer2\n",
    "    model.add(Dense(512, kernel_initializer='glorot_uniform', name = 'Dense2'))\n",
    "    model.add(BatchNormalization())\n",
    "    model.add(Activation('relu'))\n",
    "    model.add(Dropout(rate=0.4))\n",
    "    \n",
    "    ##predict layer\n",
    "    model.add(Dense(1, kernel_initializer='glorot_uniform', activation=\"sigmoid\", name = 'Dense_op'))\n",
    "\n",
    "    # Train model\n",
    "    model.compile(Adam(lr=0.001),loss=\"binary_crossentropy\", metrics=[\"accuracy\"])\n",
    "    return model"
   ]
  },
  {
   "cell_type": "code",
   "execution_count": 30,
   "metadata": {},
   "outputs": [
    {
     "name": "stdout",
     "output_type": "stream",
     "text": [
      "_________________________________________________________________\n",
      "Layer (type)                 Output Shape              Param #   \n",
      "=================================================================\n",
      "conv1.1 (Conv2D)             (None, 32, 32, 32)        896       \n",
      "_________________________________________________________________\n",
      "batch_normalization_1 (Batch (None, 32, 32, 32)        128       \n",
      "_________________________________________________________________\n",
      "activation_1 (Activation)    (None, 32, 32, 32)        0         \n",
      "_________________________________________________________________\n",
      "max_pool1 (MaxPooling2D)     (None, 16, 16, 32)        0         \n",
      "_________________________________________________________________\n",
      "conv2.1 (Conv2D)             (None, 16, 16, 64)        18496     \n",
      "_________________________________________________________________\n",
      "conv2.2 (Conv2D)             (None, 16, 16, 64)        36928     \n",
      "_________________________________________________________________\n",
      "batch_normalization_2 (Batch (None, 16, 16, 64)        256       \n",
      "_________________________________________________________________\n",
      "activation_2 (Activation)    (None, 16, 16, 64)        0         \n",
      "_________________________________________________________________\n",
      "max_pool2 (MaxPooling2D)     (None, 8, 8, 64)          0         \n",
      "_________________________________________________________________\n",
      "dropout_1 (Dropout)          (None, 8, 8, 64)          0         \n",
      "_________________________________________________________________\n",
      "conv3.1 (Conv2D)             (None, 8, 8, 128)         73856     \n",
      "_________________________________________________________________\n",
      "conv3.2 (Conv2D)             (None, 8, 8, 128)         147584    \n",
      "_________________________________________________________________\n",
      "batch_normalization_3 (Batch (None, 8, 8, 128)         512       \n",
      "_________________________________________________________________\n",
      "activation_3 (Activation)    (None, 8, 8, 128)         0         \n",
      "_________________________________________________________________\n",
      "max_pool3 (MaxPooling2D)     (None, 4, 4, 128)         0         \n",
      "_________________________________________________________________\n",
      "dropout_2 (Dropout)          (None, 4, 4, 128)         0         \n",
      "_________________________________________________________________\n",
      "conv4.1 (Conv2D)             (None, 4, 4, 256)         295168    \n",
      "_________________________________________________________________\n",
      "conv4.2 (Conv2D)             (None, 4, 4, 256)         590080    \n",
      "_________________________________________________________________\n",
      "batch_normalization_4 (Batch (None, 4, 4, 256)         1024      \n",
      "_________________________________________________________________\n",
      "activation_4 (Activation)    (None, 4, 4, 256)         0         \n",
      "_________________________________________________________________\n",
      "max_pool4 (MaxPooling2D)     (None, 2, 2, 256)         0         \n",
      "_________________________________________________________________\n",
      "dropout_3 (Dropout)          (None, 2, 2, 256)         0         \n",
      "_________________________________________________________________\n",
      "conv5.1 (Conv2D)             (None, 2, 2, 256)         590080    \n",
      "_________________________________________________________________\n",
      "conv5.2 (Conv2D)             (None, 2, 2, 256)         590080    \n",
      "_________________________________________________________________\n",
      "batch_normalization_5 (Batch (None, 2, 2, 256)         1024      \n",
      "_________________________________________________________________\n",
      "activation_5 (Activation)    (None, 2, 2, 256)         0         \n",
      "_________________________________________________________________\n",
      "max_pool5 (MaxPooling2D)     (None, 1, 1, 256)         0         \n",
      "_________________________________________________________________\n",
      "dropout_4 (Dropout)          (None, 1, 1, 256)         0         \n",
      "_________________________________________________________________\n",
      "flatten_1 (Flatten)          (None, 256)               0         \n",
      "_________________________________________________________________\n",
      "Dense1 (Dense)               (None, 512)               131584    \n",
      "_________________________________________________________________\n",
      "batch_normalization_6 (Batch (None, 512)               2048      \n",
      "_________________________________________________________________\n",
      "activation_6 (Activation)    (None, 512)               0         \n",
      "_________________________________________________________________\n",
      "dropout_5 (Dropout)          (None, 512)               0         \n",
      "_________________________________________________________________\n",
      "Dense2 (Dense)               (None, 512)               262656    \n",
      "_________________________________________________________________\n",
      "batch_normalization_7 (Batch (None, 512)               2048      \n",
      "_________________________________________________________________\n",
      "activation_7 (Activation)    (None, 512)               0         \n",
      "_________________________________________________________________\n",
      "dropout_6 (Dropout)          (None, 512)               0         \n",
      "_________________________________________________________________\n",
      "Dense_op (Dense)             (None, 1)                 513       \n",
      "=================================================================\n",
      "Total params: 2,744,961\n",
      "Trainable params: 2,741,441\n",
      "Non-trainable params: 3,520\n",
      "_________________________________________________________________\n",
      "Epoch 1/30\n",
      "100/100 [==============================] - 109s 1s/step - loss: 0.5333 - acc: 0.7537 - val_loss: 0.4661 - val_acc: 0.8050\n",
      "Epoch 2/30\n",
      "100/100 [==============================] - 105s 1s/step - loss: 0.3271 - acc: 0.8720 - val_loss: 0.2996 - val_acc: 0.8861\n",
      "Epoch 3/30\n",
      "100/100 [==============================] - 98s 979ms/step - loss: 0.2945 - acc: 0.8859 - val_loss: 0.2501 - val_acc: 0.8988\n",
      "Epoch 4/30\n",
      "100/100 [==============================] - 107s 1s/step - loss: 0.2582 - acc: 0.9016 - val_loss: 0.2640 - val_acc: 0.8956\n",
      "Epoch 5/30\n",
      "100/100 [==============================] - 114s 1s/step - loss: 0.2657 - acc: 0.8872 - val_loss: 0.2935 - val_acc: 0.8888\n",
      "Epoch 6/30\n",
      "100/100 [==============================] - 117s 1s/step - loss: 0.2613 - acc: 0.9003 - val_loss: 0.4321 - val_acc: 0.8063\n",
      "Epoch 7/30\n",
      "100/100 [==============================] - 115s 1s/step - loss: 0.2475 - acc: 0.9050 - val_loss: 0.3638 - val_acc: 0.8598\n",
      "Epoch 8/30\n",
      "100/100 [==============================] - 108s 1s/step - loss: 0.2619 - acc: 0.8944 - val_loss: 0.2327 - val_acc: 0.9062\n",
      "Epoch 9/30\n",
      "100/100 [==============================] - 114s 1s/step - loss: 0.2362 - acc: 0.9053 - val_loss: 0.1991 - val_acc: 0.9206\n",
      "Epoch 10/30\n",
      "100/100 [==============================] - 100s 999ms/step - loss: 0.2226 - acc: 0.9134 - val_loss: 0.2424 - val_acc: 0.9031\n",
      "Epoch 11/30\n",
      "100/100 [==============================] - 109s 1s/step - loss: 0.2256 - acc: 0.9125 - val_loss: 0.2078 - val_acc: 0.9175\n",
      "Epoch 12/30\n",
      "100/100 [==============================] - 101s 1s/step - loss: 0.2156 - acc: 0.9155 - val_loss: 0.1859 - val_acc: 0.9280\n",
      "Epoch 13/30\n",
      "100/100 [==============================] - 98s 978ms/step - loss: 0.2160 - acc: 0.9122 - val_loss: 0.2304 - val_acc: 0.9012\n",
      "Epoch 14/30\n",
      "100/100 [==============================] - 98s 977ms/step - loss: 0.2070 - acc: 0.9206 - val_loss: 0.2004 - val_acc: 0.9294\n",
      "Epoch 15/30\n",
      "100/100 [==============================] - 106s 1s/step - loss: 0.2241 - acc: 0.9047 - val_loss: 0.1812 - val_acc: 0.9269\n",
      "Epoch 16/30\n",
      "100/100 [==============================] - 98s 983ms/step - loss: 0.2333 - acc: 0.9044 - val_loss: 0.2315 - val_acc: 0.9263\n",
      "Epoch 17/30\n",
      "100/100 [==============================] - 97s 974ms/step - loss: 0.2019 - acc: 0.9256 - val_loss: 0.2374 - val_acc: 0.8899\n",
      "Epoch 18/30\n",
      "100/100 [==============================] - 116s 1s/step - loss: 0.2206 - acc: 0.9147 - val_loss: 0.2065 - val_acc: 0.9187\n",
      "Epoch 19/30\n",
      "100/100 [==============================] - 117s 1s/step - loss: 0.2065 - acc: 0.9172 - val_loss: 0.1794 - val_acc: 0.9225\n",
      "Epoch 20/30\n",
      "100/100 [==============================] - 100s 1s/step - loss: 0.2120 - acc: 0.9150 - val_loss: 0.1899 - val_acc: 0.9225\n",
      "Epoch 21/30\n",
      "100/100 [==============================] - 103s 1s/step - loss: 0.2248 - acc: 0.9100 - val_loss: 0.2576 - val_acc: 0.8912\n",
      "Epoch 22/30\n",
      "100/100 [==============================] - 111s 1s/step - loss: 0.2043 - acc: 0.9161 - val_loss: 0.1964 - val_acc: 0.9293\n",
      "Epoch 23/30\n",
      "100/100 [==============================] - 108s 1s/step - loss: 0.1865 - acc: 0.9297 - val_loss: 0.1671 - val_acc: 0.9363\n",
      "Epoch 24/30\n",
      "100/100 [==============================] - 113s 1s/step - loss: 0.2038 - acc: 0.9200 - val_loss: 0.1807 - val_acc: 0.9294\n",
      "Epoch 25/30\n",
      "100/100 [==============================] - 104s 1s/step - loss: 0.2051 - acc: 0.9209 - val_loss: 0.2183 - val_acc: 0.9119\n",
      "Epoch 26/30\n",
      "100/100 [==============================] - 99s 993ms/step - loss: 0.1983 - acc: 0.9144 - val_loss: 0.1662 - val_acc: 0.9363\n",
      "Epoch 27/30\n",
      "100/100 [==============================] - 107s 1s/step - loss: 0.1867 - acc: 0.9237 - val_loss: 0.2479 - val_acc: 0.8992\n",
      "Epoch 28/30\n",
      "100/100 [==============================] - 111s 1s/step - loss: 0.2037 - acc: 0.9172 - val_loss: 0.1879 - val_acc: 0.9244\n",
      "Epoch 29/30\n",
      "100/100 [==============================] - 109s 1s/step - loss: 0.1914 - acc: 0.9219 - val_loss: 0.1717 - val_acc: 0.9337\n",
      "Epoch 30/30\n",
      "100/100 [==============================] - 112s 1s/step - loss: 0.2003 - acc: 0.9228 - val_loss: 0.2061 - val_acc: 0.9150\n",
      "\n",
      "test accuracy: 0.8940625\n",
      "test loss: 0.25049265176057817\n"
     ]
    }
   ],
   "source": [
    "cnn4 = dropout_model()\n",
    "cnn4.summary()\n",
    "\n",
    "# Fit model\n",
    "history = cnn4.fit_generator(\n",
    "    train_generator,\n",
    "    steps_per_epoch=100,\n",
    "    epochs=30,\n",
    "    validation_data=validation_generator,\n",
    "    validation_steps=50,\n",
    "    verbose=1, \n",
    "    callbacks=[TrainValTensorBoard(\"logs\\\\{}\".format(time()), write_graph=True)])\n",
    "\n",
    "test_loss, test_acc = cnn4.evaluate_generator(test_generator, steps=100)\n",
    "print('\\ntest accuracy:', test_acc)\n",
    "print('test loss:', test_loss)"
   ]
  },
  {
   "cell_type": "markdown",
   "metadata": {},
   "source": [
    "# Data Augmentation"
   ]
  },
  {
   "cell_type": "markdown",
   "metadata": {},
   "source": [
    "Trying to get the same accuaracy as the dropout model using lesser number of images and agumenting the data\n",
    "\n",
    "Here we train with 500 images and agument images. We validate with 100 and test with 100 images\n",
    "\n",
    "The model able to give accuracy close to the dropout model with accuracy close to 92%\n",
    "\n",
    "This is a less complicated model than the dropout model and may have some overfitting (as model accuracy increases from 70% to 93%, with test accuracy of 86%) which may need regularization and some addtional hidden layers to get similar accuracies as the droupout model"
   ]
  },
  {
   "cell_type": "code",
   "execution_count": 76,
   "metadata": {},
   "outputs": [
    {
     "name": "stdout",
     "output_type": "stream",
     "text": [
      ".\\port_lscape_small_aug\n"
     ]
    }
   ],
   "source": [
    "# The path to the directory where the original\n",
    "# dataset was uncompressed\n",
    "original_dataset_dir = '.\\\\all'\n",
    "\n",
    "base_dir = os.path.join('.', 'port_lscape_small_aug')\n",
    "if os.path.exists(base_dir) and os.path.isdir(base_dir):\n",
    "    shutil.rmtree(base_dir)\n",
    "print(base_dir)\n"
   ]
  },
  {
   "cell_type": "code",
   "execution_count": 78,
   "metadata": {},
   "outputs": [],
   "source": [
    "# Directories for our training,\n",
    "directories = []\n",
    "\n",
    "# The directory where we will\n",
    "# store our smaller dataset\n",
    "base_dir = './port_lscape_small_aug'\n",
    "directories.append(base_dir)\n",
    "\n",
    "# validation and test splits\n",
    "train_dir = os.path.join(base_dir, 'train')\n",
    "directories.append(train_dir)\n",
    "\n",
    "validation_dir = os.path.join(base_dir, 'validation')\n",
    "directories.append(validation_dir)\n",
    "\n",
    "test_dir = os.path.join(base_dir, 'test')\n",
    "directories.append(test_dir)\n",
    "\n",
    "# Directory with our training cat pictures\n",
    "train_port_dir = os.path.join(train_dir, 'port')\n",
    "directories.append(train_port_dir)\n",
    "\n",
    "# Directory with our training dog pictures\n",
    "train_lscape_dir = os.path.join(train_dir, 'lscape')\n",
    "directories.append(train_lscape_dir)\n",
    "\n",
    "# Directory with our validation cat pictures\n",
    "validation_port_dir = os.path.join(validation_dir, 'port')\n",
    "directories.append(validation_port_dir)\n",
    "\n",
    "# Directory with our validation dog pictures\n",
    "validation_lscape_dir = os.path.join(validation_dir, 'lscape')\n",
    "directories.append(validation_lscape_dir)\n",
    "\n",
    "# Directory with our validation cat pictures\n",
    "test_port_dir = os.path.join(test_dir, 'port')\n",
    "directories.append(test_port_dir)\n",
    "\n",
    "# Directory with our validation dog pictures\n",
    "test_lscape_dir = os.path.join(test_dir, 'lscape')\n",
    "directories.append(test_lscape_dir)\n",
    "\n",
    "# if they have not already been created\n",
    "for dir in directories: \n",
    "    os.mkdir(dir)"
   ]
  },
  {
   "cell_type": "code",
   "execution_count": 79,
   "metadata": {},
   "outputs": [],
   "source": [
    "original_dataset_dir = '.\\\\all\\\\train'\n",
    "\n",
    "fnames_port= art_train.loc[art_train.index.isin(['portrait'])].pic\n",
    "fnames_lscape = art_train.loc[art_train.index.isin(['landscape'])].pic\n",
    "\n",
    "#copy all train portraits to train\\port\n",
    "for fname in fnames_port[1:500]:\n",
    "    src = os.path.join(original_dataset_dir, fname)\n",
    "    dst = os.path.join(train_port_dir, fname)\n",
    "    if os.path.getsize(src) > 0:\n",
    "        shutil.copyfile(src, dst)\n",
    "\n",
    "#copy all train landscapes to train\\lscape\n",
    "for fname in fnames_lscape[1:500]:\n",
    "    src = os.path.join(original_dataset_dir, fname)\n",
    "    dst = os.path.join(train_lscape_dir, fname)\n",
    "    if os.path.getsize(src) > 0:\n",
    "        shutil.copyfile(src, dst)        \n"
   ]
  },
  {
   "cell_type": "code",
   "execution_count": 80,
   "metadata": {},
   "outputs": [],
   "source": [
    "original_dataset_dir = '.\\\\all\\\\test'\n",
    "\n",
    "fnames_port= art_test.loc[art_test.index.isin(['portrait'])].pic\n",
    "fnames_lscape = art_test.loc[art_test.index.isin(['landscape'])].pic\n",
    "\n",
    "#copy all train portraits to train\\port\n",
    "for fname in fnames_port[1:100]:\n",
    "    src = os.path.join(original_dataset_dir, fname)\n",
    "    dst = os.path.join(test_port_dir, fname)\n",
    "    if os.path.getsize(src) > 0:\n",
    "        shutil.copyfile(src, dst)\n",
    "\n",
    "#copy all train landscapes to train\\lscape\n",
    "for fname in fnames_lscape[1:100]:\n",
    "    src = os.path.join(original_dataset_dir, fname)\n",
    "    dst = os.path.join(test_lscape_dir, fname)\n",
    "    if os.path.getsize(src) > 0:\n",
    "        shutil.copyfile(src, dst)\n",
    "        "
   ]
  },
  {
   "cell_type": "code",
   "execution_count": 81,
   "metadata": {},
   "outputs": [],
   "source": [
    "original_dataset_dir = '.\\\\all\\\\validation'\n",
    "\n",
    "fnames_port= art_val.loc[art_val.index.isin(['portrait'])].pic\n",
    "fnames_lscape = art_val.loc[art_val.index.isin(['landscape'])].pic\n",
    "\n",
    "#copy all train portraits to train\\port\n",
    "for fname in fnames_port[1:100]:\n",
    "    src = os.path.join(original_dataset_dir, fname)\n",
    "    dst = os.path.join(validation_port_dir, fname)\n",
    "    if os.path.getsize(src) > 0:\n",
    "        shutil.copyfile(src, dst)\n",
    "\n",
    "#copy all train landscapes to train\\lscape\n",
    "for fname in fnames_lscape[1:100]:\n",
    "    src = os.path.join(original_dataset_dir, fname)\n",
    "    dst = os.path.join(validation_lscape_dir, fname)\n",
    "    if os.path.getsize(src) > 0:\n",
    "        shutil.copyfile(src, dst)\n",
    "        "
   ]
  },
  {
   "cell_type": "code",
   "execution_count": 82,
   "metadata": {},
   "outputs": [
    {
     "name": "stdout",
     "output_type": "stream",
     "text": [
      "\n",
      "Images in ./port_lscape_small_aug\\train\\port:499\n",
      "\n",
      "Images in ./port_lscape_small_aug\\train\\lscape:499\n",
      "\n",
      "Images in ./port_lscape_small_aug\\validation\\port:99\n",
      "\n",
      "Images in ./port_lscape_small_aug\\validation\\lscape:99\n",
      "\n",
      "Images in ./port_lscape_small_aug\\test\\port:99\n",
      "\n",
      "Images in ./port_lscape_small_aug\\test\\lscape:99\n"
     ]
    }
   ],
   "source": [
    "for dir in directories[4:]:\n",
    "    print(\"\\nImages in \" + dir + \":\" + str(len(os.listdir(dir))))"
   ]
  },
  {
   "cell_type": "code",
   "execution_count": 88,
   "metadata": {},
   "outputs": [],
   "source": [
    "## Images are aguments to rotate = 40, shift height and width, shear = 10% and zoom = 30%. Images are also flipped hoizontally\n",
    "\n",
    "datagen = ImageDataGenerator(\n",
    "      rotation_range=40,\n",
    "      width_shift_range=0.2,\n",
    "      height_shift_range=0.2,\n",
    "      shear_range=0.1,\n",
    "      zoom_range=0.3,\n",
    "      horizontal_flip=True,\n",
    "      fill_mode='nearest')"
   ]
  },
  {
   "cell_type": "markdown",
   "metadata": {},
   "source": [
    "# Sample agumented image"
   ]
  },
  {
   "cell_type": "code",
   "execution_count": 84,
   "metadata": {},
   "outputs": [
    {
     "data": {
      "image/png": "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\n",
      "text/plain": [
       "<Figure size 1440x1440 with 1 Axes>"
      ]
     },
     "metadata": {},
     "output_type": "display_data"
    },
    {
     "data": {
      "image/png": "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\n",
      "text/plain": [
       "<Figure size 1440x1440 with 1 Axes>"
      ]
     },
     "metadata": {},
     "output_type": "display_data"
    },
    {
     "data": {
      "image/png": "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\n",
      "text/plain": [
       "<Figure size 1440x1440 with 1 Axes>"
      ]
     },
     "metadata": {},
     "output_type": "display_data"
    },
    {
     "data": {
      "image/png": "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\n",
      "text/plain": [
       "<Figure size 1440x1440 with 1 Axes>"
      ]
     },
     "metadata": {},
     "output_type": "display_data"
    }
   ],
   "source": [
    "# This is module with image preprocessing utilities\n",
    "from keras.preprocessing import image\n",
    "\n",
    "fnames = [os.path.join(train_port_dir, fname) for fname in os.listdir(train_port_dir)]\n",
    "\n",
    "# We pick one image to \"augment\"\n",
    "img_path = fnames[2]\n",
    "\n",
    "# Read the image and resize it\n",
    "img = image.load_img(img_path, target_size=(64, 64))\n",
    "\n",
    "# Convert it to a Numpy array with shape (64, 64, 3)\n",
    "x = image.img_to_array(img)\n",
    "\n",
    "# Reshape it to (1, 64, 64, 3)\n",
    "x = x.reshape((1,) + x.shape)\n",
    "\n",
    "# The .flow() command below generates batches of randomly transformed images.\n",
    "# It will loop indefinitely, so we need to `break` the loop at some point!\n",
    "i = 0\n",
    "for batch in datagen.flow(x, batch_size=1):\n",
    "    plt.figure(i)\n",
    "    imgplot = plt.imshow(image.array_to_img(batch[0]))\n",
    "    i += 1\n",
    "    if i % 4 == 0:\n",
    "        break\n",
    "\n",
    "plt.show()"
   ]
  },
  {
   "cell_type": "code",
   "execution_count": 85,
   "metadata": {},
   "outputs": [
    {
     "name": "stdout",
     "output_type": "stream",
     "text": [
      "Found 998 images belonging to 2 classes.\n",
      "Found 198 images belonging to 2 classes.\n",
      "Found 198 images belonging to 2 classes.\n"
     ]
    }
   ],
   "source": [
    "train_datagen = ImageDataGenerator(\n",
    "    rescale=1./64,\n",
    "    rotation_range=40,\n",
    "    width_shift_range=0.2,\n",
    "    height_shift_range=0.2,\n",
    "    shear_range=0.1,\n",
    "    zoom_range=0.3,\n",
    "    horizontal_flip=True,)\n",
    "\n",
    "# Note that the validation data should not be augmented!\n",
    "test_datagen = ImageDataGenerator(rescale=1./64)\n",
    "\n",
    "# generator for the training data\n",
    "train_generator = train_datagen.flow_from_directory(\n",
    "        # This is the target directory\n",
    "        train_dir,\n",
    "        # All images will be resized to 64x64\n",
    "        target_size=(32, 32),\n",
    "        batch_size=50,    #increasing batch size from 32 to 50\n",
    "        # Since we use binary_crossentropy loss, we need binary labels\n",
    "        class_mode='binary')\n",
    "\n",
    "# generator for the validation data\n",
    "validation_generator = test_datagen.flow_from_directory(\n",
    "        validation_dir,\n",
    "        target_size=(32, 32),\n",
    "        batch_size=50,    #increasing batch size from 32 to 50\n",
    "        class_mode='binary')\n",
    "\n",
    "# generator for the test data\n",
    "test_generator = test_datagen.flow_from_directory(\n",
    "        test_dir_aug,\n",
    "        target_size=(32, 32),\n",
    "        batch_size=20,  # this just makes sure it gets through memory\n",
    "        class_mode='binary')"
   ]
  },
  {
   "cell_type": "code",
   "execution_count": 86,
   "metadata": {},
   "outputs": [
    {
     "name": "stdout",
     "output_type": "stream",
     "text": [
      "_________________________________________________________________\n",
      "Layer (type)                 Output Shape              Param #   \n",
      "=================================================================\n",
      "conv2d_1 (Conv2D)            (None, 32, 32, 32)        896       \n",
      "_________________________________________________________________\n",
      "max_pooling2d_1 (MaxPooling2 (None, 16, 16, 32)        0         \n",
      "_________________________________________________________________\n",
      "conv2d_2 (Conv2D)            (None, 16, 16, 64)        18496     \n",
      "_________________________________________________________________\n",
      "max_pooling2d_2 (MaxPooling2 (None, 8, 8, 64)          0         \n",
      "_________________________________________________________________\n",
      "conv2d_3 (Conv2D)            (None, 8, 8, 128)         73856     \n",
      "_________________________________________________________________\n",
      "max_pooling2d_3 (MaxPooling2 (None, 4, 4, 128)         0         \n",
      "_________________________________________________________________\n",
      "conv2d_4 (Conv2D)            (None, 4, 4, 128)         147584    \n",
      "_________________________________________________________________\n",
      "max_pooling2d_4 (MaxPooling2 (None, 2, 2, 128)         0         \n",
      "_________________________________________________________________\n",
      "flatten_1 (Flatten)          (None, 512)               0         \n",
      "_________________________________________________________________\n",
      "dropout_1 (Dropout)          (None, 512)               0         \n",
      "_________________________________________________________________\n",
      "dense_1 (Dense)              (None, 512)               262656    \n",
      "_________________________________________________________________\n",
      "dense_2 (Dense)              (None, 1)                 513       \n",
      "=================================================================\n",
      "Total params: 504,001\n",
      "Trainable params: 504,001\n",
      "Non-trainable params: 0\n",
      "_________________________________________________________________\n"
     ]
    }
   ],
   "source": [
    "# A network architecture with BN and dropout\n",
    "K.clear_session()\n",
    "\n",
    "def dataaug_model():\n",
    "\n",
    "    model = Sequential()\n",
    "    model.add(Conv2D(32, (3, 3), padding='same', activation='relu',\n",
    "                            input_shape=data_batch.shape[1:]))\n",
    "    model.add(MaxPooling2D((2, 2)))\n",
    "    model.add(Conv2D(64, (3, 3), padding='same', activation='relu'))\n",
    "    model.add(MaxPooling2D((2, 2)))\n",
    "    model.add(Conv2D(128, (3, 3), padding='same', activation='relu'))\n",
    "    model.add(MaxPooling2D((2, 2)))\n",
    "    model.add(Conv2D(128, (3, 3), padding='same', activation='relu'))\n",
    "    model.add(MaxPooling2D((2, 2)))\n",
    "    model.add(Flatten())\n",
    "    model.add(Dropout(0.5))\n",
    "    model.add(Dense(512, activation='relu'))\n",
    "    model.add(Dense(1, activation='sigmoid'))\n",
    "\n",
    "    # Train model\n",
    "\n",
    "    model.compile(Adam(lr=0.001),loss=\"binary_crossentropy\", metrics=[\"accuracy\"])\n",
    "    return model\n",
    "\n",
    "cnn6 = dataaug_model()\n",
    "cnn6.summary()"
   ]
  },
  {
   "cell_type": "code",
   "execution_count": 87,
   "metadata": {},
   "outputs": [
    {
     "name": "stdout",
     "output_type": "stream",
     "text": [
      "Epoch 1/30\n",
      "100/100 [==============================] - 37s 367ms/step - loss: 0.5347 - acc: 0.7377 - val_loss: 0.3948 - val_acc: 0.8340\n",
      "Epoch 2/30\n",
      "100/100 [==============================] - 31s 307ms/step - loss: 0.4135 - acc: 0.8284 - val_loss: 0.3921 - val_acc: 0.8080\n",
      "Epoch 3/30\n",
      "100/100 [==============================] - 34s 337ms/step - loss: 0.3667 - acc: 0.8429 - val_loss: 0.3769 - val_acc: 0.8179\n",
      "Epoch 4/30\n",
      "100/100 [==============================] - 36s 358ms/step - loss: 0.3507 - acc: 0.8467 - val_loss: 0.2970 - val_acc: 0.8654\n",
      "Epoch 5/30\n",
      "100/100 [==============================] - 38s 381ms/step - loss: 0.3373 - acc: 0.8555 - val_loss: 0.2567 - val_acc: 0.8780\n",
      "Epoch 6/30\n",
      "100/100 [==============================] - 38s 384ms/step - loss: 0.3122 - acc: 0.8627 - val_loss: 0.2741 - val_acc: 0.8800\n",
      "Epoch 7/30\n",
      "100/100 [==============================] - 40s 400ms/step - loss: 0.2936 - acc: 0.8736 - val_loss: 0.2693 - val_acc: 0.8732\n",
      "Epoch 8/30\n",
      "100/100 [==============================] - 37s 367ms/step - loss: 0.2832 - acc: 0.8799 - val_loss: 0.2824 - val_acc: 0.8743\n",
      "Epoch 9/30\n",
      "100/100 [==============================] - 37s 374ms/step - loss: 0.2789 - acc: 0.8848 - val_loss: 0.2855 - val_acc: 0.8530\n",
      "Epoch 10/30\n",
      "100/100 [==============================] - 37s 367ms/step - loss: 0.2659 - acc: 0.8864 - val_loss: 0.2769 - val_acc: 0.8646\n",
      "Epoch 11/30\n",
      "100/100 [==============================] - 36s 361ms/step - loss: 0.2615 - acc: 0.8890 - val_loss: 0.2727 - val_acc: 0.8675\n",
      "Epoch 12/30\n",
      "100/100 [==============================] - 35s 355ms/step - loss: 0.2632 - acc: 0.8832 - val_loss: 0.3008 - val_acc: 0.8585\n",
      "Epoch 13/30\n",
      "100/100 [==============================] - 35s 354ms/step - loss: 0.2399 - acc: 0.8976 - val_loss: 0.2918 - val_acc: 0.8728\n",
      "Epoch 14/30\n",
      "100/100 [==============================] - 36s 357ms/step - loss: 0.2340 - acc: 0.9026 - val_loss: 0.2956 - val_acc: 0.8698\n",
      "Epoch 15/30\n",
      "100/100 [==============================] - 38s 383ms/step - loss: 0.2467 - acc: 0.8950 - val_loss: 0.3264 - val_acc: 0.8748\n",
      "Epoch 16/30\n",
      "100/100 [==============================] - 33s 334ms/step - loss: 0.2280 - acc: 0.9012 - val_loss: 0.2775 - val_acc: 0.8581\n",
      "Epoch 17/30\n",
      "100/100 [==============================] - 32s 323ms/step - loss: 0.2272 - acc: 0.9034 - val_loss: 0.3496 - val_acc: 0.8671\n",
      "Epoch 18/30\n",
      "100/100 [==============================] - 31s 306ms/step - loss: 0.2000 - acc: 0.9147 - val_loss: 0.3075 - val_acc: 0.8791\n",
      "Epoch 19/30\n",
      "100/100 [==============================] - 31s 306ms/step - loss: 0.2243 - acc: 0.9083 - val_loss: 0.3716 - val_acc: 0.8582\n",
      "Epoch 20/30\n",
      "100/100 [==============================] - 31s 305ms/step - loss: 0.2220 - acc: 0.9106 - val_loss: 0.2710 - val_acc: 0.8989\n",
      "Epoch 21/30\n",
      "100/100 [==============================] - 31s 312ms/step - loss: 0.2113 - acc: 0.9120 - val_loss: 0.2764 - val_acc: 0.8853\n",
      "Epoch 22/30\n",
      "100/100 [==============================] - 30s 303ms/step - loss: 0.1898 - acc: 0.9218 - val_loss: 0.3119 - val_acc: 0.8529\n",
      "Epoch 23/30\n",
      "100/100 [==============================] - 33s 331ms/step - loss: 0.2005 - acc: 0.9178 - val_loss: 0.3851 - val_acc: 0.8417\n",
      "Epoch 24/30\n",
      "100/100 [==============================] - 30s 296ms/step - loss: 0.1905 - acc: 0.9201 - val_loss: 0.2927 - val_acc: 0.8901\n",
      "Epoch 25/30\n",
      "100/100 [==============================] - 33s 332ms/step - loss: 0.1797 - acc: 0.9232 - val_loss: 0.4257 - val_acc: 0.8457\n",
      "Epoch 26/30\n",
      "100/100 [==============================] - 36s 356ms/step - loss: 0.1962 - acc: 0.9213 - val_loss: 0.4113 - val_acc: 0.8577\n",
      "Epoch 27/30\n",
      "100/100 [==============================] - 30s 304ms/step - loss: 0.1865 - acc: 0.9242 - val_loss: 0.3815 - val_acc: 0.8526\n",
      "Epoch 28/30\n",
      "100/100 [==============================] - 34s 341ms/step - loss: 0.1831 - acc: 0.9256 - val_loss: 0.3750 - val_acc: 0.8642\n",
      "Epoch 29/30\n",
      "100/100 [==============================] - 35s 346ms/step - loss: 0.1726 - acc: 0.9312 - val_loss: 0.3269 - val_acc: 0.8792\n",
      "Epoch 30/30\n",
      "100/100 [==============================] - 32s 316ms/step - loss: 0.1779 - acc: 0.9286 - val_loss: 0.5630 - val_acc: 0.8169\n",
      "\n",
      "test accuracy: 0.868686868205215\n",
      "test loss: 0.2953744109005037\n"
     ]
    }
   ],
   "source": [
    "history = cnn6.fit_generator(\n",
    "    train_generator,\n",
    "    steps_per_epoch=100,\n",
    "    epochs=30,\n",
    "    validation_data=validation_generator,\n",
    "    validation_steps=50,\n",
    "    verbose=1, \n",
    "    callbacks=[TrainValTensorBoard(\"logs\\\\{}\".format(time()), write_graph=True)])\n",
    "\n",
    "test_loss, test_acc = cnn6.evaluate_generator(test_generator, steps=50)\n",
    "print('\\ntest accuracy:', test_acc)\n",
    "print('test loss:', test_loss)"
   ]
  },
  {
   "cell_type": "markdown",
   "metadata": {},
   "source": [
    "## Problem 5 (10 points)\n",
    "\n",
    "Assess your best model on the test data.  Plot the corresponding ROC curve from the results (since we've provided the truth).  This was not directly covered in section, but will require a prediction using images in the same format as the training.  We suggest referring to the Keras API else use a Google to search to find how to make predictions."
   ]
  },
  {
   "cell_type": "markdown",
   "metadata": {},
   "source": [
    "# AUC metrics"
   ]
  },
  {
   "cell_type": "markdown",
   "metadata": {},
   "source": [
    "AUC metrics on the 'dropout' model with accuracy close to 92% shows AUC metrics showing similar average precision at 91% and recall at 89%\n",
    "\n",
    "ROC curve has AUC = 89.9%"
   ]
  },
  {
   "cell_type": "code",
   "execution_count": 41,
   "metadata": {},
   "outputs": [],
   "source": [
    "targets =  ['landscape', 'portrait']\n",
    "\n",
    "def show_confusion_matrix(cm, target_names):\n",
    "    plt.figure(figsize=(5, 5))\n",
    "    plt.imshow(cm, interpolation='nearest', cmap=plt.cm.binary)\n",
    "    plt.title('Confusion matrix')\n",
    "    plt.set_cmap('Blues')\n",
    "    plt.colorbar()\n",
    "    tick_marks = np.arange(len(target_names))\n",
    "    plt.xticks(tick_marks, target_names, rotation=60)\n",
    "    plt.yticks(tick_marks, target_names)\n",
    "    plt.ylabel('True label')\n",
    "    plt.xlabel('Predicted label')\n",
    "    plt.show()"
   ]
  },
  {
   "cell_type": "code",
   "execution_count": 53,
   "metadata": {},
   "outputs": [
    {
     "name": "stdout",
     "output_type": "stream",
     "text": [
      "Found 7379 images belonging to 2 classes.\n",
      "500/500 [==============================] - 125s 250ms/step\n"
     ]
    }
   ],
   "source": [
    "# generator for the test data\n",
    "test_generator = test_datagen.flow_from_directory(\n",
    "        test_dir,\n",
    "        target_size=(32, 32),\n",
    "        batch_size=40,  # this just makes sure it gets through memory\n",
    "        class_mode='binary',\n",
    "        shuffle=False)\n",
    "\n",
    "test_generator.reset()\n",
    "y_probs = cnn4.predict_generator(test_generator, verbose=1, steps=500)\n",
    "y_pred = y_probs >0.5\n",
    "y_test = test_generator.classes"
   ]
  },
  {
   "cell_type": "code",
   "execution_count": 54,
   "metadata": {},
   "outputs": [
    {
     "name": "stdout",
     "output_type": "stream",
     "text": [
      "Accuracy score:  89.35% \n",
      "\n",
      "Classification report: \n",
      "              precision    recall  f1-score   support\n",
      "\n",
      "   landscape       0.82      0.98      0.90      3458\n",
      "    portrait       0.98      0.82      0.89      3921\n",
      "\n",
      "   micro avg       0.89      0.89      0.89      7379\n",
      "   macro avg       0.90      0.90      0.89      7379\n",
      "weighted avg       0.91      0.89      0.89      7379\n",
      "\n",
      "Confusion_matrix: \n",
      " [[3394   64]\n",
      " [ 722 3199]]\n"
     ]
    },
    {
     "data": {
      "image/png": "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\n",
      "text/plain": [
       "<Figure size 360x360 with 2 Axes>"
      ]
     },
     "metadata": {},
     "output_type": "display_data"
    }
   ],
   "source": [
    "score = metrics.accuracy_score(y_test, y_pred[0:7379])\n",
    "print (\"Accuracy score:  {:.2%} \\n\".format(score))\n",
    "\n",
    "print (\"Classification report: \")\n",
    "print(metrics.classification_report(y_test, y_pred[0:7379], target_names=targets))\n",
    "\n",
    "# Print out confusion matrix\n",
    "confusion_matrix = metrics.confusion_matrix(y_test, y_pred[0:7379])\n",
    "print ('Confusion_matrix: \\n', confusion_matrix)\n",
    "show_confusion_matrix(confusion_matrix, targets)"
   ]
  },
  {
   "cell_type": "markdown",
   "metadata": {},
   "source": [
    "# ROC curve"
   ]
  },
  {
   "cell_type": "code",
   "execution_count": 75,
   "metadata": {},
   "outputs": [
    {
     "data": {
      "image/png": "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\n",
      "text/plain": [
       "<Figure size 1440x1440 with 1 Axes>"
      ]
     },
     "metadata": {},
     "output_type": "display_data"
    }
   ],
   "source": [
    "from sklearn.metrics import roc_curve, auc\n",
    "# Compute ROC curve and Area Under the Curve\n",
    "fpr, tpr, thresholds = roc_curve(y_test, y_pred[0:7379])\n",
    "roc_auc = auc(fpr, tpr)\n",
    "\n",
    "plt.plot(fpr, tpr, lw=1, color='green', label='ROC CNN Model (AUC = %0.3f)' % (roc_auc))\n",
    "\n",
    "plt.plot([0, 1], [0, 1], '--', color=(0.6, 0.6, 0.6), label='Luck')\n",
    "\n",
    "plt.xlim([-0.05, 1.05])\n",
    "plt.ylim([-0.05, 1.05])\n",
    "plt.xlabel('False Positive Rate')\n",
    "plt.ylabel('True Positive Rate')\n",
    "plt.title('Receiver operating characteristic example')\n",
    "plt.legend(loc=\"lower right\")\n",
    "plt.show()"
   ]
  },
  {
   "cell_type": "markdown",
   "metadata": {},
   "source": [
    "## Problem 6 (5 points)\n",
    "\n",
    "Display the 5 images [worst] misclassified images for each class.  Worst is in brackets since certain architectures may only make a binary decision rather than a score.  In that case, plot 5 of each."
   ]
  },
  {
   "cell_type": "code",
   "execution_count": 70,
   "metadata": {},
   "outputs": [
    {
     "name": "stdout",
     "output_type": "stream",
     "text": [
      "[[0.00430123]\n",
      " [0.00547599]\n",
      " [0.0061612 ]\n",
      " [0.00443008]\n",
      " [0.00516168]\n",
      " [0.01865905]\n",
      " [0.0039627 ]\n",
      " [0.00440983]\n",
      " [0.00644673]]\n"
     ]
    }
   ],
   "source": [
    "print(np.sort(y_probs)[1:10])"
   ]
  },
  {
   "cell_type": "markdown",
   "metadata": {},
   "source": [
    "## Problem 7 (2 points)\n",
    "How many hours did this homework take you? The answer to this question will not affect your grade."
   ]
  },
  {
   "cell_type": "markdown",
   "metadata": {},
   "source": [
    "12 hrs"
   ]
  },
  {
   "cell_type": "markdown",
   "metadata": {},
   "source": [
    "## Last step (3 points)\n",
    "Save this notebook as LastnameFirstnameHW5.ipynb such as PriceDavid.ipynb. Create a pdf of this notebook named similarly. Submit both the python notebook and the pdf version to the Canvas dropbox. We require both versions."
   ]
  },
  {
   "cell_type": "code",
   "execution_count": null,
   "metadata": {},
   "outputs": [],
   "source": []
  }
 ],
 "metadata": {
  "kernelspec": {
   "display_name": "Python 3",
   "language": "python",
   "name": "python3"
  },
  "language_info": {
   "codemirror_mode": {
    "name": "ipython",
    "version": 3
   },
   "file_extension": ".py",
   "mimetype": "text/x-python",
   "name": "python",
   "nbconvert_exporter": "python",
   "pygments_lexer": "ipython3",
   "version": "3.6.5"
  }
 },
 "nbformat": 4,
 "nbformat_minor": 2
}
